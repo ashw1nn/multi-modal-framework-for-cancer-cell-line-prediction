{
 "cells": [
  {
   "cell_type": "code",
   "execution_count": 1,
   "id": "6fbe11f7",
   "metadata": {},
   "outputs": [],
   "source": [
    "import pandas as pd\n",
    "import requests\n",
    "from tqdm import tqdm"
   ]
  },
  {
   "cell_type": "code",
   "execution_count": 2,
   "id": "5088d3a9",
   "metadata": {},
   "outputs": [],
   "source": [
    "response_df = pd.read_csv(\"dataset/GDSC2_fitted_dose_response_24Jul22.csv\")\n",
    "drug_info_df = pd.read_csv(\"dataset/screened_compounds_rel_8.4.csv\")\n"
   ]
  },
  {
   "cell_type": "code",
   "execution_count": 3,
   "id": "752814eb",
   "metadata": {},
   "outputs": [],
   "source": [
    "merged = pd.merge(response_df, drug_info_df, on=\"DRUG_ID\", how=\"left\")"
   ]
  },
  {
   "cell_type": "code",
   "execution_count": 4,
   "id": "94e1fa46",
   "metadata": {},
   "outputs": [],
   "source": [
    "merged = merged[[\"DRUG_ID\", \"DRUG_NAME_x\", \"CELL_LINE_NAME\", \"LN_IC50\"]]\n",
    "merged.columns = [\"DRUG_ID\", \"DRUG_NAME\", \"CELL_LINE_NAME\", \"LN_IC50\"]"
   ]
  },
  {
   "cell_type": "code",
   "execution_count": 5,
   "id": "c2ba8ee4",
   "metadata": {},
   "outputs": [
    {
     "data": {
      "text/html": [
       "<div>\n",
       "<style scoped>\n",
       "    .dataframe tbody tr th:only-of-type {\n",
       "        vertical-align: middle;\n",
       "    }\n",
       "\n",
       "    .dataframe tbody tr th {\n",
       "        vertical-align: top;\n",
       "    }\n",
       "\n",
       "    .dataframe thead th {\n",
       "        text-align: right;\n",
       "    }\n",
       "</style>\n",
       "<table border=\"1\" class=\"dataframe\">\n",
       "  <thead>\n",
       "    <tr style=\"text-align: right;\">\n",
       "      <th></th>\n",
       "      <th>DRUG_ID</th>\n",
       "      <th>DRUG_NAME</th>\n",
       "      <th>CELL_LINE_NAME</th>\n",
       "      <th>LN_IC50</th>\n",
       "    </tr>\n",
       "  </thead>\n",
       "  <tbody>\n",
       "    <tr>\n",
       "      <th>0</th>\n",
       "      <td>1003</td>\n",
       "      <td>Camptothecin</td>\n",
       "      <td>PFSK-1</td>\n",
       "      <td>-1.462148</td>\n",
       "    </tr>\n",
       "    <tr>\n",
       "      <th>1</th>\n",
       "      <td>1003</td>\n",
       "      <td>Camptothecin</td>\n",
       "      <td>A673</td>\n",
       "      <td>-4.869447</td>\n",
       "    </tr>\n",
       "    <tr>\n",
       "      <th>2</th>\n",
       "      <td>1003</td>\n",
       "      <td>Camptothecin</td>\n",
       "      <td>ES5</td>\n",
       "      <td>-3.360684</td>\n",
       "    </tr>\n",
       "    <tr>\n",
       "      <th>3</th>\n",
       "      <td>1003</td>\n",
       "      <td>Camptothecin</td>\n",
       "      <td>ES7</td>\n",
       "      <td>-5.045014</td>\n",
       "    </tr>\n",
       "    <tr>\n",
       "      <th>4</th>\n",
       "      <td>1003</td>\n",
       "      <td>Camptothecin</td>\n",
       "      <td>EW-11</td>\n",
       "      <td>-3.741620</td>\n",
       "    </tr>\n",
       "    <tr>\n",
       "      <th>...</th>\n",
       "      <td>...</td>\n",
       "      <td>...</td>\n",
       "      <td>...</td>\n",
       "      <td>...</td>\n",
       "    </tr>\n",
       "    <tr>\n",
       "      <th>242031</th>\n",
       "      <td>2499</td>\n",
       "      <td>N-acetyl cysteine</td>\n",
       "      <td>SNU-175</td>\n",
       "      <td>10.134495</td>\n",
       "    </tr>\n",
       "    <tr>\n",
       "      <th>242032</th>\n",
       "      <td>2499</td>\n",
       "      <td>N-acetyl cysteine</td>\n",
       "      <td>SNU-407</td>\n",
       "      <td>8.575555</td>\n",
       "    </tr>\n",
       "    <tr>\n",
       "      <th>242033</th>\n",
       "      <td>2499</td>\n",
       "      <td>N-acetyl cysteine</td>\n",
       "      <td>SNU-61</td>\n",
       "      <td>10.520666</td>\n",
       "    </tr>\n",
       "    <tr>\n",
       "      <th>242034</th>\n",
       "      <td>2499</td>\n",
       "      <td>N-acetyl cysteine</td>\n",
       "      <td>SNU-C5</td>\n",
       "      <td>10.701430</td>\n",
       "    </tr>\n",
       "    <tr>\n",
       "      <th>242035</th>\n",
       "      <td>2499</td>\n",
       "      <td>N-acetyl cysteine</td>\n",
       "      <td>DiFi</td>\n",
       "      <td>10.038769</td>\n",
       "    </tr>\n",
       "  </tbody>\n",
       "</table>\n",
       "<p>242036 rows × 4 columns</p>\n",
       "</div>"
      ],
      "text/plain": [
       "        DRUG_ID          DRUG_NAME CELL_LINE_NAME    LN_IC50\n",
       "0          1003       Camptothecin         PFSK-1  -1.462148\n",
       "1          1003       Camptothecin           A673  -4.869447\n",
       "2          1003       Camptothecin            ES5  -3.360684\n",
       "3          1003       Camptothecin            ES7  -5.045014\n",
       "4          1003       Camptothecin          EW-11  -3.741620\n",
       "...         ...                ...            ...        ...\n",
       "242031     2499  N-acetyl cysteine        SNU-175  10.134495\n",
       "242032     2499  N-acetyl cysteine        SNU-407   8.575555\n",
       "242033     2499  N-acetyl cysteine         SNU-61  10.520666\n",
       "242034     2499  N-acetyl cysteine         SNU-C5  10.701430\n",
       "242035     2499  N-acetyl cysteine           DiFi  10.038769\n",
       "\n",
       "[242036 rows x 4 columns]"
      ]
     },
     "execution_count": 5,
     "metadata": {},
     "output_type": "execute_result"
    }
   ],
   "source": [
    "merged"
   ]
  },
  {
   "cell_type": "code",
   "execution_count": 6,
   "id": "71203dd0",
   "metadata": {},
   "outputs": [],
   "source": [
    "def fetch_smiles_by_name(name):\n",
    "    try:\n",
    "        url = f\"https://pubchem.ncbi.nlm.nih.gov/rest/pug/compound/name/{name}/property/CanonicalSMILES/TXT\"\n",
    "        response = requests.get(url)\n",
    "        if response.status_code == 200:\n",
    "            return response.text.strip()\n",
    "    except:\n",
    "        return None\n",
    "    return None"
   ]
  },
  {
   "cell_type": "code",
   "execution_count": 7,
   "id": "d1ab9e94",
   "metadata": {},
   "outputs": [
    {
     "data": {
      "application/vnd.jupyter.widget-view+json": {
       "model_id": "f72215d9adeb4f41b4d8e019d073baf3",
       "version_major": 2,
       "version_minor": 0
      },
      "text/plain": [
       "HBox(children=(FloatProgress(value=0.0, description='Fetching SMILES', max=286.0, style=ProgressStyle(descript…"
      ]
     },
     "metadata": {},
     "output_type": "display_data"
    },
    {
     "name": "stdout",
     "output_type": "stream",
     "text": [
      "\n"
     ]
    }
   ],
   "source": [
    "from tqdm.notebook import tqdm\n",
    "\n",
    "# Unique drug names only\n",
    "unique_drugs = merged[\"DRUG_NAME\"].dropna().unique()\n",
    "\n",
    "# Fetch once per drug\n",
    "drug2smiles = {}\n",
    "for name in tqdm(unique_drugs, desc=\"Fetching SMILES\"):\n",
    "    drug2smiles[name] = fetch_smiles_by_name(name)\n",
    "\n",
    "# Map back to full DataFrame\n",
    "merged[\"SMILES\"] = merged[\"DRUG_NAME\"].map(drug2smiles)"
   ]
  },
  {
   "cell_type": "code",
   "execution_count": 17,
   "id": "0cb28aea",
   "metadata": {},
   "outputs": [],
   "source": [
    "merged = merged[~merged[\"SMILES\"].isna()]"
   ]
  },
  {
   "cell_type": "code",
   "execution_count": 21,
   "id": "f311e01a",
   "metadata": {},
   "outputs": [],
   "source": [
    "merged.to_csv(\"dataset/GDSC_SMILES_merged.csv\")"
   ]
  },
  {
   "cell_type": "code",
   "execution_count": null,
   "id": "9fe2e831",
   "metadata": {},
   "outputs": [],
   "source": []
  }
 ],
 "metadata": {
  "kernelspec": {
   "display_name": "base",
   "language": "python",
   "name": "python3"
  },
  "language_info": {
   "codemirror_mode": {
    "name": "ipython",
    "version": 3
   },
   "file_extension": ".py",
   "mimetype": "text/x-python",
   "name": "python",
   "nbconvert_exporter": "python",
   "pygments_lexer": "ipython3",
   "version": "3.11.5"
  }
 },
 "nbformat": 4,
 "nbformat_minor": 5
}
