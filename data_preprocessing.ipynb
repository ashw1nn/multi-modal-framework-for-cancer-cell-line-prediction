{
 "cells": [
  {
   "cell_type": "markdown",
   "id": "a852e26c",
   "metadata": {},
   "source": [
    "# This code tries to convert the ENSEMBLE_IDs into GENE symbols"
   ]
  },
  {
   "cell_type": "code",
   "execution_count": null,
   "id": "75b0511b",
   "metadata": {},
   "outputs": [
    {
     "name": "stderr",
     "output_type": "stream",
     "text": [
      "Input sequence provided is already in string format. No operation performed\n",
      "Input sequence provided is already in string format. No operation performed\n",
      "691 input query terms found no hit:\t['ENSG00000005955', 'ENSG00000006075', 'ENSG00000006114', 'ENSG00000017373', 'ENSG00000017621', 'ENS\n"
     ]
    }
   ],
   "source": [
    "import pandas as pd\n",
    "from mygene import MyGeneInfo\n",
    "\n",
    "# Load your expression matrix\n",
    "expr = pd.read_csv(\"dataset/ccle_expression_log.csv\", index_col=0)\n",
    "\n",
    "# Extract Ensembl IDs (strip version if needed)\n",
    "ensembl_ids = [gene.split('.')[0] for gene in expr.index]\n",
    "\n",
    "# Query MyGene for gene symbols\n",
    "mg = MyGeneInfo()\n",
    "query = mg.querymany(ensembl_ids, scopes='ensembl.gene', fields='symbol', species='human')\n",
    "\n",
    "# Create mapping dictionary\n",
    "mapping = {entry['query']: entry.get('symbol') for entry in query if 'symbol' in entry}\n",
    "\n",
    "# Replace Ensembl IDs with gene symbols\n",
    "expr.index = [mapping.get(gene.split('.')[0], gene) for gene in expr.index]\n",
    "\n",
    "# Remove duplicates\n",
    "expr = expr[~expr.index.duplicated(keep='first')]\n",
    "\n",
    "# Save the mapped expression matrix\n",
    "expr.to_csv(\"dataset/ccle_expression_mapped_log.csv\")\n"
   ]
  },
  {
   "cell_type": "code",
   "execution_count": null,
   "id": "dfc190ee",
   "metadata": {},
   "outputs": [],
   "source": []
  }
 ],
 "metadata": {
  "kernelspec": {
   "display_name": "base",
   "language": "python",
   "name": "python3"
  },
  "language_info": {
   "codemirror_mode": {
    "name": "ipython",
    "version": 3
   },
   "file_extension": ".py",
   "mimetype": "text/x-python",
   "name": "python",
   "nbconvert_exporter": "python",
   "pygments_lexer": "ipython3",
   "version": "3.11.5"
  }
 },
 "nbformat": 4,
 "nbformat_minor": 5
}
