{
 "cells": [
  {
   "cell_type": "markdown",
   "id": "d1d2e939",
   "metadata": {},
   "source": [
    "# Generating Graph from the SMILES representation"
   ]
  },
  {
   "cell_type": "code",
   "execution_count": 1,
   "id": "16591856",
   "metadata": {},
   "outputs": [],
   "source": [
    "import numpy as np\n",
    "import pandas as pd\n",
    "\n",
    "from torch_geometric.data import Data\n",
    "import torch\n",
    "\n",
    "from rdkit import Chem\n",
    "from rdkit.Chem import AllChem\n"
   ]
  },
  {
   "cell_type": "code",
   "execution_count": 2,
   "id": "ab8c27ed",
   "metadata": {},
   "outputs": [],
   "source": [
    "df = pd.read_csv(\"dataset/GDSC_SMILES_merged.csv\")\n",
    "df = df.dropna(subset=[\"SMILES\"])\n",
    "drug_smiles = dict(zip(df[\"DRUG_NAME\"], df[\"SMILES\"]))"
   ]
  },
  {
   "cell_type": "code",
   "execution_count": 3,
   "id": "4a8c9221",
   "metadata": {},
   "outputs": [
    {
     "data": {
      "text/plain": [
       "{'Camptothecin': 'CCC1(C2=C(COC1=O)C(=O)N3CC4=CC5=CC=CC=C5N=C4C3=C2)O',\n",
       " 'Vinblastine': 'CCC1(CC2CC(C3=C(CCN(C2)C1)C4=CC=CC=C4N3)(C5=C(C=C6C(=C5)C78CCN9C7C(C=CC9)(C(C(C8N6C)(C(=O)OC)O)OC(=O)C)CC)OC)C(=O)OC)O\\nCCC1(CC2CC(C3=C(CCN(C2)C1)C4=CC=CC=C4N3)(C5=C(C=C6C(=C5)C78CCN9C7C(C=CC9)(C(C(C8N6C)(C(=O)OC)O)OC(=O)C)CC)OC)C(=O)OC)O\\nCCC1(CC2CC(C3=C(CCN(C2)C1)C4=CC=CC=C4N3)(C5=C(C=C6C(=C5)C78CCN9C7C(C=CC9)(C(C(C8N6C)(C(=O)OC)O)OC(=O)C)CC)OC)C(=O)OC)O\\nCCC1(CC2CC(C3=C(CCN(C2)C1)C4=CC=CC=C4N3)(C5=C(C=C6C(=C5)C78CCN9C7C(C=CC9)(C(C(C8N6C)(C(=O)OC)O)OC(=O)C)CC)OC)C(=O)OC)O\\nCCC1(CC2CC(C3=C(CCN(C2)C1)C4=CC=CC=C4N3)(C5=C(C=C6C(=C5)C78CCN9C7C(C=CC9)(C(C(C8N6C)(C(=O)OC)O)OC(=O)C)CC)OC)C(=O)OC)O\\nCCC1(CC2CC(C3=C(CCN(C2)C1)C4=CC=CC=C4N3)(C5=C(C=C6C(=C5)C78CCN9C7C(C=CC9)(C(C(C8N6C)(C(=O)OC)O)OC(=O)C)CC)OC)C(=O)OC)O\\nCCC1(CC2CC(C3=C(CCN(C2)C1)C4=CC=CC=C4N3)(C5=C(C=C6C(=C5)C78CCN9C7C(C=CC9)(C(C(C8N6C)(C(=O)OC)O)OC(=O)C)CC)OC)C(=O)OC)O\\nCCC1(CC2CC(C3=C(CCN(C2)C1)C4=CC=CC=C4N3)(C5=C(C=C6C(=C5)C78CCN9C7C(C=CC9)(C(C(C8N6C)(C(=O)OC)O)OC(=O)C)CC)OC)C(=O)OC)O\\nCCC1(CC2CC(C3=C(CCN(C2)C1)C4=CC=CC=C4N3)(C5=C(C=C6C(=C5)C78CCN9C7C(C=CC9)(C(C(C8N6C)(C(=O)OC)O)OC(=O)C)CC)OC)C(=O)OC)O',\n",
       " 'Cisplatin': 'N.N.Cl[Pt]Cl',\n",
       " 'Cytarabine': 'C1=CN(C(=O)N=C1N)C2C(C(C(O2)CO)O)O',\n",
       " 'Docetaxel': 'CC1=C2C(C(=O)C3(C(CC4C(C3C(C(C2(C)C)(CC1OC(=O)C(C(C5=CC=CC=C5)NC(=O)OC(C)(C)C)O)O)OC(=O)C6=CC=CC=C6)(CO4)OC(=O)C)O)C)O',\n",
       " 'Methotrexate': 'CN(CC1=CN=C2C(=N1)C(=NC(=N2)N)N)C3=CC=C(C=C3)C(=O)NC(CCC(=O)O)C(=O)O',\n",
       " 'Tretinoin': 'CC1=C(C(CCC1)(C)C)C=CC(=CC=CC(=CC(=O)O)C)C',\n",
       " 'Gefitinib': 'COC1=C(C=C2C(=C1)N=CN=C2NC3=CC(=C(C=C3)F)Cl)OCCCN4CCOCC4',\n",
       " 'Navitoclax': 'CC1(CCC(=C(C1)CN2CCN(CC2)C3=CC=C(C=C3)C(=O)NS(=O)(=O)C4=CC(=C(C=C4)NC(CCN5CCOCC5)CSC6=CC=CC=C6)S(=O)(=O)C(F)(F)F)C7=CC=C(C=C7)Cl)C',\n",
       " 'Vorinostat': 'C1=CC=C(C=C1)NC(=O)CCCCCCC(=O)NO',\n",
       " 'Nilotinib': 'CC1=C(C=C(C=C1)C(=O)NC2=CC(=CC(=C2)C(F)(F)F)N3C=C(N=C3)C)NC4=NC=CC(=N4)C5=CN=CC=C5',\n",
       " 'Refametinib': 'COC1=CC(=C(C(=C1NS(=O)(=O)C2(CC2)CC(CO)O)NC3=C(C=C(C=C3)I)F)F)F',\n",
       " 'Temsirolimus': 'CC1CCC2CC(C(=CC=CC=CC(CC(C(=O)C(C(C(=CC(C(=O)CC(OC(=O)C3CCCCN3C(=O)C(=O)C1(O2)O)C(C)CC4CCC(C(C4)OC)OC(=O)C(C)(CO)CO)C)C)O)OC)C)C)C)OC\\nCC1CCC2CC(C(=CC=CC=CC(CC(C(=O)C(C(C(=CC(C(=O)CC(OC(=O)C3CCCCN3C(=O)C(=O)C1(O2)O)C(C)CC4CCC(C(C4)OC)OC(=O)C(C)(CO)CO)C)C)O)OC)C)C)C)OC\\nCC1CCC2CC(C(=CC=CC=CC(CC(C(=O)C(C(C(=CC(C(=O)CC(OC(=O)C3CCCCN3C(=O)C(=O)C1(O2)O)C(C)CC4CCC(C(C4)OC)OC(=O)C(C)(CO)CO)C)C)O)OC)C)C)C)OC\\nCC1CCC2CC(C(=CC=CC=CC(CC(C(=O)C(C(C(=CC(C(=O)CC(OC(=O)C3CCCCN3C(=O)C(=O)C1(O2)O)C(C)CC4CCC(C(C4)OC)OC(=O)C(C)(CO)CO)C)C)O)OC)C)C)C)OC\\nCC1CCC2CC(C(=CC=CC=CC(CC(C(=O)C(C(C(=CC(C(=O)CC(OC(=O)C3CCCCN3C(=O)C(=O)C1(O2)O)C(C)CC4CCC(C(C4)OC)OC(=O)C(C)(CO)CO)C)C)O)OC)C)C)C)OC\\nCC1CCC2CC(C(=CC=CC=CC(CC(C(=O)C(C(C(=CC(C(=O)CC(OC(=O)C3CCCCN3C(=O)C(=O)C1(O2)O)C(C)CC4CCC(C(C4)OC)OC(=O)C(C)(CO)CO)C)C)O)OC)C)C)C)OC\\nCC1CCC2CC(C(=CC=CC=CC(CC(C(=O)C(C(C(=CC(C(=O)CC(OC(=O)C3CCCCN3C(=O)C(=O)C1(O2)O)C(C)CC4CCC(C(C4)OC)OC(=O)C(C)(CO)CO)C)C)O)OC)C)C)C)OC\\nCC1CCC2CC(C(=CC=CC=CC(CC(C(=O)C(C(C(=CC(C(=O)CC(OC(=O)C3CCCCN3C(=O)C(=O)C1(O2)O)C(C)CC4CCC(C(C4)OC)OC(=O)C(C)(CO)CO)C)C)O)OC)C)C)C)OC\\nCC1CCC2CC(C(=CC=CC=CC(CC(C(=O)C(C(C(=CC(C(=O)CC(OC(=O)C3CCCCN3C(=O)C(=O)C1(O2)O)C(C)CC4CCC(C(C4)OC)OC(=O)C(C)(CO)CO)C)C)O)OC)C)C)C)OC\\nCC1CCC2CC(C(=CC=CC=CC(CC(C(=O)C(C(C(=CC(C(=O)CC(OC(=O)C3CCCCN3C(=O)C(=O)C1(O2)O)C(C)CC4CCC(C(C4)OC)OC(=O)C(C)(CO)CO)C)C)O)OC)C)C)C)OC\\nCC1CCC2CC(C(=CC=CC=CC(CC(C(=O)C(C(C(=CC(C(=O)CC(OC(=O)C3CCCCN3C(=O)C(=O)C1(O2)O)C(C)CC4CCC(C(C4)OC)OC(=O)C(C)(CO)CO)C)C)O)OC)C)C)C)OC\\nCC1CCC2CC(C(=CC=CC=CC(CC(C(=O)C(C(C(=CC(C(=O)CC(OC(=O)C3CCCCN3C(=O)C(=O)C1(O2)O)C(C)CC4CCC(C(C4)OC)OC(=O)C(C)(CO)CO)C)C)O)OC)C)C)C)OC\\nCC1CCC2CC(C(=CC=CC=CC(CC(C(=O)C(C(C(=CC(C(=O)CC(OC(=O)C3CCCCN3C(=O)C(=O)C1(O2)O)C(C)CC4CCC(C(C4)OC)OC(=O)C(C)(CO)CO)C)C)O)OC)C)C)C)OC\\nCC1CCC2CC(C(=CC=CC=CC(CC(C(=O)C(C(C(=CC(C(=O)CC(OC(=O)C3CCCCN3C(=O)C(=O)C1(O2)O)C(C)CC4CCC(C(C4)OC)OC(=O)C(C)(CO)CO)C)C)O)OC)C)C)C)OC\\nCC1CCC2CC(C(=CC=CC=CC(CC(C(=O)C(C(C(=CC(C(=O)CC(OC(=O)C3CCCCN3C(=O)C(=O)C1(O2)O)C(C)CC4CCC(C(C4)OC)OC(=O)C(C)(CO)CO)C)C)O)OC)C)C)C)OC\\nCC1CCC2CC(C(=CC=CC=CC(CC(C(=O)C(C(C(=CC(C(=O)CC(OC(=O)C3CCCCN3C(=O)C(=O)C1(O2)O)C(C)CC4CCC(C(C4)OC)OC(=O)C(C)(CO)CO)C)C)O)OC)C)C)C)OC\\nCC1CCC2CC(C(=CC=CC=CC(CC(C(=O)C(C(C(=CC(C(=O)CC(OC(=O)C3CCCCN3C(=O)C(=O)C1(O2)O)C(C)CC4CCC(C(C4)OC)OC(=O)C(C)(CO)CO)C)C)O)OC)C)C)C)OC',\n",
       " 'Olaparib': 'C1CC1C(=O)N2CCN(CC2)C(=O)C3=C(C=CC(=C3)CC4=NNC(=O)C5=CC=CC=C54)F',\n",
       " 'Veliparib': 'CC1(CCCN1)C2=NC3=C(C=CC=C3N2)C(=O)N',\n",
       " 'Bosutinib': 'CN1CCN(CC1)CCCOC2=C(C=C3C(=C2)N=CC(=C3NC4=CC(=C(C=C4Cl)Cl)OC)C#N)OC',\n",
       " 'Lenalidomide': 'C1CC(=O)NC(=O)C1N2CC3=C(C2=O)C=CC=C3N',\n",
       " 'Axitinib': 'CNC(=O)C1=CC=CC=C1SC2=CC3=C(C=C2)C(=NN3)C=CC4=CC=CC=N4',\n",
       " 'AZD7762': 'C1CC(CNC1)NC(=O)C2=C(C=C(S2)C3=CC(=CC=C3)F)NC(=O)N',\n",
       " 'GW441756': 'CN1C=C(C2=CC=CC=C21)C=C3C4=C(C=CC=N4)NC3=O\\nCN1C=C(C2=CC=CC=C21)C=C3C4=C(C=CC=N4)NC3=O\\nCN1C=C(C2=CC=CC=C21)C=C3C4=C(C=CC=N4)NC3=O',\n",
       " 'Lestaurtinib': 'CC12C(CC(O1)N3C4=CC=CC=C4C5=C6C(=C7C8=CC=CC=C8N2C7=C53)CNC6=O)(CO)O',\n",
       " 'SB216763': 'CN1C=C(C2=CC=CC=C21)C3=C(C(=O)NC3=O)C4=C(C=C(C=C4)Cl)Cl',\n",
       " 'Tanespimycin': 'CC1CC(C(C(C=C(C(C(C=CC=C(C(=O)NC2=CC(=O)C(=C(C1)C2=O)NCC=C)C)OC)OC(=O)N)C)C)O)OC',\n",
       " 'Motesanib': 'CC1(CNC2=C1C=CC(=C2)NC(=O)C3=C(N=CC=C3)NCC4=CC=NC=C4)C',\n",
       " 'KU-55933': 'C1COCCN1C2=CC(=O)C=C(O2)C3=C4C(=CC=C3)SC5=CC=CC=C5S4',\n",
       " 'Elesclomol': 'CN(C(=S)C1=CC=CC=C1)NC(=O)CC(=O)NN(C)C(=S)C2=CC=CC=C2',\n",
       " 'Afatinib': 'CN(C)CC=CC(=O)NC1=C(C=C2C(=C1)C(=NC=N2)NC3=CC(=C(C=C3)F)Cl)OC4CCOC4',\n",
       " 'Vismodegib': 'CS(=O)(=O)C1=CC(=C(C=C1)C(=O)NC2=CC(=C(C=C2)Cl)C3=CC=CC=N3)Cl',\n",
       " 'Staurosporine': 'CC12C(C(CC(O1)N3C4=CC=CC=C4C5=C6C(=C7C8=CC=CC=C8N2C7=C53)CNC6=O)NC)OC\\nCC12C(C(CC(O1)N3C4=CC=CC=C4C5=C6C(=C7C8=CC=CC=C8N2C7=C53)CNC6=O)NC)OC\\nCC12C(C(CC(O1)N3C4=CC=CC=C4C5=C6C(=C7C8=CC=CC=C8N2C7=C53)CNC6=O)NC)OC\\nCC12C(C(CC(O1)N3C4=CC=CC=C4C5=C6C(=C7C8=CC=CC=C8N2C7=C53)CNC6=O)NC)OC\\nCC12C(C(CC(O1)N3C4=CC=CC=C4C5=C6C(=C7C8=CC=CC=C8N2C7=C53)CNC6=O)NC)OC\\nCC12C(C(CC(O1)N3C4=CC=CC=C4C5=C6C(=C7C8=CC=CC=C8N2C7=C53)CNC6=O)NC)OC\\nCC12C(C(CC(O1)N3C4=CC=CC=C4C5=C6C(=C7C8=CC=CC=C8N2C7=C53)CNC6=O)NC)OC\\nCC12C(C(CC(O1)N3C4=CC=CC=C4C5=C6C(=C7C8=CC=CC=C8N2C7=C53)CNC6=O)NC)OC\\nCC12C(C(CC(O1)N3C4=CC=CC=C4C5=C6C(=C7C8=CC=CC=C8N2C7=C53)CNC6=O)NC)OC\\nCC12C(C(CC(O1)N3C4=CC=CC=C4C5=C6C(=C7C8=CC=CC=C8N2C7=C53)CNC6=O)NC)OC\\nCC12C(C(CC(O1)N3C4=CC=CC=C4C5=C6C(=C7C8=CC=CC=C8N2C7=C53)CNC6=O)NC)OC\\nCC12C(C(CC(O1)N3C4=CC=CC=C4C5=C6C(=C7C8=CC=CC=C8N2C7=C53)CNC6=O)NC)OC\\nCC12C(C(CC(O1)N3C4=CC=CC=C4C5=C6C(=C7C8=CC=CC=C8N2C7=C53)CNC6=O)NC)OC\\nCC12C(C(CC(O1)N3C4=CC=CC=C4C5=C6C(=C7C8=CC=CC=C8N2C7=C53)CNC6=O)NC)OC',\n",
       " 'PLX-4720': 'CCCS(=O)(=O)NC1=C(C(=C(C=C1)F)C(=O)C2=CNC3=C2C=C(C=N3)Cl)F',\n",
       " 'BX795': 'C1CCN(C1)C(=O)NC2=CC=CC(=C2)NC3=NC=C(C(=N3)NCCCNC(=O)C4=CC=CS4)I',\n",
       " 'NU7441': 'C1COCCN1C2=CC(=O)C3=C(O2)C(=CC=C3)C4=CC=CC5=C4SC6=CC=CC=C56',\n",
       " 'SL0101': 'CC1C(C(C(C(O1)OC2=C(OC3=CC(=CC(=C3C2=O)O)O)C4=CC=C(C=C4)O)O)OC(=O)C)OC(=O)C',\n",
       " 'Doramapimod': 'CC1=CC=C(C=C1)N2C(=CC(=N2)C(C)(C)C)NC(=O)NC3=CC=C(C4=CC=CC=C43)OCCN5CCOCC5',\n",
       " 'JNK Inhibitor VIII': 'CCOC1=C(C(=CC(=N1)NC(=O)CC2=C(C=CC(=C2)OC)OC)N)C#N',\n",
       " 'Wee1 Inhibitor': 'C1=CC=C(C(=C1)C2=CC3=C(C4=C(N3)C=CC(=C4)O)C5=C2C(=O)NC5=O)Cl',\n",
       " 'Mirin': 'C1=CC(=CC=C1C=C2C(=O)N=C(S2)N)O',\n",
       " 'PD173074': 'CCN(CC)CCCCNC1=NC2=NC(=C(C=C2C=N1)C3=CC(=CC(=C3)OC)OC)NC(=O)NC(C)(C)C',\n",
       " 'ZM447439': 'COC1=C(C=C2C(=C1)C(=NC=N2)NC3=CC=C(C=C3)NC(=O)C4=CC=CC=C4)OCCCN5CCOCC5',\n",
       " 'Alisertib': 'COC1=C(C(=CC=C1)F)C2=NCC3=CN=C(N=C3C4=C2C=C(C=C4)Cl)NC5=CC(=C(C=C5)C(=O)O)OC',\n",
       " 'RO-3306': 'C1=CC2=C(C=CC(=C2)C=C3C(=O)NC(=NCC4=CC=CS4)S3)N=C1',\n",
       " 'MK-2206': 'C1CC(C1)(C2=CC=C(C=C2)C3=C(C=C4C(=N3)C=CN5C4=NNC5=O)C6=CC=CC=C6)N',\n",
       " 'Palbociclib': 'CC1=C(C(=O)N(C2=NC(=NC=C12)NC3=NC=C(C=C3)N4CCNCC4)C5CCCC5)C(=O)C',\n",
       " 'Dactolisib': 'CC(C)(C#N)C1=CC=C(C=C1)N2C3=C4C=C(C=CC4=NC=C3N(C2=O)C)C5=CC6=CC=CC=C6N=C5',\n",
       " 'Pictilisib': 'CS(=O)(=O)N1CCN(CC1)CC2=CC3=C(S2)C(=NC(=N3)C4=C5C=NNC5=CC=C4)N6CCOCC6',\n",
       " 'AZD8055': 'CC1COCCN1C2=NC(=NC3=C2C=CC(=N3)C4=CC(=C(C=C4)OC)CO)N5CCOCC5C',\n",
       " 'PD0325901': 'C1=CC(=C(C=C1I)F)NC2=C(C=CC(=C2F)F)C(=O)NOCC(CO)O',\n",
       " 'SB590885': 'CN(C)CCOC1=CC=C(C=C1)C2=NC(=C(N2)C3=CC=NC=C3)C4=CC5=C(C=C4)C(=NO)CC5\\nCN(C)CCOC1=CC=C(C=C1)C2=NC(=C(N2)C3=CC=NC=C3)C4=CC5=C(C=C4)C(=NO)CC5\\nCN(C)CCOC1=CC=C(C=C1)C2=NC(=C(N2)C3=CC=NC=C3)C4=CC5=C(C=C4)C(=NO)CC5',\n",
       " 'Selumetinib': 'CN1C=NC2=C1C=C(C(=C2F)NC3=C(C=C(C=C3)Br)Cl)C(=O)NOCCO',\n",
       " 'CCT007093': 'C1CC(=CC2=CC=CS2)C(=O)C1=CC3=CC=CS3',\n",
       " 'Obatoclax Mesylate': 'CC1=CC(=C(N1)C=C2C(=CC(=C3C=C4C=CC=CC4=N3)N2)OC)C.CS(=O)(=O)O\\nCC1=CC(=C(N1)C=C2C(=CC(=C3C=C4C=CC=CC4=N3)N2)OC)C.CS(=O)(=O)O\\nCC1=CC(=C(N1)C=C2C(=CC(=C3C=C4C=CC=CC4=N3)N2)OC)C.CS(=O)(=O)O\\nCC1=CC(=C(N1)C=C2C(=CC(=C3C=C4C=CC=CC4=N3)N2)OC)C.CS(=O)(=O)O\\nCC1=CC(=C(N1)C=C2C(=CC(=C3C=C4C=CC=CC4=N3)N2)OC)C.CS(=O)(=O)O\\nCC1=CC(=C(N1)C=C2C(=CC(=C3C=C4C=CC=CC4=N3)N2)OC)C.CS(=O)(=O)O\\nCC1=CC(=C(N1)C=C2C(=CC(=C3C=C4C=CC=CC4=N3)N2)OC)C.CS(=O)(=O)O\\nCC1=CC(=C(N1)C=C2C(=CC(=C3C=C4C=CC=CC4=N3)N2)OC)C.CS(=O)(=O)O',\n",
       " 'EHT-1864': 'C1COCCN1CC2=CC(=O)C(=CO2)OCCCCCSC3=C4C=CC(=CC4=NC=C3)C(F)(F)F.Cl.Cl\\nC1COCCN1CC2=CC(=O)C(=CO2)OCCCCCSC3=C4C=CC(=CC4=NC=C3)C(F)(F)F',\n",
       " 'Avagacestat': 'C1=CC(=CC=C1S(=O)(=O)N(CC2=C(C=C(C=C2)C3=NOC=N3)F)C(CCC(F)(F)F)C(=O)N)Cl',\n",
       " '5-Fluorouracil': 'C1=C(C(=O)NC(=O)N1)F',\n",
       " 'Dasatinib': 'CC1=C(C(=CC=C1)Cl)NC(=O)C2=CN=C(S2)NC3=CC(=NC(=N3)C)N4CCN(CC4)CCO',\n",
       " 'Paclitaxel': 'CC1=C2C(C(=O)C3(C(CC4C(C3C(C(C2(C)C)(CC1OC(=O)C(C(C5=CC=CC=C5)NC(=O)C6=CC=CC=C6)O)O)OC(=O)C7=CC=CC=C7)(CO4)OC(=O)C)O)C)OC(=O)C',\n",
       " 'Crizotinib': 'CC(C1=C(C=CC(=C1Cl)F)Cl)OC2=C(N=CC(=C2)C3=CN(N=C3)C4CCNCC4)N',\n",
       " 'Rapamycin': 'CC1CCC2CC(C(=CC=CC=CC(CC(C(=O)C(C(C(=CC(C(=O)CC(OC(=O)C3CCCCN3C(=O)C(=O)C1(O2)O)C(C)CC4CCC(C(C4)OC)O)C)C)O)OC)C)C)C)OC',\n",
       " 'Sorafenib': 'CNC(=O)C1=NC=CC(=C1)OC2=CC=C(C=C2)NC(=O)NC3=CC(=C(C=C3)Cl)C(F)(F)F',\n",
       " 'BI-2536': 'CCC1C(=O)N(C2=CN=C(N=C2N1C3CCCC3)NC4=C(C=C(C=C4)C(=O)NC5CCN(CC5)C)OC)C',\n",
       " 'Irinotecan': 'CCC1=C2CN3C(=CC4=C(C3=O)COC(=O)C4(CC)O)C2=NC5=C1C=C(C=C5)OC(=O)N6CCC(CC6)N7CCCCC7',\n",
       " 'Oxaliplatin': 'C1CCC(C(C1)[NH-])[NH-].C(=O)(C(=O)O)O.[Pt+2]',\n",
       " 'BMS-536924': 'CC1=CC(=CC2=C1N=C(N2)C3=C(C=CNC3=O)NCC(C4=CC(=CC=C4)Cl)O)N5CCOCC5',\n",
       " 'GSK1904529A': 'CCC1=CC(=C(C=C1N2CCC(CC2)N3CCN(CC3)S(=O)(=O)C)OC)NC4=NC=CC(=N4)C5=C(N=C6N5C=CC=C6)C7=CC(=C(C=C7)OC)C(=O)NC8=C(C=CC=C8F)F',\n",
       " 'Tozasertib': 'CC1=CC(=NN1)NC2=CC(=NC(=N2)SC3=CC=C(C=C3)NC(=O)C4CC4)N5CCN(CC5)C',\n",
       " 'PF-4708671': 'CCC1=CN=CN=C1N2CCN(CC2)CC3=NC4=C(N3)C=C(C=C4)C(F)(F)F',\n",
       " 'PRIMA-1MET': 'COCC1(C(=O)C2CCN1CC2)CO',\n",
       " 'Serdemetan': 'C1=CC=C2C(=C1)C(=CN2)CCNC3=CC=C(C=C3)NC4=CC=NC=C4',\n",
       " 'TW 37': 'CC(C)C1=CC=CC=C1CC2=CC(=C(C(=C2O)O)O)C(=O)NC3=CC=C(C=C3)S(=O)(=O)C4=CC=CC=C4C(C)(C)C',\n",
       " 'Erlotinib': 'COCCOC1=C(C=C2C(=C1)C(=NC=N2)NC3=CC=CC(=C3)C#C)OCCOC',\n",
       " 'CCT-018159': 'CCC1=CC(=C(C=C1O)O)C2=NNC(=C2C3=CC4=C(C=C3)OCCO4)C',\n",
       " 'Rucaparib': 'CNCC1=CC=C(C=C1)C2=C3CCNC(=O)C4=C3C(=CC(=C4)F)N2',\n",
       " 'Niraparib': 'C1CC(CNC1)C2=CC=C(C=C2)N3C=C4C=CC=C(C4=N3)C(=O)N',\n",
       " 'MK-1775': 'CC(C)(C1=NC(=CC=C1)N2C3=NC(=NC=C3C(=O)N2CC=C)NC4=CC=C(C=C4)N5CCN(CC5)C)O',\n",
       " 'Dinaciclib': 'CCC1=C2N=C(C=C(N2N=C1)NCC3=C[N+](=CC=C3)[O-])N4CCCCC4CCO',\n",
       " 'Gemcitabine': 'C1=CN(C(=O)N=C1N)C2C(C(C(O2)CO)O)(F)F',\n",
       " 'Bortezomib': 'B(C(CC(C)C)NC(=O)C(CC1=CC=CC=C1)NC(=O)C2=NC=CN=C2)(O)O',\n",
       " 'GSK269962A': 'CCN1C2=CC(=NC=C2N=C1C3=NON=C3N)OC4=CC=CC(=C4)NC(=O)C5=CC=C(C=C5)OCCN6CCOCC6',\n",
       " 'SB505124': 'CC1=NC(=CC=C1)C2=C(N=C(N2)C(C)(C)C)C3=CC4=C(C=C3)OCO4',\n",
       " 'Tamoxifen': 'CCC(=C(C1=CC=CC=C1)C2=CC=C(C=C2)OCCN(C)C)C3=CC=CC=C3',\n",
       " 'Fulvestrant': 'CC12CCC3C(C1CCC2O)C(CC4=C3C=CC(=C4)O)CCCCCCCCCS(=O)CCCC(C(F)(F)F)(F)F',\n",
       " 'EPZ004777': 'CC(C)N(CCCNC(=O)NC1=CC=C(C=C1)C(C)(C)C)CC2C(C(C(O2)N3C=CC4=C(N=CN=C43)N)O)O',\n",
       " 'YK-4-279': 'COC1=CC=C(C=C1)C(=O)CC2(C3=C(C=CC(=C3NC2=O)Cl)Cl)O',\n",
       " 'Piperlongumine': 'COC1=CC(=CC(=C1OC)OC)C=CC(=O)N2CCC=CC2=O',\n",
       " 'Daporinad': 'C1CN(CCC1CCCCNC(=O)C=CC2=CN=CC=C2)C(=O)C3=CC=CC=C3',\n",
       " 'BMS-345541': 'CC1=CC2=C(C=C1)N=C(C3=NC=C(N23)C)NCCN.Cl\\nCC1=CC2=C(C=C1)N=C(C3=NC=C(N23)C)NCCN',\n",
       " 'AZ960': 'CC1=CC(=NN1)NC2=C(C=C(C(=N2)NC(C)C3=CC=C(C=C3)F)C#N)F',\n",
       " 'Talazoparib': 'CN1C(=NC=N1)C2C(NC3=CC(=CC4=C3C2=NNC4=O)F)C5=CC=C(C=C5)F',\n",
       " 'XAV939': 'C1CSCC2=C1N=C(NC2=O)C3=CC=C(C=C3)C(F)(F)F',\n",
       " 'Trametinib': 'CC1=C2C(=C(N(C1=O)C)NC3=C(C=C(C=C3)I)F)C(=O)N(C(=O)N2C4=CC=CC(=C4)NC(=O)C)C5CC5',\n",
       " 'Dabrafenib': 'CC(C)(C)C1=NC(=C(S1)C2=NC(=NC=C2)N)C3=C(C(=CC=C3)NS(=O)(=O)C4=C(C=CC=C4F)F)F',\n",
       " 'Temozolomide': 'CN1C(=O)N2C=NC(=C2N=N1)C(=O)N',\n",
       " 'AZD5438': 'CC1=NC=C(N1C(C)C)C2=NC(=NC=C2)NC3=CC=C(C=C3)S(=O)(=O)C',\n",
       " 'AZD2014': 'CC1COCCN1C2=NC(=NC3=C2C=CC(=N3)C4=CC(=CC=C4)C(=O)NC)N5CCOCC5C',\n",
       " 'AZD1208': 'C1CC(CN(C1)C2=C(C=CC=C2C3=CC=CC=C3)C=C4C(=O)NC(=O)S4)N',\n",
       " 'AZD1332': 'CC(C)OC1=NNC(=C1)NC2=NC(=NC=C2Cl)NC(C)C3=NC=C(C=C3)F',\n",
       " 'SN-38': 'CCC1=C2CN3C(=CC4=C(C3=O)COC(=O)C4(CC)O)C2=NC5=C1C=C(C=C5)O',\n",
       " 'Bicalutamide': 'CC(CS(=O)(=O)C1=CC=C(C=C1)F)(C(=O)NC2=CC(=C(C=C2)C#N)C(F)(F)F)O',\n",
       " 'Ruxolitinib': 'C1CCC(C1)C(CC#N)N2C=C(C=N2)C3=C4C=CNC4=NC=N3',\n",
       " 'Linsitinib': 'CC1(CC(C1)C2=NC(=C3N2C=CN=C3N)C4=CC5=C(C=C4)C=CC(=N5)C6=CC=CC=C6)O',\n",
       " 'Epirubicin': 'CC1C(C(CC(O1)OC2CC(CC3=C2C(=C4C(=C3O)C(=O)C5=C(C4=O)C(=CC=C5)OC)O)(C(=O)CO)O)N)O',\n",
       " 'Cyclophosphamide': 'C1CNP(=O)(OC1)N(CCCl)CCCl',\n",
       " 'Pevonedistat': 'C1CC2=CC=CC=C2C1NC3=C4C=CN(C4=NC=N3)C5CC(C(C5)O)COS(=O)(=O)N',\n",
       " 'Sapitinib': 'CNC(=O)CN1CCC(CC1)OC2=C(C=C3C(=C2)C(=NC=N3)NC4=C(C(=CC=C4)Cl)F)OC',\n",
       " 'Uprosertib': 'CN1C(=C(C=N1)Cl)C2=C(OC(=C2)C(=O)NC(CC3=CC(=C(C=C3)F)F)CN)Cl',\n",
       " 'LCL161': 'CC(C(=O)NC(C1CCCCC1)C(=O)N2CCCC2C3=NC(=CS3)C(=O)C4=CC=C(C=C4)F)NC',\n",
       " 'Lapatinib': 'CS(=O)(=O)CCNCC1=CC=C(O1)C2=CC3=C(C=C2)N=CN=C3NC4=CC(=C(C=C4)OCC5=CC(=CC=C5)F)Cl',\n",
       " 'Luminespib': 'CCNC(=O)C1=NOC(=C1C2=CC=C(C=C2)CN3CCOCC3)C4=CC(=C(C=C4O)O)C(C)C',\n",
       " 'Alpelisib': 'CC1=C(SC(=N1)NC(=O)N2CCCC2C(=O)N)C3=CC(=NC=C3)C(C)(C)C(F)(F)F',\n",
       " 'Taselisib': 'CC1=NN(C(=N1)C2=CN3CCOC4=C(C3=N2)C=CC(=C4)C5=CN(N=C5)C(C)(C)C(=O)N)C(C)C',\n",
       " 'EPZ5676': 'CC(C)N(CC1C(C(C(O1)N2C=NC3=C(N=CN=C32)N)O)O)C4CC(C4)CCC5=NC6=C(N5)C=C(C=C6)C(C)(C)C',\n",
       " 'SCH772984': 'C1CN(CC1C(=O)NC2=CC3=C(C=C2)NN=C3C4=CC=NC=C4)CC(=O)N5CCN(CC5)C6=CC=C(C=C6)C7=NC=CC=N7',\n",
       " 'IWP-2': 'CC1=CC2=C(C=C1)N=C(S2)NC(=O)CSC3=NC4=C(C(=O)N3C5=CC=CC=C5)SCC4',\n",
       " 'Leflunomide': 'CC1=C(C=NO1)C(=O)NC2=CC=C(C=C2)C(F)(F)F',\n",
       " 'GSK2801': 'CCCOC1=CC2=C(C=C(N2C=C1)C(=O)C)C3=CC=CC=C3S(=O)(=O)C',\n",
       " 'Bromosporine': 'CCOC(=O)NC1=CC(=NN2C1=NN=C2C)C3=CC(=C(C=C3)C)NS(=O)(=O)C',\n",
       " 'SGC-CBP30': 'CC1=C(C(=NO1)C)C2=CC3=C(C=C2)N(C(=N3)CCC4=CC(=C(C=C4)OC)Cl)CC(C)N5CCOCC5',\n",
       " 'GSK-LSD1': 'C1CNCCC1NC2CC2C3=CC=CC=C3',\n",
       " 'Entinostat': 'C1=CC=C(C(=C1)N)NC(=O)C2=CC=C(C=C2)CNC(=O)OCC3=CN=CC=C3',\n",
       " 'OSI-027': 'COC1=CC=CC2=C1NC(=C2)C3=C4C(=NC=NN4C(=N3)C5CCC(CC5)C(=O)O)N',\n",
       " 'LGK974': 'CC1=CC(=CN=C1C2=CC(=NC=C2)C)CC(=O)NC3=NC=C(C=C3)C4=NC=CN=C4',\n",
       " 'VE-822': 'CC(C)S(=O)(=O)C1=CC=C(C=C1)C2=CN=C(C(=N2)C3=CC(=NO3)C4=CC=C(C=C4)CNC)N',\n",
       " 'WZ4003': 'CCC(=O)NC1=CC(=CC=C1)OC2=NC(=NC=C2Cl)NC3=C(C=C(C=C3)N4CCN(CC4)C)OC',\n",
       " 'CZC24832': 'CC(C)(C)NS(=O)(=O)C1=CN=CC(=C1)C2=CN3C(=NC(=N3)N)C(=C2)F',\n",
       " 'AZD5582': 'CC(C(=O)NC(C1CCCCC1)C(=O)N2CCCC2C(=O)NC3C(CC4=CC=CC=C34)OCC#CC#CCOC5CC6=CC=CC=C6C5NC(=O)C7CCCN7C(=O)C(C8CCCCC8)NC(=O)C(C)NC)NC',\n",
       " 'GSK2606414': 'CN1C=C(C2=C(N=CN=C21)N)C3=CC4=C(C=C3)N(CC4)C(=O)CC5=CC(=CC=C5)C(F)(F)F',\n",
       " 'PFI3': 'C1C2CN(C1CN2C3=CC=CC=N3)C=CC(=O)C4=CC=CC=C4O',\n",
       " 'PCI-34051': 'COC1=CC=C(C=C1)CN2C=CC3=C2C=C(C=C3)C(=O)NO',\n",
       " 'Wnt-C59': 'CC1=NC=CC(=C1)C2=CC=C(C=C2)CC(=O)NC3=CC=C(C=C3)C4=CN=CC=C4',\n",
       " 'I-BET-762': 'CCNC(=O)CC1C2=NN=C(N2C3=C(C=C(C=C3)OC)C(=N1)C4=CC=C(C=C4)Cl)C',\n",
       " 'RVX-208': 'CC1=CC(=CC(=C1OCCO)C)C2=NC3=C(C(=CC(=C3)OC)OC)C(=O)N2',\n",
       " 'OTX015': 'CC1=C(SC2=C1C(=NC(C3=NN=C(N32)C)CC(=O)NC4=CC=C(C=C4)O)C5=CC=C(C=C5)Cl)C',\n",
       " 'GSK343': 'CCCC1=C(C(=O)NC(=C1)C)CNC(=O)C2=C3C=NN(C3=CC(=C2)C4=CC(=NC=C4)N5CCN(CC5)C)C(C)C',\n",
       " 'ML323': 'CC1=CN=C(N=C1NCC2=CC=C(C=C2)N3C=CN=N3)C4=CC=CC=C4C(C)C',\n",
       " 'Entospletinib': 'C1COCCN1C2=CC=C(C=C2)NC3=NC(=CN4C3=NC=C4)C5=CC6=C(C=C5)C=NN6',\n",
       " 'PRT062607': 'C1CCC(C(C1)N)NC2=NC=C(C(=N2)NC3=CC(=CC=C3)N4N=CC=N4)C(=O)N',\n",
       " 'Ribociclib': 'CN(C)C(=O)C1=CC2=CN=C(N=C2N1C3CCCC3)NC4=NC=C(C=C4)N5CCNCC5',\n",
       " 'AGI-6780': 'C1CC1NS(=O)(=O)C2=CC(=C(C=C2)C3=CSC=C3)NC(=O)NC4=CC=CC(=C4)C(F)(F)F',\n",
       " 'AZD5153': 'CC1C(=O)N(CCN1CCOC2=CC=C(C=C2)C3CCN(CC3)C4=NN5C(=NN=C5OC)C=C4)C',\n",
       " 'AZD5991': 'CC1=C2C(=NN1C)CSCC3=NN(C(=C3)CSC4=CC5=CC=CC=C5C(=C4)OCCCC6=C(N(C7=C6C=CC(=C27)Cl)C)C(=O)O)C',\n",
       " 'GSK2110183B': 'CN1C(=C(C=N1)Cl)C2=C(SC(=C2)C(=O)NC(CC3=CC(=CC=C3)F)CN)Cl.Cl',\n",
       " 'AZD4547': 'CC1CN(CC(N1)C)C2=CC=C(C=C2)C(=O)NC3=NNC(=C3)CCC4=CC(=CC(=C4)OC)OC',\n",
       " 'Ibrutinib': 'C=CC(=O)N1CCCC(C1)N2C3=NC=NC(=C3C(=N2)C4=CC=C(C=C4)OC5=CC=CC=C5)N',\n",
       " 'Zoledronate': 'C1=CN(C=N1)CC(O)(P(=O)(O)O)P(=O)(O)O',\n",
       " 'Acetalax': 'CC(=O)OC1=CC=C(C=C1)C2(C3=CC=CC=C3NC2=O)C4=CC=C(C=C4)OC(=O)C',\n",
       " 'Topotecan': 'CCC1(C2=C(COC1=O)C(=O)N3CC4=CC5=C(C=CC(=C5CN(C)C)O)N=C4C3=C2)O',\n",
       " 'Teniposide': 'COC1=CC(=CC(=C1O)OC)C2C3C(COC3=O)C(C4=CC5=C(C=C24)OCO5)OC6C(C(C7C(O6)COC(O7)C8=CC=CS8)O)O',\n",
       " 'Mitoxantrone': 'C1=CC(=C2C(=C1NCCNCCO)C(=O)C3=C(C=CC(=C3C2=O)O)O)NCCNCCO',\n",
       " 'Dactinomycin': 'CC1C(C(=O)NC(C(=O)N2CCCC2C(=O)N(CC(=O)N(C(C(=O)O1)C(C)C)C)C)C(C)C)NC(=O)C3=C4C(=C(C=C3)C)OC5=C(C(=O)C(=C(C5=N4)C(=O)NC6C(OC(=O)C(N(C(=O)CN(C(=O)C7CCCN7C(=O)C(NC6=O)C(C)C)C)C)C(C)C)C)N)C',\n",
       " 'Bleomycin': 'CC1=C(N=C(N=C1N)C(CC(=O)N)NCC(C(=O)N)N)C(=O)NC(C(C2=CN=CN2)OC3C(C(C(C(O3)CO)O)O)OC4C(C(C(C(O4)CO)O)OC(=O)N)O)C(=O)NC(C)C(C(C)C(=O)NC(C(C)O)C(=O)NCCC5=NC(=CS5)C6=NC(=CS6)C(=O)NCCC[S+](C)C)O\\nCC1=C(N=C(N=C1N)C(CC(=O)N)NCC(C(=O)N)N)C(=O)NC(C(C2=CN=CN2)OC3C(C(C(C(O3)CO)O)O)OC4C(C(C(C(O4)CO)O)OC(=O)N)O)C(=O)NC(C)C(C(C)C(=O)NC(C(C)O)C(=O)NCCC5=NC(=CS5)C6=NC(=CS6)C(=O)NCCC[S+](C)C)O\\nCC1=C(N=C(N=C1N)C(CC(=O)N)NCC(C(=O)N)N)C(=O)NC(C(C2=CN=CN2)OC3C(C(C(C(O3)CO)O)O)OC4C(C(C(C(O4)CO)O)OC(=O)N)O)C(=O)NC(C)C(C(C)C(=O)NC(C(C)O)C(=O)NCCC5=NC(=CS5)C6=NC(=CS6)C(=O)NCCC[S+](C)C)O\\nCC1=C(N=C(N=C1N)C(CC(=O)N)NCC(C(=O)N)N)C(=O)NC(C(C2=CN=CN2)OC3C(C(C(C(O3)CO)O)O)OC4C(C(C(C(O4)CO)O)OC(=O)N)O)C(=O)NC(C)C(C(C)C(=O)NC(C(C)O)C(=O)NCCC5=NC(=CS5)C6=NC(=CS6)C(=O)NCCC[S+](C)C)O\\nCC1=C(N=C(N=C1N)C(CC(=O)N)NCC(C(=O)N)N)C(=O)NC(C(C2=CN=CN2)OC3C(C(C(C(O3)CO)O)O)OC4C(C(C(C(O4)CO)O)OC(=O)N)O)C(=O)NC(C)C(C(C)C(=O)NC(C(C)O)C(=O)NCCC5=NC(=CS5)C6=NC(=CS6)C(=O)NCCC[S+](C)C)O',\n",
       " 'Fludarabine': 'C1=NC2=C(N=C(N=C2N1C3C(C(C(O3)CO)O)O)F)N',\n",
       " 'Nelarabine': 'COC1=NC(=NC2=C1N=CN2C3C(C(C(O3)CO)O)O)N',\n",
       " 'Dacarbazine': 'CN(C)N=NC1=C(NC=N1)C(=O)N\\nCN(C)N=NC1=C(NC=N1)C(=O)N',\n",
       " 'Romidepsin': 'CC=C1C(=O)NC(C(=O)OC2CC(=O)NC(C(=O)NC(CSSCCC=C2)C(=O)N1)C(C)C)C(C)C',\n",
       " 'Podophyllotoxin bromide': 'COC1=CC(=CC(=C1OC)OC)C2C3C(COC3=O)C(C4=CC5=C(C=C24)OCO5)Br',\n",
       " 'Dihydrorotenone': 'CC(C)C1CC2=C(O1)C=CC3=C2OC4COC5=CC(=C(C=C5C4C3=O)OC)OC',\n",
       " 'Gallibiscoquinazole': 'COC1=C(C(=C2C(=C1)C(=O)NC(N2)(NC(=O)OC)NC(=O)OC)OC)OC',\n",
       " 'L-Oxonoreleagnine': 'C1CNC(=O)C2=C1C3=CC=CC=C3N2',\n",
       " 'Elephantin': 'CC(=CC(=O)OC1CC2=CC(CC3(C(O3)C4C1C(=C)C(=O)O4)C)OC2=O)C',\n",
       " 'Sinularin': 'CC1=CCCC(C2CC(CCC3(C(O3)CC1)C)C(=C)C(=O)O2)(C)O',\n",
       " 'LMP744': 'COC1=C(C=C2C(=C1)C3=C(C4=CC5=C(C=C4C3=O)OCO5)N(C2=O)CCCNCCO)OC',\n",
       " 'Schweinfurthin A': 'CC(=CCCC(=CCC1=C(C=C(C=C1O)C=CC2=CC3=C(C(=C2)O)OC4(CC(C(C(C4C3)(C)C)O)O)C)O)C)C',\n",
       " 'BEN': 'C1=CC=C(C=C1)C(=N)N',\n",
       " 'Sabutoclax': 'CC1=CC2=C(C(=C(C=C2C(=C1C3=C(C4=CC(=C(C(=C4C=C3C)C(=O)NCC(C)C5=CC=CC=C5)O)O)O)O)O)O)C(=O)NCC(C)C6=CC=CC=C6',\n",
       " 'LY2109761': 'C1CC2=C(C(=NN2C1)C3=CC=CC=N3)C4=C5C=CC(=CC5=NC=C4)OCCN6CCOCC6',\n",
       " 'OF-1': 'CC1=C(C=CC(=C1)Br)S(=O)(=O)NC2=CC3=C(C=C2OC)N(C(=O)N3C)C',\n",
       " 'MN-64': 'CC(C)C1=CC=C(C=C1)C2=CC(=O)C3=CC=CC=C3O2',\n",
       " 'MG-132': 'CC(C)CC(C=O)NC(=O)C(CC(C)C)NC(=O)C(CC(C)C)NC(=O)OCC1=CC=CC=C1',\n",
       " 'Buparlisib': 'C1COCCN1C2=NC(=NC(=C2)C3=CN=C(C=C3C(F)(F)F)N)N4CCOCC4',\n",
       " 'Ulixertinib': 'CC(C)NC1=NC=C(C(=C1)C2=CNC(=C2)C(=O)NC(CO)C3=CC(=CC=C3)Cl)Cl',\n",
       " 'Venetoclax': 'CC1(CCC(=C(C1)C2=CC=C(C=C2)Cl)CN3CCN(CC3)C4=CC(=C(C=C4)C(=O)NS(=O)(=O)C5=CC(=C(C=C5)NCC6CCOCC6)[N+](=O)[O-])OC7=CN=C8C(=C7)C=CN8)C',\n",
       " 'ABT737': 'CN(C)CCC(CSC1=CC=CC=C1)NC2=C(C=C(C=C2)S(=O)(=O)NC(=O)C3=CC=C(C=C3)N4CCN(CC4)CC5=CC=CC=C5C6=CC=C(C=C6)Cl)[N+](=O)[O-]',\n",
       " 'Afuresertib': 'CN1C(=C(C=N1)Cl)C2=C(SC(=C2)C(=O)NC(CC3=CC(=CC=C3)F)CN)Cl',\n",
       " 'AGI-5198': 'CC1=CC=CC=C1C(C(=O)NC2CCCCC2)N(C3=CC(=CC=C3)F)C(=O)CN4C=CN=C4C',\n",
       " 'AZD3759': 'CC1CN(CCN1C(=O)OC2=C(C=C3C(=C2)C(=NC=N3)NC4=C(C(=CC=C4)Cl)F)OC)C',\n",
       " 'AZD5363': 'C1CN(CCC1(C(=O)NC(CCO)C2=CC=C(C=C2)Cl)N)C3=NC=NC4=C3C=CN4',\n",
       " 'AZD6738': 'CC1COCCN1C2=NC(=NC(=C2)C3(CC3)S(=N)(=O)C)C4=C5C=CNC5=NC=C4\\nCC1COCCN1C2=NC(=NC(=C2)C3(CC3)S(=N)(=O)C)C4=C5C=CNC5=NC=C4\\nCC1COCCN1C2=NC(=NC(=C2)C3(CC3)S(=N)(=O)C)C4=C5C=CNC5=NC=C4\\nCC1COCCN1C2=NC(=NC(=C2)C3(CC3)S(=N)(=O)C)C4=C5C=CNC5=NC=C4',\n",
       " 'AZD8186': 'CC(C1=CC(=CC2=C1OC(=CC2=O)N3CCOCC3)C(=O)N(C)C)NC4=CC(=CC(=C4)F)F',\n",
       " 'Osimertinib': 'CN1C=C(C2=CC=CC=C21)C3=NC(=NC=C3)NC4=C(C=C(C(=C4)NC(=O)C=C)N(C)CCN(C)C)OC',\n",
       " 'Cediranib': 'CC1=CC2=C(N1)C=CC(=C2F)OC3=NC=NC4=CC(=C(C=C43)OC)OCCCN5CCCC5',\n",
       " 'Ipatasertib': 'CC1CC(C2=C1C(=NC=N2)N3CCN(CC3)C(=O)C(CNC(C)C)C4=CC=C(C=C4)Cl)O',\n",
       " 'GDC0810': 'CCC(=C(C1=CC=C(C=C1)C=CC(=O)O)C2=CC3=C(C=C2)NN=C3)C4=C(C=C(C=C4)F)Cl',\n",
       " 'GNE-317': 'CC1=C(SC2=C1N=C(N=C2N3CCOCC3)C4=CN=C(N=C4)N)C5(COC5)OC',\n",
       " 'GSK2578215A': 'C1=CC=C(C=C1)COC2=C(C=C(C=C2)C3=CC(=NC=C3)F)C(=O)NC4=CN=CC=C4',\n",
       " 'I-BRD9': 'CCN1C=C(C2=C(C1=O)C=C(S2)C(=NC3CCS(=O)(=O)CC3)N)C4=CC(=CC=C4)C(F)(F)F',\n",
       " 'Telomerase Inhibitor IX': 'C1=CC(=CC(=C1)NC(=O)C2=C(C(=CC=C2)O)O)NC(=O)C3=C(C(=CC=C3)O)O',\n",
       " 'MIRA-1': 'CCC(=O)OCN1C(=O)C=CC1=O',\n",
       " 'NVP-ADW742': 'C1CCN(C1)CC2CC(C2)N3C=C(C4=C(N=CN=C43)N)C5=CC(=CC=C5)OCC6=CC=CC=C6',\n",
       " 'P22077': 'CC(=O)C1=CC(=C(S1)SC2=C(C=C(C=C2)F)F)[N+](=O)[O-]',\n",
       " 'Savolitinib': 'CC(C1=CN2C=CN=C2C=C1)N3C4=NC(=CN=C4N=N3)C5=CN(N=C5)C',\n",
       " 'UMI-77': 'C1=CC=C2C(=C1)C(=CC(=C2O)SCC(=O)O)NS(=O)(=O)C3=CC=C(C=C3)Br',\n",
       " 'WIKI4': 'COC1=CC=C(C=C1)N2C(=NN=C2SCCCN3C(=O)C4=CC=CC5=C4C(=CC=C5)C3=O)C6=CC=NC=C6',\n",
       " 'Sepantronium bromide': 'CC1=[N+](C2=C(N1CCOC)C(=O)C3=CC=CC=C3C2=O)CC4=NC=CN=C4.[Br-]',\n",
       " 'MIM1': 'CC1=CSC(=NC2CCCCC2)N1N=CC3=C(C(=C(C=C3)O)O)O\\nCC1=CSC(=NC2CCCCC2)N1N=CC3=C(C(=C(C=C3)O)O)O\\nCC1=CSC(=NC2CCCCC2)N1N=CC3=C(C(=C(C=C3)O)O)O',\n",
       " 'WEHI-539': 'C1CC2=C(C=C(C=C2)C3=NC(=C(S3)CCCOC4=CC=C(C=C4)CN)C(=O)O)C(=NNC5=NC6=CC=CC=C6S5)C1\\nC1CC2=C(C=C(C=C2)C3=NC(=C(S3)CCCOC4=CC=C(C=C4)CN)C(=O)O)C(=NNC5=NC6=CC=CC=C6S5)C1\\nC1CC2=C(C=C(C=C2)C3=NC(=C(S3)CCCOC4=CC=C(C=C4)CN)C(=O)O)C(=NNC5=NC6=CC=CC=C6S5)C1',\n",
       " 'ICL-SIRT078': 'COC1=C(C2=CC=CC=C2C=C1)CN3C=NC4=C(C3=O)C5=C(S4)CC(CC5)NCC6=CN=CC=C6',\n",
       " 'UNC0638': 'CC(C)N1CCC(CC1)NC2=NC(=NC3=CC(=C(C=C32)OC)OCCCN4CCCC4)C5CCCCC5',\n",
       " 'AGK2': 'C1=CC2=C(C=CC=N2)C(=C1)NC(=O)C(=CC3=CC=C(O3)C4=C(C=CC(=C4)Cl)Cl)C#N',\n",
       " 'Foretinib': 'COC1=CC2=C(C=CN=C2C=C1OCCCN3CCOCC3)OC4=C(C=C(C=C4)NC(=O)C5(CC5)C(=O)NC6=CC=C(C=C6)F)F',\n",
       " 'BIBR-1532': 'CC(=CC(=O)NC1=CC=CC=C1C(=O)O)C2=CC3=CC=CC=C3C=C2\\nCC(=CC(=O)NC1=CC=CC=C1C(=O)O)C2=CC3=CC=CC=C3C=C2',\n",
       " 'Pyridostatin': 'C1=CC=C2C(=C1)C(=CC(=N2)NC(=O)C3=CC(=CC(=N3)C(=O)NC4=NC5=CC=CC=C5C(=C4)OCCN)OCCN)OCCN',\n",
       " 'AMG-319': 'CC(C1=C(N=C2C=C(C=CC2=C1)F)C3=CC=CC=N3)NC4=NC=NC5=C4NC=N5',\n",
       " 'MK-8776': 'CN1C=C(C=N1)C2=C3N=C(C(=C(N3N=C2)N)Br)C4CCCNC4\\nCN1C=C(C=N1)C2=C3N=C(C(=C(N3N=C2)N)Br)C4CCCNC4',\n",
       " 'Vinorelbine': 'CCC1=CC2CC(C3=C(CN(C2)C1)C4=CC=CC=C4N3)(C5=C(C=C6C(=C5)C78CCN9C7C(C=CC9)(C(C(C8N6C)(C(=O)OC)O)OC(=O)C)CC)OC)C(=O)OC\\nCCC1=CC2CC(C3=C(CN(C2)C1)C4=CC=CC=C4N3)(C5=C(C=C6C(=C5)C78CCN9C7C(C=CC9)(C(C(C8N6C)(C(=O)OC)O)OC(=O)C)CC)OC)C(=O)OC\\nCCC1=CC2CC(C3=C(CN(C2)C1)C4=CC=CC=C4N3)(C5=C(C=C6C(=C5)C78CCN9C7C(C=CC9)(C(C(C8N6C)(C(=O)OC)O)OC(=O)C)CC)OC)C(=O)OC\\nCCC1=CC2CC(C3=C(CN(C2)C1)C4=CC=CC=C4N3)(C5=C(C=C6C(=C5)C78CCN9C7C(C=CC9)(C(C(C8N6C)(C(=O)OC)O)OC(=O)C)CC)OC)C(=O)OC\\nCCC1=CC2CC(C3=C(CN(C2)C1)C4=CC=CC=C4N3)(C5=C(C=C6C(=C5)C78CCN9C7C(C=CC9)(C(C(C8N6C)(C(=O)OC)O)OC(=O)C)CC)OC)C(=O)OC\\nCCC1=CC2CC(C3=C(CN(C2)C1)C4=CC=CC=C4N3)(C5=C(C=C6C(=C5)C78CCN9C7C(C=CC9)(C(C(C8N6C)(C(=O)OC)O)OC(=O)C)CC)OC)C(=O)OC\\nCCC1=CC2CC(C3=C(CN(C2)C1)C4=CC=CC=C4N3)(C5=C(C=C6C(=C5)C78CCN9C7C(C=CC9)(C(C(C8N6C)(C(=O)OC)O)OC(=O)C)CC)OC)C(=O)OC',\n",
       " 'Mycophenolic acid': 'CC1=C2COC(=O)C2=C(C(=C1OC)CC=C(C)CCC(=O)O)O',\n",
       " 'Remodelin': 'C1CCC(=NNC2=NC(=CS2)C3=CC=C(C=C3)C#N)C1',\n",
       " 'VX-11e': 'CC1=CN=C(N=C1C2=CNC(=C2)C(=O)NC(CO)C3=CC(=CC=C3)Cl)NC4=C(C=C(C=C4)F)Cl',\n",
       " 'LJI308': 'C1COCCN1C2=CC=C(C=C2)C3=C(C=NC=C3)C4=CC(=C(C(=C4)F)O)F',\n",
       " 'AZ6102': 'CC1CN(CC(N1)C)C2=NC=C(C(=C2)C)C3=CC=C(C=C3)C4=NC5=C(C=CN5C)C(=O)N4',\n",
       " 'GSK591': 'C1CC(C1)NC2=NC=CC(=C2)C(=O)NCC(CN3CCC4=CC=CC=C4C3)O',\n",
       " 'VE821': 'CS(=O)(=O)C1=CC=C(C=C1)C2=CN=C(C(=N2)C(=O)NC3=CC=CC=C3)N',\n",
       " 'POMHEX': 'CC(C)(C)C(=O)OCOP(=O)(C1CCCN(C1=O)O)OCOC(=O)C(C)(C)C',\n",
       " '5-azacytidine': 'C1=NC(=NC(=O)N1C2C(C(C(O2)CO)O)O)N',\n",
       " 'A-366': 'COC1=C(C=C2C(=C1)C3(CCC3)C(=N2)N)OCCCN4CCCC4',\n",
       " 'CPI-637': 'CC1CC(=O)NC2=CC=CC(=C2N1)C3=CC4=C(C=C3)N(N=C4C5=CN(N=C5)C)C',\n",
       " 'UNC0379': 'COC1=C(C=C2C(=C1)C(=NC(=N2)N3CCCC3)NCCCCCN4CCCC4)OC',\n",
       " 'AZD6482': 'CC1=CN2C(=O)C=C(N=C2C(=C1)C(C)NC3=CC=CC=C3C(=O)O)N4CCOCC4',\n",
       " 'AT13148': 'C1=CC(=CC=C1C2=CNN=C2)C(CN)(C3=CC=C(C=C3)Cl)O',\n",
       " 'BMS-754807': 'CC1(CCCN1C2=NN3C=CC=C3C(=N2)NC4=NNC(=C4)C5CC5)C(=O)NC6=CN=C(C=C6)F',\n",
       " 'JQ1': 'CC1=C(SC2=C1C(=NC(C3=NN=C(N32)C)CC(=O)OC(C)(C)C)C4=CC=C(C=C4)Cl)C',\n",
       " 'PFI-1': 'CN1CC2=C(C=CC(=C2)NS(=O)(=O)C3=CC=CC=C3OC)NC1=O',\n",
       " 'IOX2': 'C1=CC=C(C=C1)CN2C3=CC=CC=C3C(=C(C2=O)C(=O)NCC(=O)O)O',\n",
       " 'CHIR-99021': 'CC1=CN=C(N1)C2=CN=C(N=C2C3=C(C=C(C=C3)Cl)Cl)NCCNC4=NC=C(C=C4)C#N',\n",
       " 'SGC0946': 'CC(C)N(CCCNC(=O)NC1=CC=C(C=C1)C(C)(C)C)CC2C(C(C(O2)N3C=C(C4=C(N=CN=C43)N)Br)O)O',\n",
       " 'GSK2830371': 'CC1=C(C=C(C=N1)Cl)NCC2=CC=C(S2)C(=O)NC(CC3CCCC3)C(=O)NC4CC4',\n",
       " 'glutathione': 'C(CC(=O)NC(CS)C(=O)NCC(=O)O)C(C(=O)O)N',\n",
       " 'alpha-lipoic acid': 'C1CSSC1CCCCC(=O)O',\n",
       " 'N-acetyl cysteine': 'CC(=O)NC(CS)C(=O)O'}"
      ]
     },
     "execution_count": 3,
     "metadata": {},
     "output_type": "execute_result"
    }
   ],
   "source": [
    "drug_smiles"
   ]
  },
  {
   "cell_type": "code",
   "execution_count": 4,
   "id": "4918552f",
   "metadata": {},
   "outputs": [],
   "source": [
    "def smiles_to_mol(smiles):\n",
    "    mol = Chem.MolFromSmiles(smiles)\n",
    "    if mol is not None:\n",
    "        Chem.Kekulize(mol)\n",
    "    return mol"
   ]
  },
  {
   "cell_type": "code",
   "execution_count": 5,
   "id": "fa4f29f3",
   "metadata": {},
   "outputs": [],
   "source": [
    "def build_atom_vocab(smiles_dict):\n",
    "    atom_set = set()\n",
    "    for smi in smiles_dict.values():\n",
    "        mol = Chem.MolFromSmiles(smi)\n",
    "        if mol:\n",
    "            for atom in mol.GetAtoms():\n",
    "                atom_set.add(atom.GetSymbol())\n",
    "    return sorted(atom_set)"
   ]
  },
  {
   "cell_type": "code",
   "execution_count": 6,
   "id": "9b927fc9",
   "metadata": {},
   "outputs": [
    {
     "data": {
      "text/plain": [
       "['B', 'Br', 'C', 'Cl', 'F', 'I', 'N', 'O', 'P', 'Pt', 'S']"
      ]
     },
     "execution_count": 6,
     "metadata": {},
     "output_type": "execute_result"
    }
   ],
   "source": [
    "atom_vocab = build_atom_vocab(drug_smiles)\n",
    "atom_vocab"
   ]
  },
  {
   "cell_type": "code",
   "execution_count": 7,
   "id": "26987945",
   "metadata": {},
   "outputs": [],
   "source": [
    "from rdkit import Chem\n",
    "\n",
    "# Define vocabularies\n",
    "# ATOM_LIST = ['C', 'N', 'O', 'S', 'F', 'P', 'Cl', 'Br', 'I', 'H', 'B', 'Si', 'Na', 'K', 'Li', 'Mg', 'Ca', 'Fe', 'Zn', 'Se', 'Cu']\n",
    "ATOM_LIST = atom_vocab\n",
    "DEGREE_LIST = [0, 1, 2, 3, 4, 5]\n",
    "NUM_H_LIST = [0, 1, 2, 3, 4]\n",
    "VALENCE_LIST = [0, 1, 2, 3, 4, 5, 6]\n",
    "\n",
    "def one_hot_encoding(x, allowable_set):\n",
    "    return [int(x == s) for s in allowable_set]\n",
    "\n",
    "def atom_features(atom):\n",
    "    return one_hot_encoding(atom.GetSymbol(), ATOM_LIST) + \\\n",
    "           one_hot_encoding(atom.GetDegree(), DEGREE_LIST) + \\\n",
    "           one_hot_encoding(atom.GetTotalNumHs(), NUM_H_LIST) + \\\n",
    "           one_hot_encoding(atom.GetImplicitValence(), VALENCE_LIST) + \\\n",
    "           [int(atom.GetIsAromatic())]\n",
    "\n",
    "def mol_to_graph_data_obj(mol):\n",
    "    atoms = mol.GetAtoms()\n",
    "    x = torch.tensor([atom_features(atom) for atom in atoms], dtype=torch.float)\n",
    "\n",
    "    edge_index = []\n",
    "    for bond in mol.GetBonds():\n",
    "        i = bond.GetBeginAtomIdx()\n",
    "        j = bond.GetEndAtomIdx()\n",
    "        edge_index.append((i, j))\n",
    "        edge_index.append((j, i))  # undirected graph\n",
    "\n",
    "    edge_index = torch.tensor(edge_index, dtype=torch.long).t().contiguous()\n",
    "\n",
    "    return Data(x=x, edge_index=edge_index)\n"
   ]
  },
  {
   "cell_type": "code",
   "execution_count": 8,
   "id": "c070480f",
   "metadata": {},
   "outputs": [],
   "source": [
    "from torch_geometric.data import InMemoryDataset\n",
    "\n",
    "class DrugGraphDataset(InMemoryDataset):\n",
    "    def __init__(self, smiles_dict):\n",
    "        self.smiles_dict = smiles_dict\n",
    "        super().__init__('.', transform=None, pre_transform=None)\n",
    "        self.data, self.slices = self._process()\n",
    "\n",
    "    def _process(self):\n",
    "        data_list = []\n",
    "        for name, smi in self.smiles_dict.items():\n",
    "            mol = smiles_to_mol(smi)\n",
    "            if mol:\n",
    "                data = mol_to_graph_data_obj(mol)\n",
    "                data.drug_name = name\n",
    "                data_list.append(data)\n",
    "        return self.collate(data_list)\n"
   ]
  },
  {
   "cell_type": "code",
   "execution_count": 9,
   "id": "33bbd3ef",
   "metadata": {},
   "outputs": [
    {
     "name": "stdout",
     "output_type": "stream",
     "text": [
      "Data(x=[26, 30], edge_index=[2, 60], drug_name='Camptothecin')\n"
     ]
    }
   ],
   "source": [
    "dataset = DrugGraphDataset(drug_smiles)\n",
    "print(dataset[0])"
   ]
  },
  {
   "cell_type": "code",
   "execution_count": 10,
   "id": "1ecd2d04",
   "metadata": {},
   "outputs": [
    {
     "data": {
      "image/png": "[encoded data removed]",
      "text/plain": [
       "<rdkit.Chem.rdchem.Mol at 0x7f651b0a5850>"
      ]
     },
     "execution_count": 10,
     "metadata": {},
     "output_type": "execute_result"
    }
   ],
   "source": [
    "mol2 = smiles_to_mol(drug_smiles[\"Camptothecin\"])\n",
    "mol2"
   ]
  },
  {
   "cell_type": "code",
   "execution_count": 11,
   "id": "0c1cceb9",
   "metadata": {},
   "outputs": [
    {
     "data": {
      "image/png": "[encoded data removed]",
      "text/plain": [
       "<Figure size 600x600 with 1 Axes>"
      ]
     },
     "metadata": {},
     "output_type": "display_data"
    }
   ],
   "source": [
    "from torch_geometric.utils import to_networkx\n",
    "import matplotlib.pyplot as plt\n",
    "import networkx as nx\n",
    "\n",
    "G = to_networkx(dataset[0], to_undirected=True)\n",
    "plt.figure(figsize=(6,6))\n",
    "nx.draw(G, node_size=50)\n",
    "plt.show()\n"
   ]
  },
  {
   "cell_type": "code",
   "execution_count": 12,
   "id": "5fb7086b",
   "metadata": {},
   "outputs": [
    {
     "name": "stdout",
     "output_type": "stream",
     "text": [
      "torch.Size([26, 30])\n",
      "torch.Size([2, 60])\n"
     ]
    }
   ],
   "source": [
    "print(dataset[0].x.shape)\n",
    "print(dataset[0].edge_index.shape)"
   ]
  },
  {
   "cell_type": "code",
   "execution_count": 13,
   "id": "c5a4b64b",
   "metadata": {},
   "outputs": [
    {
     "name": "stdout",
     "output_type": "stream",
     "text": [
      "30\n",
      "60\n"
     ]
    }
   ],
   "source": [
    "print(len(dataset[0].x[0]))\n",
    "print(len(dataset[0].edge_index[0]))"
   ]
  },
  {
   "cell_type": "code",
   "execution_count": 14,
   "id": "28e39617",
   "metadata": {},
   "outputs": [
    {
     "name": "stdout",
     "output_type": "stream",
     "text": [
      "Data(x=[39, 30], edge_index=[2, 86], drug_name='Epirubicin')\n"
     ]
    }
   ],
   "source": [
    "print(dataset[100])"
   ]
  },
  {
   "cell_type": "markdown",
   "id": "15504e3d",
   "metadata": {},
   "source": [
    "# Preparing the Dataset"
   ]
  },
  {
   "cell_type": "code",
   "execution_count": 15,
   "id": "a6a87591",
   "metadata": {},
   "outputs": [],
   "source": [
    "# Load merged GDSC dataset with drug, cell line, IC50, and SMILES\n",
    "df = pd.read_csv(\"dataset/GDSC_SMILES_merged.csv\", index_col=0)\n",
    "df = df.dropna(subset=[\"SMILES\"])\n",
    "\n",
    "# Load GSVA matrix (rows = cell line, cols = pathways OR vice versa)\n",
    "gsva_df = pd.read_csv(\"dataset/ccle_gsva_scores.csv\", index_col=0)\n"
   ]
  },
  {
   "cell_type": "code",
   "execution_count": 16,
   "id": "bbef8cff",
   "metadata": {},
   "outputs": [
    {
     "data": {
      "text/html": [
       "<div>\n",
       "<style scoped>\n",
       "    .dataframe tbody tr th:only-of-type {\n",
       "        vertical-align: middle;\n",
       "    }\n",
       "\n",
       "    .dataframe tbody tr th {\n",
       "        vertical-align: top;\n",
       "    }\n",
       "\n",
       "    .dataframe thead th {\n",
       "        text-align: right;\n",
       "    }\n",
       "</style>\n",
       "<table border=\"1\" class=\"dataframe\">\n",
       "  <thead>\n",
       "    <tr style=\"text-align: right;\">\n",
       "      <th></th>\n",
       "      <th>DRUG_ID</th>\n",
       "      <th>DRUG_NAME</th>\n",
       "      <th>CELL_LINE_NAME</th>\n",
       "      <th>LN_IC50</th>\n",
       "      <th>SMILES</th>\n",
       "    </tr>\n",
       "  </thead>\n",
       "  <tbody>\n",
       "    <tr>\n",
       "      <th>0</th>\n",
       "      <td>1003</td>\n",
       "      <td>Camptothecin</td>\n",
       "      <td>PFSK-1</td>\n",
       "      <td>-1.462148</td>\n",
       "      <td>CCC1(C2=C(COC1=O)C(=O)N3CC4=CC5=CC=CC=C5N=C4C3...</td>\n",
       "    </tr>\n",
       "    <tr>\n",
       "      <th>1</th>\n",
       "      <td>1003</td>\n",
       "      <td>Camptothecin</td>\n",
       "      <td>A673</td>\n",
       "      <td>-4.869447</td>\n",
       "      <td>CCC1(C2=C(COC1=O)C(=O)N3CC4=CC5=CC=CC=C5N=C4C3...</td>\n",
       "    </tr>\n",
       "    <tr>\n",
       "      <th>2</th>\n",
       "      <td>1003</td>\n",
       "      <td>Camptothecin</td>\n",
       "      <td>ES5</td>\n",
       "      <td>-3.360684</td>\n",
       "      <td>CCC1(C2=C(COC1=O)C(=O)N3CC4=CC5=CC=CC=C5N=C4C3...</td>\n",
       "    </tr>\n",
       "    <tr>\n",
       "      <th>3</th>\n",
       "      <td>1003</td>\n",
       "      <td>Camptothecin</td>\n",
       "      <td>ES7</td>\n",
       "      <td>-5.045014</td>\n",
       "      <td>CCC1(C2=C(COC1=O)C(=O)N3CC4=CC5=CC=CC=C5N=C4C3...</td>\n",
       "    </tr>\n",
       "    <tr>\n",
       "      <th>4</th>\n",
       "      <td>1003</td>\n",
       "      <td>Camptothecin</td>\n",
       "      <td>EW-11</td>\n",
       "      <td>-3.741620</td>\n",
       "      <td>CCC1(C2=C(COC1=O)C(=O)N3CC4=CC5=CC=CC=C5N=C4C3...</td>\n",
       "    </tr>\n",
       "    <tr>\n",
       "      <th>...</th>\n",
       "      <td>...</td>\n",
       "      <td>...</td>\n",
       "      <td>...</td>\n",
       "      <td>...</td>\n",
       "      <td>...</td>\n",
       "    </tr>\n",
       "    <tr>\n",
       "      <th>242031</th>\n",
       "      <td>2499</td>\n",
       "      <td>N-acetyl cysteine</td>\n",
       "      <td>SNU-175</td>\n",
       "      <td>10.134495</td>\n",
       "      <td>CC(=O)NC(CS)C(=O)O</td>\n",
       "    </tr>\n",
       "    <tr>\n",
       "      <th>242032</th>\n",
       "      <td>2499</td>\n",
       "      <td>N-acetyl cysteine</td>\n",
       "      <td>SNU-407</td>\n",
       "      <td>8.575555</td>\n",
       "      <td>CC(=O)NC(CS)C(=O)O</td>\n",
       "    </tr>\n",
       "    <tr>\n",
       "      <th>242033</th>\n",
       "      <td>2499</td>\n",
       "      <td>N-acetyl cysteine</td>\n",
       "      <td>SNU-61</td>\n",
       "      <td>10.520666</td>\n",
       "      <td>CC(=O)NC(CS)C(=O)O</td>\n",
       "    </tr>\n",
       "    <tr>\n",
       "      <th>242034</th>\n",
       "      <td>2499</td>\n",
       "      <td>N-acetyl cysteine</td>\n",
       "      <td>SNU-C5</td>\n",
       "      <td>10.701430</td>\n",
       "      <td>CC(=O)NC(CS)C(=O)O</td>\n",
       "    </tr>\n",
       "    <tr>\n",
       "      <th>242035</th>\n",
       "      <td>2499</td>\n",
       "      <td>N-acetyl cysteine</td>\n",
       "      <td>DiFi</td>\n",
       "      <td>10.038769</td>\n",
       "      <td>CC(=O)NC(CS)C(=O)O</td>\n",
       "    </tr>\n",
       "  </tbody>\n",
       "</table>\n",
       "<p>199501 rows × 5 columns</p>\n",
       "</div>"
      ],
      "text/plain": [
       "        DRUG_ID          DRUG_NAME CELL_LINE_NAME    LN_IC50  \\\n",
       "0          1003       Camptothecin         PFSK-1  -1.462148   \n",
       "1          1003       Camptothecin           A673  -4.869447   \n",
       "2          1003       Camptothecin            ES5  -3.360684   \n",
       "3          1003       Camptothecin            ES7  -5.045014   \n",
       "4          1003       Camptothecin          EW-11  -3.741620   \n",
       "...         ...                ...            ...        ...   \n",
       "242031     2499  N-acetyl cysteine        SNU-175  10.134495   \n",
       "242032     2499  N-acetyl cysteine        SNU-407   8.575555   \n",
       "242033     2499  N-acetyl cysteine         SNU-61  10.520666   \n",
       "242034     2499  N-acetyl cysteine         SNU-C5  10.701430   \n",
       "242035     2499  N-acetyl cysteine           DiFi  10.038769   \n",
       "\n",
       "                                                   SMILES  \n",
       "0       CCC1(C2=C(COC1=O)C(=O)N3CC4=CC5=CC=CC=C5N=C4C3...  \n",
       "1       CCC1(C2=C(COC1=O)C(=O)N3CC4=CC5=CC=CC=C5N=C4C3...  \n",
       "2       CCC1(C2=C(COC1=O)C(=O)N3CC4=CC5=CC=CC=C5N=C4C3...  \n",
       "3       CCC1(C2=C(COC1=O)C(=O)N3CC4=CC5=CC=CC=C5N=C4C3...  \n",
       "4       CCC1(C2=C(COC1=O)C(=O)N3CC4=CC5=CC=CC=C5N=C4C3...  \n",
       "...                                                   ...  \n",
       "242031                                 CC(=O)NC(CS)C(=O)O  \n",
       "242032                                 CC(=O)NC(CS)C(=O)O  \n",
       "242033                                 CC(=O)NC(CS)C(=O)O  \n",
       "242034                                 CC(=O)NC(CS)C(=O)O  \n",
       "242035                                 CC(=O)NC(CS)C(=O)O  \n",
       "\n",
       "[199501 rows x 5 columns]"
      ]
     },
     "execution_count": 16,
     "metadata": {},
     "output_type": "execute_result"
    }
   ],
   "source": [
    "df"
   ]
  },
  {
   "cell_type": "code",
   "execution_count": 17,
   "id": "a0a5ba92",
   "metadata": {},
   "outputs": [],
   "source": [
    "cell_lines_available = set(gsva_df.columns)"
   ]
  },
  {
   "cell_type": "code",
   "execution_count": 18,
   "id": "b922c4e2",
   "metadata": {},
   "outputs": [],
   "source": [
    "# Normalize IC50 if needed\n",
    "df[\"LN_IC50\"] = df[\"LN_IC50\"].astype(float)\n",
    "df[\"IC50_NORMALIZED\"] = 1 / (1 + (1/(np.exp(df[\"LN_IC50\"])**0.1)) )"
   ]
  },
  {
   "cell_type": "code",
   "execution_count": 19,
   "id": "d38696ba",
   "metadata": {},
   "outputs": [
    {
     "name": "stdout",
     "output_type": "stream",
     "text": [
      "<class 'pandas.core.frame.DataFrame'>\n",
      "Index: 199501 entries, 0 to 242035\n",
      "Data columns (total 6 columns):\n",
      " #   Column           Non-Null Count   Dtype  \n",
      "---  ------           --------------   -----  \n",
      " 0   DRUG_ID          199501 non-null  int64  \n",
      " 1   DRUG_NAME        199501 non-null  object \n",
      " 2   CELL_LINE_NAME   199501 non-null  object \n",
      " 3   LN_IC50          199501 non-null  float64\n",
      " 4   SMILES           199501 non-null  object \n",
      " 5   IC50_NORMALIZED  199501 non-null  float64\n",
      "dtypes: float64(2), int64(1), object(3)\n",
      "memory usage: 10.7+ MB\n"
     ]
    }
   ],
   "source": [
    "df.info()"
   ]
  },
  {
   "cell_type": "code",
   "execution_count": 20,
   "id": "34a5deb0",
   "metadata": {},
   "outputs": [
    {
     "data": {
      "text/html": [
       "<div>\n",
       "<style scoped>\n",
       "    .dataframe tbody tr th:only-of-type {\n",
       "        vertical-align: middle;\n",
       "    }\n",
       "\n",
       "    .dataframe tbody tr th {\n",
       "        vertical-align: top;\n",
       "    }\n",
       "\n",
       "    .dataframe thead th {\n",
       "        text-align: right;\n",
       "    }\n",
       "</style>\n",
       "<table border=\"1\" class=\"dataframe\">\n",
       "  <thead>\n",
       "    <tr style=\"text-align: right;\">\n",
       "      <th></th>\n",
       "      <th>DRUG_ID</th>\n",
       "      <th>LN_IC50</th>\n",
       "      <th>IC50_NORMALIZED</th>\n",
       "    </tr>\n",
       "  </thead>\n",
       "  <tbody>\n",
       "    <tr>\n",
       "      <th>count</th>\n",
       "      <td>199501.000000</td>\n",
       "      <td>199501.000000</td>\n",
       "      <td>199501.000000</td>\n",
       "    </tr>\n",
       "    <tr>\n",
       "      <th>mean</th>\n",
       "      <td>1542.707836</td>\n",
       "      <td>2.707180</td>\n",
       "      <td>0.566360</td>\n",
       "    </tr>\n",
       "    <tr>\n",
       "      <th>std</th>\n",
       "      <td>406.596728</td>\n",
       "      <td>2.823073</td>\n",
       "      <td>0.068694</td>\n",
       "    </tr>\n",
       "    <tr>\n",
       "      <th>min</th>\n",
       "      <td>1003.000000</td>\n",
       "      <td>-8.769011</td>\n",
       "      <td>0.293820</td>\n",
       "    </tr>\n",
       "    <tr>\n",
       "      <th>25%</th>\n",
       "      <td>1083.000000</td>\n",
       "      <td>1.353548</td>\n",
       "      <td>0.533787</td>\n",
       "    </tr>\n",
       "    <tr>\n",
       "      <th>50%</th>\n",
       "      <td>1583.000000</td>\n",
       "      <td>3.171952</td>\n",
       "      <td>0.578641</td>\n",
       "    </tr>\n",
       "    <tr>\n",
       "      <th>75%</th>\n",
       "      <td>1912.000000</td>\n",
       "      <td>4.656668</td>\n",
       "      <td>0.614358</td>\n",
       "    </tr>\n",
       "    <tr>\n",
       "      <th>max</th>\n",
       "      <td>2499.000000</td>\n",
       "      <td>13.107465</td>\n",
       "      <td>0.787638</td>\n",
       "    </tr>\n",
       "  </tbody>\n",
       "</table>\n",
       "</div>"
      ],
      "text/plain": [
       "             DRUG_ID        LN_IC50  IC50_NORMALIZED\n",
       "count  199501.000000  199501.000000    199501.000000\n",
       "mean     1542.707836       2.707180         0.566360\n",
       "std       406.596728       2.823073         0.068694\n",
       "min      1003.000000      -8.769011         0.293820\n",
       "25%      1083.000000       1.353548         0.533787\n",
       "50%      1583.000000       3.171952         0.578641\n",
       "75%      1912.000000       4.656668         0.614358\n",
       "max      2499.000000      13.107465         0.787638"
      ]
     },
     "execution_count": 20,
     "metadata": {},
     "output_type": "execute_result"
    }
   ],
   "source": [
    "df.describe()"
   ]
  },
  {
   "cell_type": "code",
   "execution_count": 21,
   "id": "96fc3843",
   "metadata": {},
   "outputs": [
    {
     "data": {
      "text/html": [
       "<div>\n",
       "<style scoped>\n",
       "    .dataframe tbody tr th:only-of-type {\n",
       "        vertical-align: middle;\n",
       "    }\n",
       "\n",
       "    .dataframe tbody tr th {\n",
       "        vertical-align: top;\n",
       "    }\n",
       "\n",
       "    .dataframe thead th {\n",
       "        text-align: right;\n",
       "    }\n",
       "</style>\n",
       "<table border=\"1\" class=\"dataframe\">\n",
       "  <thead>\n",
       "    <tr style=\"text-align: right;\">\n",
       "      <th></th>\n",
       "      <th>DRUG_ID</th>\n",
       "      <th>DRUG_NAME</th>\n",
       "      <th>CELL_LINE_NAME</th>\n",
       "      <th>LN_IC50</th>\n",
       "      <th>SMILES</th>\n",
       "      <th>IC50_NORMALIZED</th>\n",
       "    </tr>\n",
       "  </thead>\n",
       "  <tbody>\n",
       "    <tr>\n",
       "      <th>0</th>\n",
       "      <td>1003</td>\n",
       "      <td>Camptothecin</td>\n",
       "      <td>PFSK-1</td>\n",
       "      <td>-1.462148</td>\n",
       "      <td>CCC1(C2=C(COC1=O)C(=O)N3CC4=CC5=CC=CC=C5N=C4C3...</td>\n",
       "      <td>0.463511</td>\n",
       "    </tr>\n",
       "    <tr>\n",
       "      <th>1</th>\n",
       "      <td>1003</td>\n",
       "      <td>Camptothecin</td>\n",
       "      <td>A673</td>\n",
       "      <td>-4.869447</td>\n",
       "      <td>CCC1(C2=C(COC1=O)C(=O)N3CC4=CC5=CC=CC=C5N=C4C3...</td>\n",
       "      <td>0.380614</td>\n",
       "    </tr>\n",
       "    <tr>\n",
       "      <th>2</th>\n",
       "      <td>1003</td>\n",
       "      <td>Camptothecin</td>\n",
       "      <td>ES5</td>\n",
       "      <td>-3.360684</td>\n",
       "      <td>CCC1(C2=C(COC1=O)C(=O)N3CC4=CC5=CC=CC=C5N=C4C3...</td>\n",
       "      <td>0.416765</td>\n",
       "    </tr>\n",
       "    <tr>\n",
       "      <th>3</th>\n",
       "      <td>1003</td>\n",
       "      <td>Camptothecin</td>\n",
       "      <td>ES7</td>\n",
       "      <td>-5.045014</td>\n",
       "      <td>CCC1(C2=C(COC1=O)C(=O)N3CC4=CC5=CC=CC=C5N=C4C3...</td>\n",
       "      <td>0.376483</td>\n",
       "    </tr>\n",
       "    <tr>\n",
       "      <th>4</th>\n",
       "      <td>1003</td>\n",
       "      <td>Camptothecin</td>\n",
       "      <td>EW-11</td>\n",
       "      <td>-3.741620</td>\n",
       "      <td>CCC1(C2=C(COC1=O)C(=O)N3CC4=CC5=CC=CC=C5N=C4C3...</td>\n",
       "      <td>0.407536</td>\n",
       "    </tr>\n",
       "    <tr>\n",
       "      <th>...</th>\n",
       "      <td>...</td>\n",
       "      <td>...</td>\n",
       "      <td>...</td>\n",
       "      <td>...</td>\n",
       "      <td>...</td>\n",
       "      <td>...</td>\n",
       "    </tr>\n",
       "    <tr>\n",
       "      <th>242031</th>\n",
       "      <td>2499</td>\n",
       "      <td>N-acetyl cysteine</td>\n",
       "      <td>SNU-175</td>\n",
       "      <td>10.134495</td>\n",
       "      <td>CC(=O)NC(CS)C(=O)O</td>\n",
       "      <td>0.733695</td>\n",
       "    </tr>\n",
       "    <tr>\n",
       "      <th>242032</th>\n",
       "      <td>2499</td>\n",
       "      <td>N-acetyl cysteine</td>\n",
       "      <td>SNU-407</td>\n",
       "      <td>8.575555</td>\n",
       "      <td>CC(=O)NC(CS)C(=O)O</td>\n",
       "      <td>0.702150</td>\n",
       "    </tr>\n",
       "    <tr>\n",
       "      <th>242033</th>\n",
       "      <td>2499</td>\n",
       "      <td>N-acetyl cysteine</td>\n",
       "      <td>SNU-61</td>\n",
       "      <td>10.520666</td>\n",
       "      <td>CC(=O)NC(CS)C(=O)O</td>\n",
       "      <td>0.741172</td>\n",
       "    </tr>\n",
       "    <tr>\n",
       "      <th>242034</th>\n",
       "      <td>2499</td>\n",
       "      <td>N-acetyl cysteine</td>\n",
       "      <td>SNU-C5</td>\n",
       "      <td>10.701430</td>\n",
       "      <td>CC(=O)NC(CS)C(=O)O</td>\n",
       "      <td>0.744624</td>\n",
       "    </tr>\n",
       "    <tr>\n",
       "      <th>242035</th>\n",
       "      <td>2499</td>\n",
       "      <td>N-acetyl cysteine</td>\n",
       "      <td>DiFi</td>\n",
       "      <td>10.038769</td>\n",
       "      <td>CC(=O)NC(CS)C(=O)O</td>\n",
       "      <td>0.731820</td>\n",
       "    </tr>\n",
       "  </tbody>\n",
       "</table>\n",
       "<p>199501 rows × 6 columns</p>\n",
       "</div>"
      ],
      "text/plain": [
       "        DRUG_ID          DRUG_NAME CELL_LINE_NAME    LN_IC50  \\\n",
       "0          1003       Camptothecin         PFSK-1  -1.462148   \n",
       "1          1003       Camptothecin           A673  -4.869447   \n",
       "2          1003       Camptothecin            ES5  -3.360684   \n",
       "3          1003       Camptothecin            ES7  -5.045014   \n",
       "4          1003       Camptothecin          EW-11  -3.741620   \n",
       "...         ...                ...            ...        ...   \n",
       "242031     2499  N-acetyl cysteine        SNU-175  10.134495   \n",
       "242032     2499  N-acetyl cysteine        SNU-407   8.575555   \n",
       "242033     2499  N-acetyl cysteine         SNU-61  10.520666   \n",
       "242034     2499  N-acetyl cysteine         SNU-C5  10.701430   \n",
       "242035     2499  N-acetyl cysteine           DiFi  10.038769   \n",
       "\n",
       "                                                   SMILES  IC50_NORMALIZED  \n",
       "0       CCC1(C2=C(COC1=O)C(=O)N3CC4=CC5=CC=CC=C5N=C4C3...         0.463511  \n",
       "1       CCC1(C2=C(COC1=O)C(=O)N3CC4=CC5=CC=CC=C5N=C4C3...         0.380614  \n",
       "2       CCC1(C2=C(COC1=O)C(=O)N3CC4=CC5=CC=CC=C5N=C4C3...         0.416765  \n",
       "3       CCC1(C2=C(COC1=O)C(=O)N3CC4=CC5=CC=CC=C5N=C4C3...         0.376483  \n",
       "4       CCC1(C2=C(COC1=O)C(=O)N3CC4=CC5=CC=CC=C5N=C4C3...         0.407536  \n",
       "...                                                   ...              ...  \n",
       "242031                                 CC(=O)NC(CS)C(=O)O         0.733695  \n",
       "242032                                 CC(=O)NC(CS)C(=O)O         0.702150  \n",
       "242033                                 CC(=O)NC(CS)C(=O)O         0.741172  \n",
       "242034                                 CC(=O)NC(CS)C(=O)O         0.744624  \n",
       "242035                                 CC(=O)NC(CS)C(=O)O         0.731820  \n",
       "\n",
       "[199501 rows x 6 columns]"
      ]
     },
     "execution_count": 21,
     "metadata": {},
     "output_type": "execute_result"
    }
   ],
   "source": [
    "df"
   ]
  },
  {
   "cell_type": "code",
   "execution_count": 22,
   "id": "7b80ac39",
   "metadata": {},
   "outputs": [],
   "source": [
    "cell_lines_obs = set(df[\"CELL_LINE_NAME\"].unique())"
   ]
  },
  {
   "cell_type": "code",
   "execution_count": 23,
   "id": "726ae3b5",
   "metadata": {},
   "outputs": [
    {
     "name": "stdout",
     "output_type": "stream",
     "text": [
      "GDSC df cell lines: ['PFSK-1' 'A673' 'ES5' 'ES7' 'EW-11']\n",
      "GSVA df index: Index(['X22RV1_PROSTATE', 'X2313287_STOMACH', 'X253JBV_URINARY_TRACT',\n",
      "       'X253J_URINARY_TRACT', 'X42MGBA_CENTRAL_NERVOUS_SYSTEM'],\n",
      "      dtype='object')\n"
     ]
    }
   ],
   "source": [
    "print(\"GDSC df cell lines:\", df[\"CELL_LINE_NAME\"].unique()[:5])\n",
    "print(\"GSVA df index:\", gsva_df.columns[:5])"
   ]
  },
  {
   "cell_type": "code",
   "execution_count": 24,
   "id": "ce36becf",
   "metadata": {},
   "outputs": [],
   "source": [
    "# Normalize GDSC\n",
    "df[\"CELL_LINE_NAME\"] = df[\"CELL_LINE_NAME\"].str.strip().str.upper()\n",
    "cell_lines_obs = set(df[\"CELL_LINE_NAME\"].unique())\n",
    "\n",
    "# Normalize GSVA\n",
    "gsva_df.columns = gsva_df.columns.str.strip().str.upper()\n",
    "cell_lines_available = sorted(set(gsva_df.columns.str.split(\"_\").str[0].str.upper()))"
   ]
  },
  {
   "cell_type": "code",
   "execution_count": 25,
   "id": "41d51989",
   "metadata": {},
   "outputs": [
    {
     "name": "stdout",
     "output_type": "stream",
     "text": [
      "Now common cell lines: 133\n"
     ]
    }
   ],
   "source": [
    "common_cell_lines = cell_lines_obs.intersection(cell_lines_available)\n",
    "print(\"Now common cell lines:\", len(common_cell_lines))"
   ]
  },
  {
   "cell_type": "code",
   "execution_count": 26,
   "id": "4fbef97b",
   "metadata": {},
   "outputs": [
    {
     "data": {
      "text/plain": [
       "969"
      ]
     },
     "execution_count": 26,
     "metadata": {},
     "output_type": "execute_result"
    }
   ],
   "source": [
    "len(cell_lines_obs)"
   ]
  },
  {
   "cell_type": "code",
   "execution_count": 27,
   "id": "72af74b4",
   "metadata": {},
   "outputs": [
    {
     "data": {
      "text/plain": [
       "{'22RV1',\n",
       " '23132-87',\n",
       " '42-MG-BA',\n",
       " '451LU',\n",
       " '5637',\n",
       " '639-V',\n",
       " '647-V',\n",
       " '697',\n",
       " '769-P',\n",
       " '786-0',\n",
       " '8-MG-BA',\n",
       " '8305C',\n",
       " '8505C',\n",
       " 'A101D',\n",
       " 'A172',\n",
       " 'A204',\n",
       " 'A2058',\n",
       " 'A253',\n",
       " 'A2780',\n",
       " 'A3-KAW',\n",
       " 'A375',\n",
       " 'A388',\n",
       " 'A4-FUK',\n",
       " 'A427',\n",
       " 'A431',\n",
       " 'A498',\n",
       " 'A549',\n",
       " 'A673',\n",
       " 'A704',\n",
       " 'ABC-1',\n",
       " 'ACHN',\n",
       " 'AGS',\n",
       " 'ALL-PO',\n",
       " 'ALL-SIL',\n",
       " 'AM-38',\n",
       " 'AMO-1',\n",
       " 'AN3-CA',\n",
       " 'ARH-77',\n",
       " 'ASH-3',\n",
       " 'ASPC-1',\n",
       " 'ATN-1',\n",
       " 'AU565',\n",
       " 'B-CPAP',\n",
       " 'BALL-1',\n",
       " 'BB30-HNC',\n",
       " 'BB49-HNC',\n",
       " 'BB65-RCC',\n",
       " 'BC-1',\n",
       " 'BC-3',\n",
       " 'BE-13',\n",
       " 'BE2-M17',\n",
       " 'BECKER',\n",
       " 'BEN',\n",
       " 'BFTC-905',\n",
       " 'BFTC-909',\n",
       " 'BHT-101',\n",
       " 'BHY',\n",
       " 'BICR10',\n",
       " 'BICR22',\n",
       " 'BICR31',\n",
       " 'BICR78',\n",
       " 'BL-41',\n",
       " 'BONNA-12',\n",
       " 'BPH-1',\n",
       " 'BT-20',\n",
       " 'BT-474',\n",
       " 'BT-483',\n",
       " 'BT-549',\n",
       " 'BV-173',\n",
       " 'BXPC-3',\n",
       " 'C-33-A',\n",
       " 'C-4-I',\n",
       " 'C2BBE1',\n",
       " 'C32',\n",
       " 'C3A',\n",
       " 'CA-SKI',\n",
       " 'CA46',\n",
       " 'CA9-22',\n",
       " 'CADO-ES1',\n",
       " 'CAKI-1',\n",
       " 'CAL-120',\n",
       " 'CAL-12T',\n",
       " 'CAL-148',\n",
       " 'CAL-27',\n",
       " 'CAL-29',\n",
       " 'CAL-33',\n",
       " 'CAL-39',\n",
       " 'CAL-51',\n",
       " 'CAL-54',\n",
       " 'CAL-62',\n",
       " 'CAL-72',\n",
       " 'CAL-78',\n",
       " 'CAL-85-1',\n",
       " 'CALU-3',\n",
       " 'CALU-6',\n",
       " 'CAMA-1',\n",
       " 'CAOV-3',\n",
       " 'CAOV-4',\n",
       " 'CAPAN-1',\n",
       " 'CAPAN-2',\n",
       " 'CAR-1',\n",
       " 'CAS-1',\n",
       " 'CCK-81',\n",
       " 'CCRF-CEM',\n",
       " 'CESS',\n",
       " 'CFPAC-1',\n",
       " 'CGTH-W-1',\n",
       " 'CHAGO-K-1',\n",
       " 'CHL-1',\n",
       " 'CHP-126',\n",
       " 'CHP-134',\n",
       " 'CHP-212',\n",
       " 'CHSA0011',\n",
       " 'CHSA0108',\n",
       " 'CHSA8926',\n",
       " 'CL-11',\n",
       " 'CML-T1',\n",
       " 'COLO-205',\n",
       " 'COLO-320-HSR',\n",
       " 'COLO-668',\n",
       " 'COLO-678',\n",
       " 'COLO-679',\n",
       " 'COLO-680N',\n",
       " 'COLO-684',\n",
       " 'COLO-783',\n",
       " 'COLO-792',\n",
       " 'COLO-800',\n",
       " 'COLO-824',\n",
       " 'COLO-829',\n",
       " 'COR-L105',\n",
       " 'COR-L23',\n",
       " 'COR-L279',\n",
       " 'COR-L303',\n",
       " 'COR-L311',\n",
       " 'COR-L32',\n",
       " 'COR-L321',\n",
       " 'COR-L88',\n",
       " 'COR-L95',\n",
       " 'CP50-MEL-B',\n",
       " 'CP66-MEL',\n",
       " 'CPC-N',\n",
       " 'CRO-AP2',\n",
       " 'CS1',\n",
       " 'CTB-1',\n",
       " 'CTV-1',\n",
       " 'CW-2',\n",
       " 'D-245MG',\n",
       " 'D-247MG',\n",
       " 'D-263MG',\n",
       " 'D-283MED',\n",
       " 'D-336MG',\n",
       " 'D-392MG',\n",
       " 'D-423MG',\n",
       " 'D-502MG',\n",
       " 'D-542MG',\n",
       " 'D-566MG',\n",
       " 'DAN-G',\n",
       " 'DAOY',\n",
       " 'DAUDI',\n",
       " 'DB',\n",
       " 'DBTRG-05MG',\n",
       " 'DEL',\n",
       " 'DETROIT562',\n",
       " 'DG-75',\n",
       " 'DIFI',\n",
       " 'DJM-1',\n",
       " 'DK-MG',\n",
       " 'DMS-114',\n",
       " 'DMS-273',\n",
       " 'DMS-53',\n",
       " 'DMS-79',\n",
       " 'DND-41',\n",
       " 'DOHH-2',\n",
       " 'DOK',\n",
       " 'DOTC2-4510',\n",
       " 'DOV13',\n",
       " 'DSH1',\n",
       " 'DU-145',\n",
       " 'DU-4475',\n",
       " 'EB-3',\n",
       " 'EB2',\n",
       " 'EBC-1',\n",
       " 'EC-GI-10',\n",
       " 'ECC10',\n",
       " 'ECC12',\n",
       " 'EFM-19',\n",
       " 'EFM-192A',\n",
       " 'EFO-21',\n",
       " 'EFO-27',\n",
       " 'EJM',\n",
       " 'EKVX',\n",
       " 'EM-2',\n",
       " 'EMC-BAC-1',\n",
       " 'EMC-BAC-2',\n",
       " 'EN',\n",
       " 'EOL-1-CELL',\n",
       " 'EPLC-272H',\n",
       " 'ES-2',\n",
       " 'ES1',\n",
       " 'ES4',\n",
       " 'ES5',\n",
       " 'ES6',\n",
       " 'ES7',\n",
       " 'ES8',\n",
       " 'ESO26',\n",
       " 'ESO51',\n",
       " 'ESS-1',\n",
       " 'ETK-1',\n",
       " 'EVSA-T',\n",
       " 'EW-1',\n",
       " 'EW-11',\n",
       " 'EW-12',\n",
       " 'EW-13',\n",
       " 'EW-16',\n",
       " 'EW-18',\n",
       " 'EW-22',\n",
       " 'EW-24',\n",
       " 'EW-3',\n",
       " 'EW-7',\n",
       " 'FADU',\n",
       " 'FARAGE',\n",
       " 'FLO-1',\n",
       " 'FTC-133',\n",
       " 'FU-OV-1',\n",
       " 'FU97',\n",
       " 'G-292-CLONE-A141B1',\n",
       " 'G-361',\n",
       " 'G-401',\n",
       " 'G-402',\n",
       " 'G-MEL',\n",
       " 'GA-10',\n",
       " 'GAK',\n",
       " 'GAMG',\n",
       " 'GB-1',\n",
       " 'GCIY',\n",
       " 'GCT',\n",
       " 'GDM-1',\n",
       " 'GI-1',\n",
       " 'GI-ME-N',\n",
       " 'GOTO',\n",
       " 'GP5D',\n",
       " 'GR-ST',\n",
       " 'GRANTA-519',\n",
       " 'H-EMC-SS',\n",
       " 'H3255',\n",
       " 'H4',\n",
       " 'H9',\n",
       " 'HA7-RCC',\n",
       " 'HAL-01',\n",
       " 'HARA',\n",
       " 'HC-1',\n",
       " 'HCC-15',\n",
       " 'HCC-33',\n",
       " 'HCC-366',\n",
       " 'HCC-44',\n",
       " 'HCC-78',\n",
       " 'HCC-827',\n",
       " 'HCC1143',\n",
       " 'HCC1187',\n",
       " 'HCC1395',\n",
       " 'HCC1419',\n",
       " 'HCC1428',\n",
       " 'HCC1500',\n",
       " 'HCC1569',\n",
       " 'HCC1599',\n",
       " 'HCC1806',\n",
       " 'HCC1937',\n",
       " 'HCC1954',\n",
       " 'HCC202',\n",
       " 'HCC2157',\n",
       " 'HCC2218',\n",
       " 'HCC2998',\n",
       " 'HCC38',\n",
       " 'HCC70',\n",
       " 'HCE-4',\n",
       " 'HCT-116',\n",
       " 'HCT-15',\n",
       " 'HDLM-2',\n",
       " 'HDQ-P1',\n",
       " 'HEC-1',\n",
       " 'HEL',\n",
       " 'HELA',\n",
       " 'HEP3B2-1-7',\n",
       " 'HEY',\n",
       " 'HGC-27',\n",
       " 'HH',\n",
       " 'HL-60',\n",
       " 'HLE',\n",
       " 'HMV-II',\n",
       " 'HO-1-N-1',\n",
       " 'HO-1-U-1',\n",
       " 'HOP-62',\n",
       " 'HOP-92',\n",
       " 'HOS',\n",
       " 'HPAC',\n",
       " 'HPAF-II',\n",
       " 'HS-445',\n",
       " 'HS-578-T',\n",
       " 'HS-633T',\n",
       " 'HS-683',\n",
       " 'HS-746T',\n",
       " 'HS-766T',\n",
       " 'HS-939-T',\n",
       " 'HS-940-T',\n",
       " 'HSC-2',\n",
       " 'HSC-3',\n",
       " 'HSC-39',\n",
       " 'HSC-4',\n",
       " 'HT',\n",
       " 'HT-1080',\n",
       " 'HT-115',\n",
       " 'HT-1197',\n",
       " 'HT-1376',\n",
       " 'HT-144',\n",
       " 'HT-29',\n",
       " 'HT-3',\n",
       " 'HT55',\n",
       " 'HTC-C3',\n",
       " 'HUCCT1',\n",
       " 'HUH-1',\n",
       " 'HUH-7',\n",
       " 'HUO-3N1',\n",
       " 'HUO9',\n",
       " 'HUP-T3',\n",
       " 'HUP-T4',\n",
       " 'HUTU-80',\n",
       " 'IA-LM',\n",
       " 'IGR-1',\n",
       " 'IGR-37',\n",
       " 'IGROV-1',\n",
       " 'IHH-4',\n",
       " 'IM-9',\n",
       " 'IM-95',\n",
       " 'IMR-5',\n",
       " 'IPC-298',\n",
       " 'IST-MEL1',\n",
       " 'IST-MES1',\n",
       " 'IST-SL1',\n",
       " 'IST-SL2',\n",
       " 'J82',\n",
       " 'JAR',\n",
       " 'JEG-3',\n",
       " 'JEKO-1',\n",
       " 'JHH-1',\n",
       " 'JHH-2',\n",
       " 'JHH-4',\n",
       " 'JHH-6',\n",
       " 'JHH-7',\n",
       " 'JHOS-2',\n",
       " 'JHOS-3',\n",
       " 'JHOS-4',\n",
       " 'JHU-011',\n",
       " 'JHU-022',\n",
       " 'JHU-029',\n",
       " 'JIMT-1',\n",
       " 'JIYOYEP-2003',\n",
       " 'JJN-3',\n",
       " 'JM1',\n",
       " 'JSC-1',\n",
       " 'JURKAT',\n",
       " 'JURL-MK1',\n",
       " 'JVM-2',\n",
       " 'JVM-3',\n",
       " 'K-562',\n",
       " 'K2',\n",
       " 'K5',\n",
       " 'KALS-1',\n",
       " 'KARPAS-1106P',\n",
       " 'KARPAS-231',\n",
       " 'KARPAS-299',\n",
       " 'KARPAS-422',\n",
       " 'KARPAS-45',\n",
       " 'KARPAS-620',\n",
       " 'KASUMI-1',\n",
       " 'KATOIII',\n",
       " 'KCL-22',\n",
       " 'KE-37',\n",
       " 'KELLY',\n",
       " 'KG-1',\n",
       " 'KGN',\n",
       " 'KINGS-1',\n",
       " 'KLE',\n",
       " 'KM-H2',\n",
       " 'KM12',\n",
       " 'KMH-2',\n",
       " 'KMOE-2',\n",
       " 'KMRC-1',\n",
       " 'KMRC-20',\n",
       " 'KMS-11',\n",
       " 'KMS-12-BM',\n",
       " 'KNS-42',\n",
       " 'KNS-62',\n",
       " 'KNS-81-FD',\n",
       " 'KON',\n",
       " 'KOPN-8',\n",
       " 'KOSC-2',\n",
       " 'KP-1N',\n",
       " 'KP-2',\n",
       " 'KP-3',\n",
       " 'KP-4',\n",
       " 'KP-N-RT-BM-1',\n",
       " 'KP-N-YN',\n",
       " 'KP-N-YS',\n",
       " 'KS-1',\n",
       " 'KU-19-19',\n",
       " 'KU812',\n",
       " 'KURAMOCHI',\n",
       " 'KY821',\n",
       " 'KYAE-1',\n",
       " 'KYM-1',\n",
       " 'KYSE-140',\n",
       " 'KYSE-150',\n",
       " 'KYSE-180',\n",
       " 'KYSE-220',\n",
       " 'KYSE-270',\n",
       " 'KYSE-410',\n",
       " 'KYSE-450',\n",
       " 'KYSE-50',\n",
       " 'KYSE-510',\n",
       " 'KYSE-520',\n",
       " 'KYSE-70',\n",
       " 'L-1236',\n",
       " 'L-363',\n",
       " 'L-428',\n",
       " 'L-540',\n",
       " 'LAMA-84',\n",
       " 'LAN-6',\n",
       " 'LB1047-RCC',\n",
       " 'LB2241-RCC',\n",
       " 'LB2518-MEL',\n",
       " 'LB373-MEL-D',\n",
       " 'LB647-SCLC',\n",
       " 'LB771-HNC',\n",
       " 'LB831-BLC',\n",
       " 'LB996-RCC',\n",
       " 'LC-1-SQ',\n",
       " 'LC-2-AD',\n",
       " 'LC4-1',\n",
       " 'LCLC-103H',\n",
       " 'LCLC-97TM1',\n",
       " 'LK-2',\n",
       " 'LN-18',\n",
       " 'LN-229',\n",
       " 'LN-405',\n",
       " 'LNCAP-CLONE-FGC',\n",
       " 'LNZTA3WT4',\n",
       " 'LOU-NH91',\n",
       " 'LOUCY',\n",
       " 'LOVO',\n",
       " 'LOXIMVI',\n",
       " 'LP-1',\n",
       " 'LS-1034',\n",
       " 'LS-123',\n",
       " 'LS-180',\n",
       " 'LS-411N',\n",
       " 'LS-513',\n",
       " 'LU-134-A',\n",
       " 'LU-135',\n",
       " 'LU-139',\n",
       " 'LU-165',\n",
       " 'LU-65',\n",
       " 'LU-99A',\n",
       " 'LXF-289',\n",
       " 'M059J',\n",
       " 'M14',\n",
       " 'MC-IXC',\n",
       " 'MC116',\n",
       " 'MCF7',\n",
       " 'MDA-MB-157',\n",
       " 'MDA-MB-175-VII',\n",
       " 'MDA-MB-231',\n",
       " 'MDA-MB-330',\n",
       " 'MDA-MB-361',\n",
       " 'MDA-MB-415',\n",
       " 'MDA-MB-436',\n",
       " 'MDA-MB-453',\n",
       " 'MDA-MB-468',\n",
       " 'MDST8',\n",
       " 'ME-1',\n",
       " 'ME-180',\n",
       " 'MEG-01',\n",
       " 'MEL-HO',\n",
       " 'MEL-JUSO',\n",
       " 'MES-SA',\n",
       " 'MEWO',\n",
       " 'MFE-280',\n",
       " 'MFE-296',\n",
       " 'MFE-319',\n",
       " 'MFH-INO',\n",
       " 'MFM-223',\n",
       " 'MG-63',\n",
       " 'MHH-CALL-2',\n",
       " 'MHH-CALL-4',\n",
       " 'MHH-ES-1',\n",
       " 'MHH-NB-11',\n",
       " 'MHH-PREB-1',\n",
       " 'MIA-PACA-2',\n",
       " 'MKN1',\n",
       " 'MKN28',\n",
       " 'MKN45',\n",
       " 'MKN7',\n",
       " 'ML-1',\n",
       " 'ML-2',\n",
       " 'MLMA',\n",
       " 'MM1S',\n",
       " 'MMAC-SF',\n",
       " 'MN-60',\n",
       " 'MO-T',\n",
       " 'MOG-G-CCM',\n",
       " 'MOG-G-UVW',\n",
       " 'MOLM-13',\n",
       " 'MOLM-16',\n",
       " 'MOLP-8',\n",
       " 'MOLT-13',\n",
       " 'MOLT-16',\n",
       " 'MOLT-4',\n",
       " 'MONO-MAC-6',\n",
       " 'MPP-89',\n",
       " 'MRK-NU-1',\n",
       " 'MS-1',\n",
       " 'MS751',\n",
       " 'MSTO-211H',\n",
       " 'MV-4-11',\n",
       " 'MY-M12',\n",
       " 'MZ1-PC',\n",
       " 'MZ2-MEL',\n",
       " 'MZ7-MEL',\n",
       " 'NALM-6',\n",
       " 'NAMALWA',\n",
       " 'NB(TU)1-10',\n",
       " 'NB1',\n",
       " 'NB10',\n",
       " 'NB12',\n",
       " 'NB13',\n",
       " 'NB14',\n",
       " 'NB17',\n",
       " 'NB4',\n",
       " 'NB5',\n",
       " 'NB6',\n",
       " 'NB69',\n",
       " 'NB7',\n",
       " 'NCC010',\n",
       " 'NCC021',\n",
       " 'NCCIT',\n",
       " 'NCI-H1048',\n",
       " 'NCI-H1092',\n",
       " 'NCI-H1105',\n",
       " 'NCI-H1155',\n",
       " 'NCI-H1299',\n",
       " 'NCI-H1341',\n",
       " 'NCI-H1355',\n",
       " 'NCI-H1435',\n",
       " 'NCI-H1436',\n",
       " 'NCI-H1437',\n",
       " 'NCI-H146',\n",
       " 'NCI-H1563',\n",
       " 'NCI-H1568',\n",
       " 'NCI-H1573',\n",
       " 'NCI-H1581',\n",
       " 'NCI-H1623',\n",
       " 'NCI-H1648',\n",
       " 'NCI-H1650',\n",
       " 'NCI-H1651',\n",
       " 'NCI-H1666',\n",
       " 'NCI-H1688',\n",
       " 'NCI-H1693',\n",
       " 'NCI-H1694',\n",
       " 'NCI-H1703',\n",
       " 'NCI-H1734',\n",
       " 'NCI-H1755',\n",
       " 'NCI-H1770',\n",
       " 'NCI-H1781',\n",
       " 'NCI-H1792',\n",
       " 'NCI-H1793',\n",
       " 'NCI-H1836',\n",
       " 'NCI-H1838',\n",
       " 'NCI-H1869',\n",
       " 'NCI-H1876',\n",
       " 'NCI-H1915',\n",
       " 'NCI-H1944',\n",
       " 'NCI-H196',\n",
       " 'NCI-H1963',\n",
       " 'NCI-H1975',\n",
       " 'NCI-H1993',\n",
       " 'NCI-H2009',\n",
       " 'NCI-H2023',\n",
       " 'NCI-H2029',\n",
       " 'NCI-H2030',\n",
       " 'NCI-H2052',\n",
       " 'NCI-H2066',\n",
       " 'NCI-H2081',\n",
       " 'NCI-H2085',\n",
       " 'NCI-H2087',\n",
       " 'NCI-H209',\n",
       " 'NCI-H211',\n",
       " 'NCI-H2110',\n",
       " 'NCI-H2122',\n",
       " 'NCI-H2135',\n",
       " 'NCI-H2141',\n",
       " 'NCI-H2170',\n",
       " 'NCI-H2171',\n",
       " 'NCI-H2172',\n",
       " 'NCI-H2196',\n",
       " 'NCI-H2227',\n",
       " 'NCI-H2228',\n",
       " 'NCI-H226',\n",
       " 'NCI-H2291',\n",
       " 'NCI-H23',\n",
       " 'NCI-H2342',\n",
       " 'NCI-H2347',\n",
       " 'NCI-H2369',\n",
       " 'NCI-H2373',\n",
       " 'NCI-H2405',\n",
       " 'NCI-H2444',\n",
       " 'NCI-H2452',\n",
       " 'NCI-H2461',\n",
       " 'NCI-H250',\n",
       " 'NCI-H2591',\n",
       " 'NCI-H2595',\n",
       " 'NCI-H2722',\n",
       " 'NCI-H2731',\n",
       " 'NCI-H2795',\n",
       " 'NCI-H28',\n",
       " 'NCI-H2803',\n",
       " 'NCI-H2804',\n",
       " 'NCI-H2810',\n",
       " 'NCI-H2818',\n",
       " 'NCI-H2869',\n",
       " 'NCI-H290',\n",
       " 'NCI-H292',\n",
       " 'NCI-H3118',\n",
       " 'NCI-H3122',\n",
       " 'NCI-H322M',\n",
       " 'NCI-H345',\n",
       " 'NCI-H358',\n",
       " 'NCI-H441',\n",
       " 'NCI-H446',\n",
       " 'NCI-H460',\n",
       " 'NCI-H508',\n",
       " 'NCI-H510A',\n",
       " 'NCI-H513',\n",
       " 'NCI-H520',\n",
       " 'NCI-H522',\n",
       " 'NCI-H524',\n",
       " 'NCI-H526',\n",
       " 'NCI-H596',\n",
       " 'NCI-H64',\n",
       " 'NCI-H647',\n",
       " 'NCI-H650',\n",
       " 'NCI-H660',\n",
       " 'NCI-H661',\n",
       " 'NCI-H69',\n",
       " 'NCI-H716',\n",
       " 'NCI-H720',\n",
       " 'NCI-H727',\n",
       " 'NCI-H740',\n",
       " 'NCI-H747',\n",
       " 'NCI-H748',\n",
       " 'NCI-H810',\n",
       " 'NCI-H82',\n",
       " 'NCI-H835',\n",
       " 'NCI-H838',\n",
       " 'NCI-H841',\n",
       " 'NCI-H847',\n",
       " 'NCI-H929',\n",
       " 'NCI-N87',\n",
       " 'NEC8',\n",
       " 'NH-12',\n",
       " 'NK-92MI',\n",
       " 'NKM-1',\n",
       " 'NMC-G1',\n",
       " 'NO-10',\n",
       " 'NO-11',\n",
       " 'NOMO-1',\n",
       " 'NOS-1',\n",
       " 'NTERA-2-CL-D1',\n",
       " 'NU-DUL-1',\n",
       " 'NUGC-3',\n",
       " 'NUGC-4',\n",
       " 'NY',\n",
       " 'OACM5-1',\n",
       " 'OACP4C',\n",
       " 'OAW-28',\n",
       " 'OAW-42',\n",
       " 'OC-314',\n",
       " 'OCI-AML2',\n",
       " 'OCI-AML3',\n",
       " 'OCI-AML5',\n",
       " 'OCI-LY-19',\n",
       " 'OCI-LY7',\n",
       " 'OCI-M1',\n",
       " 'OCUB-M',\n",
       " 'OCUM-1',\n",
       " 'OE19',\n",
       " 'OE21',\n",
       " 'OE33',\n",
       " 'OMC-1',\n",
       " 'ONS-76',\n",
       " 'OPM-2',\n",
       " 'OS-RC-2',\n",
       " 'OSC-19',\n",
       " 'OSC-20',\n",
       " 'OV-17R',\n",
       " 'OV-56',\n",
       " 'OV-7',\n",
       " 'OV-90',\n",
       " 'OVCA420',\n",
       " 'OVCA433',\n",
       " 'OVCAR-3',\n",
       " 'OVCAR-4',\n",
       " 'OVCAR-5',\n",
       " 'OVCAR-8',\n",
       " 'OVISE',\n",
       " 'OVK-18',\n",
       " 'OVKATE',\n",
       " 'OVMIU',\n",
       " 'OVTOKO',\n",
       " 'P12-ICHIKAWA',\n",
       " 'P30-OHK',\n",
       " 'P31-FUJ',\n",
       " 'P32-ISH',\n",
       " 'PA-1',\n",
       " 'PA-TU-8902',\n",
       " 'PA-TU-8988T',\n",
       " 'PANC-02-03',\n",
       " 'PANC-03-27',\n",
       " 'PANC-04-03',\n",
       " 'PANC-08-13',\n",
       " 'PANC-10-05',\n",
       " 'PC-14',\n",
       " 'PC-3',\n",
       " 'PC-3_[JPC-3]',\n",
       " 'PCI-15A',\n",
       " 'PCI-30',\n",
       " 'PCI-4B',\n",
       " 'PCI-6A',\n",
       " 'PE-CA-PJ15',\n",
       " 'PEO1',\n",
       " 'PF-382',\n",
       " 'PFSK-1',\n",
       " 'PL-21',\n",
       " 'PL4',\n",
       " 'PSN1',\n",
       " 'PWR-1E',\n",
       " 'QGP-1',\n",
       " 'QIMR-WIL',\n",
       " 'RAJI',\n",
       " 'RAMOS-2G6-4C10',\n",
       " 'RC-K8',\n",
       " 'RCC-AB',\n",
       " 'RCC-ER',\n",
       " 'RCC-FG2',\n",
       " 'RCC-JF',\n",
       " 'RCC-JW',\n",
       " 'RCC-MF',\n",
       " 'RCC10RGB',\n",
       " 'RCH-ACV',\n",
       " 'RCM-1',\n",
       " 'RD',\n",
       " 'REH',\n",
       " 'RERF-GC-1B',\n",
       " 'RERF-LC-KJ',\n",
       " 'RERF-LC-MS',\n",
       " 'RERF-LC-SQ1',\n",
       " 'RF-48',\n",
       " 'RH-1',\n",
       " 'RH-18',\n",
       " 'RH-41',\n",
       " 'RKN',\n",
       " 'RKO',\n",
       " 'RL',\n",
       " 'RL95-2',\n",
       " 'RMG-I',\n",
       " 'RO82-W-1',\n",
       " 'ROS-50',\n",
       " 'RPMI-6666',\n",
       " 'RPMI-7951',\n",
       " 'RPMI-8226',\n",
       " 'RPMI-8402',\n",
       " 'RPMI-8866',\n",
       " 'RS4-11',\n",
       " 'RT-112',\n",
       " 'RT4',\n",
       " 'RVH-421',\n",
       " 'RXF393',\n",
       " 'SAOS-2',\n",
       " 'SAS',\n",
       " 'SAT',\n",
       " 'SBC-1',\n",
       " 'SBC-3',\n",
       " 'SBC-5',\n",
       " 'SCC-15',\n",
       " 'SCC-25',\n",
       " 'SCC-3',\n",
       " 'SCC-4',\n",
       " 'SCC-9',\n",
       " 'SCC90',\n",
       " 'SCH',\n",
       " 'SF126',\n",
       " 'SF268',\n",
       " 'SF295',\n",
       " 'SF539',\n",
       " 'SH-4',\n",
       " 'SHP-77',\n",
       " 'SIG-M5',\n",
       " 'SIHA',\n",
       " 'SIMA',\n",
       " 'SISO',\n",
       " 'SJRH30',\n",
       " 'SJSA-1',\n",
       " 'SK-CO-1',\n",
       " 'SK-ES-1',\n",
       " 'SK-GT-2',\n",
       " 'SK-GT-4',\n",
       " 'SK-HEP-1',\n",
       " 'SK-LMS-1',\n",
       " 'SK-LU-1',\n",
       " 'SK-MEL-1',\n",
       " 'SK-MEL-2',\n",
       " 'SK-MEL-24',\n",
       " 'SK-MEL-28',\n",
       " 'SK-MEL-3',\n",
       " 'SK-MEL-30',\n",
       " 'SK-MEL-31',\n",
       " 'SK-MEL-5',\n",
       " 'SK-MES-1',\n",
       " 'SK-MG-1',\n",
       " 'SK-MM-2',\n",
       " 'SK-N-AS',\n",
       " 'SK-N-DZ',\n",
       " 'SK-N-FI',\n",
       " 'SK-N-SH',\n",
       " 'SK-OV-3',\n",
       " 'SK-PN-DW',\n",
       " 'SK-UT-1',\n",
       " 'SKG-IIIA',\n",
       " 'SKM-1',\n",
       " 'SKN',\n",
       " 'SKN-3',\n",
       " 'SLVL',\n",
       " 'SN12C',\n",
       " 'SNB75',\n",
       " 'SNG-M',\n",
       " 'SNU-1',\n",
       " 'SNU-1040',\n",
       " 'SNU-16',\n",
       " 'SNU-175',\n",
       " 'SNU-283',\n",
       " 'SNU-387',\n",
       " 'SNU-398',\n",
       " 'SNU-407',\n",
       " 'SNU-423',\n",
       " 'SNU-449',\n",
       " 'SNU-5',\n",
       " 'SNU-61',\n",
       " 'SNU-81',\n",
       " 'SNU-C1',\n",
       " 'SNU-C2B',\n",
       " 'SNU-C5',\n",
       " 'SR',\n",
       " 'ST486',\n",
       " 'STS-0421',\n",
       " 'SU-DHL-1',\n",
       " 'SU-DHL-10',\n",
       " 'SU-DHL-16',\n",
       " 'SU-DHL-4',\n",
       " 'SU-DHL-5',\n",
       " 'SU-DHL-6',\n",
       " 'SU-DHL-8',\n",
       " 'SU8686',\n",
       " 'SUIT-2',\n",
       " 'SUP-B15',\n",
       " 'SUP-B8',\n",
       " 'SUP-HD1',\n",
       " 'SUP-M2',\n",
       " 'SUP-T1',\n",
       " 'SW1088',\n",
       " 'SW1116',\n",
       " 'SW1271',\n",
       " 'SW13',\n",
       " 'SW1417',\n",
       " 'SW1463',\n",
       " 'SW156',\n",
       " 'SW1573',\n",
       " 'SW1710',\n",
       " 'SW1783',\n",
       " 'SW1990',\n",
       " 'SW48',\n",
       " 'SW620',\n",
       " 'SW626',\n",
       " 'SW684',\n",
       " 'SW756',\n",
       " 'SW780',\n",
       " 'SW837',\n",
       " 'SW872',\n",
       " 'SW948',\n",
       " 'SW954',\n",
       " 'SW962',\n",
       " 'SW982',\n",
       " 'T-T',\n",
       " 'T24',\n",
       " 'T47D',\n",
       " 'T84',\n",
       " 'T98G',\n",
       " 'TALL-1',\n",
       " 'TC-71',\n",
       " 'TC-YIK',\n",
       " 'TCCSUP',\n",
       " 'TE-1',\n",
       " 'TE-10',\n",
       " 'TE-11',\n",
       " 'TE-12',\n",
       " 'TE-15',\n",
       " 'TE-4',\n",
       " 'TE-441-T',\n",
       " 'TE-5',\n",
       " 'TE-6',\n",
       " 'TE-8',\n",
       " 'TE-9',\n",
       " 'TGBC11TKB',\n",
       " 'TGBC1TKB',\n",
       " 'TGBC24TKB',\n",
       " 'TGW',\n",
       " 'THP-1',\n",
       " 'TK',\n",
       " 'TK10',\n",
       " 'TMK-1',\n",
       " 'TOV-112D',\n",
       " 'TOV-21G',\n",
       " 'TT',\n",
       " 'TT2609-C02',\n",
       " 'TUR',\n",
       " 'TYK-NU',\n",
       " 'U-118-MG',\n",
       " 'U-2-OS',\n",
       " 'U-266',\n",
       " 'U-698-M',\n",
       " 'U-87-MG',\n",
       " 'U-CH2',\n",
       " 'U031',\n",
       " 'U251',\n",
       " 'UACC-257',\n",
       " 'UACC-62',\n",
       " 'UACC-812',\n",
       " 'UACC-893',\n",
       " 'UM-UC-3',\n",
       " 'UMC-11',\n",
       " 'UWB1.289',\n",
       " 'VA-ES-BJ',\n",
       " 'VAL',\n",
       " 'VCAP',\n",
       " 'VMRC-LCD',\n",
       " 'VMRC-MELG',\n",
       " 'VMRC-RCW',\n",
       " 'VMRC-RCZ',\n",
       " 'WIL2-NS',\n",
       " 'WM-115',\n",
       " 'WM1552C',\n",
       " 'WM278',\n",
       " 'WM35',\n",
       " 'WM793B',\n",
       " 'WSU-DLCL2',\n",
       " 'WSU-NHL',\n",
       " 'YAPC',\n",
       " 'YH-13',\n",
       " 'YKG-1',\n",
       " 'YMB-1-E',\n",
       " 'YT',\n",
       " 'ZR-75-30'}"
      ]
     },
     "execution_count": 27,
     "metadata": {},
     "output_type": "execute_result"
    }
   ],
   "source": [
    "cell_lines_obs"
   ]
  },
  {
   "cell_type": "code",
   "execution_count": 28,
   "id": "14955917",
   "metadata": {},
   "outputs": [
    {
     "data": {
      "text/plain": [
       "['A101D',\n",
       " 'A1207',\n",
       " 'A172',\n",
       " 'A204',\n",
       " 'A2058',\n",
       " 'A253',\n",
       " 'A2780',\n",
       " 'A375',\n",
       " 'A3KAW',\n",
       " 'A427']"
      ]
     },
     "execution_count": 28,
     "metadata": {},
     "output_type": "execute_result"
    }
   ],
   "source": [
    "cell_lines_available[:10]"
   ]
  },
  {
   "cell_type": "code",
   "execution_count": 29,
   "id": "f5f0b8de",
   "metadata": {},
   "outputs": [],
   "source": [
    "import re\n",
    "\n",
    "def clean_name(name):\n",
    "    return re.sub(r'[^A-Za-z0-9]', '', name).upper()"
   ]
  },
  {
   "cell_type": "code",
   "execution_count": 30,
   "id": "407b9cd1",
   "metadata": {},
   "outputs": [],
   "source": [
    "cell_lines_available = {clean_name(name) for name in cell_lines_available}\n",
    "cell_lines_obs = {clean_name(name) for name in cell_lines_obs}"
   ]
  },
  {
   "cell_type": "code",
   "execution_count": 31,
   "id": "b1753e21",
   "metadata": {},
   "outputs": [
    {
     "name": "stdout",
     "output_type": "stream",
     "text": [
      "Common cell lines: 607\n"
     ]
    }
   ],
   "source": [
    "common_cell_lines = cell_lines_obs.intersection(cell_lines_available)\n",
    "print(\"Common cell lines:\", len(common_cell_lines))"
   ]
  },
  {
   "cell_type": "code",
   "execution_count": 32,
   "id": "0fa9a285",
   "metadata": {},
   "outputs": [],
   "source": [
    "df[\"CELL_LINE_NAME_CLEAN\"] = df[\"CELL_LINE_NAME\"].apply(clean_name)\n",
    "df = df[df[\"CELL_LINE_NAME_CLEAN\"].isin(common_cell_lines)]"
   ]
  },
  {
   "cell_type": "code",
   "execution_count": 33,
   "id": "77318609",
   "metadata": {},
   "outputs": [
    {
     "data": {
      "text/html": [
       "<div>\n",
       "<style scoped>\n",
       "    .dataframe tbody tr th:only-of-type {\n",
       "        vertical-align: middle;\n",
       "    }\n",
       "\n",
       "    .dataframe tbody tr th {\n",
       "        vertical-align: top;\n",
       "    }\n",
       "\n",
       "    .dataframe thead th {\n",
       "        text-align: right;\n",
       "    }\n",
       "</style>\n",
       "<table border=\"1\" class=\"dataframe\">\n",
       "  <thead>\n",
       "    <tr style=\"text-align: right;\">\n",
       "      <th></th>\n",
       "      <th>DRUG_ID</th>\n",
       "      <th>DRUG_NAME</th>\n",
       "      <th>CELL_LINE_NAME</th>\n",
       "      <th>LN_IC50</th>\n",
       "      <th>SMILES</th>\n",
       "      <th>IC50_NORMALIZED</th>\n",
       "      <th>CELL_LINE_NAME_CLEAN</th>\n",
       "    </tr>\n",
       "  </thead>\n",
       "  <tbody>\n",
       "    <tr>\n",
       "      <th>1</th>\n",
       "      <td>1003</td>\n",
       "      <td>Camptothecin</td>\n",
       "      <td>A673</td>\n",
       "      <td>-4.869447</td>\n",
       "      <td>CCC1(C2=C(COC1=O)C(=O)N3CC4=CC5=CC=CC=C5N=C4C3...</td>\n",
       "      <td>0.380614</td>\n",
       "      <td>A673</td>\n",
       "    </tr>\n",
       "    <tr>\n",
       "      <th>5</th>\n",
       "      <td>1003</td>\n",
       "      <td>Camptothecin</td>\n",
       "      <td>SK-ES-1</td>\n",
       "      <td>-5.143017</td>\n",
       "      <td>CCC1(C2=C(COC1=O)C(=O)N3CC4=CC5=CC=CC=C5N=C4C3...</td>\n",
       "      <td>0.374186</td>\n",
       "      <td>SKES1</td>\n",
       "    </tr>\n",
       "    <tr>\n",
       "      <th>6</th>\n",
       "      <td>1003</td>\n",
       "      <td>Camptothecin</td>\n",
       "      <td>COLO-829</td>\n",
       "      <td>-1.230277</td>\n",
       "      <td>CCC1(C2=C(COC1=O)C(=O)N3CC4=CC5=CC=CC=C5N=C4C3...</td>\n",
       "      <td>0.469282</td>\n",
       "      <td>COLO829</td>\n",
       "    </tr>\n",
       "    <tr>\n",
       "      <th>8</th>\n",
       "      <td>1003</td>\n",
       "      <td>Camptothecin</td>\n",
       "      <td>RT4</td>\n",
       "      <td>-2.962875</td>\n",
       "      <td>CCC1(C2=C(COC1=O)C(=O)N3CC4=CC5=CC=CC=C5N=C4C3...</td>\n",
       "      <td>0.426465</td>\n",
       "      <td>RT4</td>\n",
       "    </tr>\n",
       "    <tr>\n",
       "      <th>9</th>\n",
       "      <td>1003</td>\n",
       "      <td>Camptothecin</td>\n",
       "      <td>SW780</td>\n",
       "      <td>-1.447051</td>\n",
       "      <td>CCC1(C2=C(COC1=O)C(=O)N3CC4=CC5=CC=CC=C5N=C4C3...</td>\n",
       "      <td>0.463887</td>\n",
       "      <td>SW780</td>\n",
       "    </tr>\n",
       "    <tr>\n",
       "      <th>...</th>\n",
       "      <td>...</td>\n",
       "      <td>...</td>\n",
       "      <td>...</td>\n",
       "      <td>...</td>\n",
       "      <td>...</td>\n",
       "      <td>...</td>\n",
       "      <td>...</td>\n",
       "    </tr>\n",
       "    <tr>\n",
       "      <th>242030</th>\n",
       "      <td>2499</td>\n",
       "      <td>N-acetyl cysteine</td>\n",
       "      <td>MM1S</td>\n",
       "      <td>9.320173</td>\n",
       "      <td>CC(=O)NC(CS)C(=O)O</td>\n",
       "      <td>0.717484</td>\n",
       "      <td>MM1S</td>\n",
       "    </tr>\n",
       "    <tr>\n",
       "      <th>242031</th>\n",
       "      <td>2499</td>\n",
       "      <td>N-acetyl cysteine</td>\n",
       "      <td>SNU-175</td>\n",
       "      <td>10.134495</td>\n",
       "      <td>CC(=O)NC(CS)C(=O)O</td>\n",
       "      <td>0.733695</td>\n",
       "      <td>SNU175</td>\n",
       "    </tr>\n",
       "    <tr>\n",
       "      <th>242032</th>\n",
       "      <td>2499</td>\n",
       "      <td>N-acetyl cysteine</td>\n",
       "      <td>SNU-407</td>\n",
       "      <td>8.575555</td>\n",
       "      <td>CC(=O)NC(CS)C(=O)O</td>\n",
       "      <td>0.702150</td>\n",
       "      <td>SNU407</td>\n",
       "    </tr>\n",
       "    <tr>\n",
       "      <th>242033</th>\n",
       "      <td>2499</td>\n",
       "      <td>N-acetyl cysteine</td>\n",
       "      <td>SNU-61</td>\n",
       "      <td>10.520666</td>\n",
       "      <td>CC(=O)NC(CS)C(=O)O</td>\n",
       "      <td>0.741172</td>\n",
       "      <td>SNU61</td>\n",
       "    </tr>\n",
       "    <tr>\n",
       "      <th>242034</th>\n",
       "      <td>2499</td>\n",
       "      <td>N-acetyl cysteine</td>\n",
       "      <td>SNU-C5</td>\n",
       "      <td>10.701430</td>\n",
       "      <td>CC(=O)NC(CS)C(=O)O</td>\n",
       "      <td>0.744624</td>\n",
       "      <td>SNUC5</td>\n",
       "    </tr>\n",
       "  </tbody>\n",
       "</table>\n",
       "<p>126205 rows × 7 columns</p>\n",
       "</div>"
      ],
      "text/plain": [
       "        DRUG_ID          DRUG_NAME CELL_LINE_NAME    LN_IC50  \\\n",
       "1          1003       Camptothecin           A673  -4.869447   \n",
       "5          1003       Camptothecin        SK-ES-1  -5.143017   \n",
       "6          1003       Camptothecin       COLO-829  -1.230277   \n",
       "8          1003       Camptothecin            RT4  -2.962875   \n",
       "9          1003       Camptothecin          SW780  -1.447051   \n",
       "...         ...                ...            ...        ...   \n",
       "242030     2499  N-acetyl cysteine           MM1S   9.320173   \n",
       "242031     2499  N-acetyl cysteine        SNU-175  10.134495   \n",
       "242032     2499  N-acetyl cysteine        SNU-407   8.575555   \n",
       "242033     2499  N-acetyl cysteine         SNU-61  10.520666   \n",
       "242034     2499  N-acetyl cysteine         SNU-C5  10.701430   \n",
       "\n",
       "                                                   SMILES  IC50_NORMALIZED  \\\n",
       "1       CCC1(C2=C(COC1=O)C(=O)N3CC4=CC5=CC=CC=C5N=C4C3...         0.380614   \n",
       "5       CCC1(C2=C(COC1=O)C(=O)N3CC4=CC5=CC=CC=C5N=C4C3...         0.374186   \n",
       "6       CCC1(C2=C(COC1=O)C(=O)N3CC4=CC5=CC=CC=C5N=C4C3...         0.469282   \n",
       "8       CCC1(C2=C(COC1=O)C(=O)N3CC4=CC5=CC=CC=C5N=C4C3...         0.426465   \n",
       "9       CCC1(C2=C(COC1=O)C(=O)N3CC4=CC5=CC=CC=C5N=C4C3...         0.463887   \n",
       "...                                                   ...              ...   \n",
       "242030                                 CC(=O)NC(CS)C(=O)O         0.717484   \n",
       "242031                                 CC(=O)NC(CS)C(=O)O         0.733695   \n",
       "242032                                 CC(=O)NC(CS)C(=O)O         0.702150   \n",
       "242033                                 CC(=O)NC(CS)C(=O)O         0.741172   \n",
       "242034                                 CC(=O)NC(CS)C(=O)O         0.744624   \n",
       "\n",
       "       CELL_LINE_NAME_CLEAN  \n",
       "1                      A673  \n",
       "5                     SKES1  \n",
       "6                   COLO829  \n",
       "8                       RT4  \n",
       "9                     SW780  \n",
       "...                     ...  \n",
       "242030                 MM1S  \n",
       "242031               SNU175  \n",
       "242032               SNU407  \n",
       "242033                SNU61  \n",
       "242034                SNUC5  \n",
       "\n",
       "[126205 rows x 7 columns]"
      ]
     },
     "execution_count": 33,
     "metadata": {},
     "output_type": "execute_result"
    }
   ],
   "source": [
    "df"
   ]
  },
  {
   "cell_type": "code",
   "execution_count": 34,
   "id": "8321d3bc",
   "metadata": {},
   "outputs": [
    {
     "data": {
      "text/plain": [
       "1018"
      ]
     },
     "execution_count": 34,
     "metadata": {},
     "output_type": "execute_result"
    }
   ],
   "source": [
    "len(cell_lines_available)"
   ]
  },
  {
   "cell_type": "code",
   "execution_count": 35,
   "id": "2a397e94",
   "metadata": {},
   "outputs": [
    {
     "data": {
      "text/html": [
       "<div>\n",
       "<style scoped>\n",
       "    .dataframe tbody tr th:only-of-type {\n",
       "        vertical-align: middle;\n",
       "    }\n",
       "\n",
       "    .dataframe tbody tr th {\n",
       "        vertical-align: top;\n",
       "    }\n",
       "\n",
       "    .dataframe thead th {\n",
       "        text-align: right;\n",
       "    }\n",
       "</style>\n",
       "<table border=\"1\" class=\"dataframe\">\n",
       "  <thead>\n",
       "    <tr style=\"text-align: right;\">\n",
       "      <th></th>\n",
       "      <th>X22RV1_PROSTATE</th>\n",
       "      <th>X2313287_STOMACH</th>\n",
       "      <th>X253JBV_URINARY_TRACT</th>\n",
       "      <th>X253J_URINARY_TRACT</th>\n",
       "      <th>X42MGBA_CENTRAL_NERVOUS_SYSTEM</th>\n",
       "      <th>X5637_URINARY_TRACT</th>\n",
       "      <th>X59M_OVARY</th>\n",
       "      <th>X639V_URINARY_TRACT</th>\n",
       "      <th>X647V_URINARY_TRACT</th>\n",
       "      <th>X697_HAEMATOPOIETIC_AND_LYMPHOID_TISSUE</th>\n",
       "      <th>...</th>\n",
       "      <th>WSUDLCL2_HAEMATOPOIETIC_AND_LYMPHOID_TISSUE</th>\n",
       "      <th>YAPC_PANCREAS</th>\n",
       "      <th>YD10B_UPPER_AERODIGESTIVE_TRACT</th>\n",
       "      <th>YD15_SALIVARY_GLAND</th>\n",
       "      <th>YD38_UPPER_AERODIGESTIVE_TRACT</th>\n",
       "      <th>YD8_UPPER_AERODIGESTIVE_TRACT</th>\n",
       "      <th>YH13_CENTRAL_NERVOUS_SYSTEM</th>\n",
       "      <th>YKG1_CENTRAL_NERVOUS_SYSTEM</th>\n",
       "      <th>ZR751_BREAST</th>\n",
       "      <th>ZR7530_BREAST</th>\n",
       "    </tr>\n",
       "  </thead>\n",
       "  <tbody>\n",
       "    <tr>\n",
       "      <th>KEGG_MEDICUS_ENV_FACTOR_ARSENIC_TO_ELECTRON_TRANSFER_IN_COMPLEX_IV</th>\n",
       "      <td>0.244789</td>\n",
       "      <td>-0.083931</td>\n",
       "      <td>0.279529</td>\n",
       "      <td>0.208577</td>\n",
       "      <td>-0.132328</td>\n",
       "      <td>0.215197</td>\n",
       "      <td>0.319143</td>\n",
       "      <td>-0.075647</td>\n",
       "      <td>0.277187</td>\n",
       "      <td>0.271370</td>\n",
       "      <td>...</td>\n",
       "      <td>0.075112</td>\n",
       "      <td>0.327630</td>\n",
       "      <td>-0.375213</td>\n",
       "      <td>-0.355703</td>\n",
       "      <td>-0.101719</td>\n",
       "      <td>-0.530021</td>\n",
       "      <td>-0.537348</td>\n",
       "      <td>0.275503</td>\n",
       "      <td>0.526732</td>\n",
       "      <td>0.220102</td>\n",
       "    </tr>\n",
       "    <tr>\n",
       "      <th>KEGG_MEDICUS_ENV_FACTOR_BENZO_A_PYRENRE_TO_CYP_MEDIATED_METABOLISM</th>\n",
       "      <td>0.232631</td>\n",
       "      <td>0.414819</td>\n",
       "      <td>0.290806</td>\n",
       "      <td>0.670978</td>\n",
       "      <td>-0.274907</td>\n",
       "      <td>0.192912</td>\n",
       "      <td>0.640286</td>\n",
       "      <td>-0.506128</td>\n",
       "      <td>-0.057853</td>\n",
       "      <td>-0.455609</td>\n",
       "      <td>...</td>\n",
       "      <td>-0.274736</td>\n",
       "      <td>0.131784</td>\n",
       "      <td>0.551961</td>\n",
       "      <td>0.211546</td>\n",
       "      <td>-0.032558</td>\n",
       "      <td>0.151900</td>\n",
       "      <td>0.317689</td>\n",
       "      <td>-0.332108</td>\n",
       "      <td>-0.430653</td>\n",
       "      <td>0.182114</td>\n",
       "    </tr>\n",
       "    <tr>\n",
       "      <th>KEGG_MEDICUS_ENV_FACTOR_DCE_TO_DNA_ADDUCTS</th>\n",
       "      <td>-0.186705</td>\n",
       "      <td>0.177009</td>\n",
       "      <td>-0.414291</td>\n",
       "      <td>-0.038181</td>\n",
       "      <td>0.207581</td>\n",
       "      <td>0.134153</td>\n",
       "      <td>0.586046</td>\n",
       "      <td>-0.158105</td>\n",
       "      <td>-0.045624</td>\n",
       "      <td>-0.519046</td>\n",
       "      <td>...</td>\n",
       "      <td>-0.145654</td>\n",
       "      <td>0.178017</td>\n",
       "      <td>0.254041</td>\n",
       "      <td>-0.116195</td>\n",
       "      <td>-0.179142</td>\n",
       "      <td>0.231483</td>\n",
       "      <td>0.155220</td>\n",
       "      <td>0.205721</td>\n",
       "      <td>-0.166378</td>\n",
       "      <td>0.045039</td>\n",
       "    </tr>\n",
       "    <tr>\n",
       "      <th>KEGG_MEDICUS_ENV_FACTOR_E2_TO_NUCLEAR_INITIATED_ESTROGEN_SIGNALING_PATHWAY</th>\n",
       "      <td>-0.540508</td>\n",
       "      <td>-0.258760</td>\n",
       "      <td>-0.138647</td>\n",
       "      <td>0.146632</td>\n",
       "      <td>-0.384697</td>\n",
       "      <td>-0.019662</td>\n",
       "      <td>0.407990</td>\n",
       "      <td>-0.288576</td>\n",
       "      <td>-0.125966</td>\n",
       "      <td>0.616469</td>\n",
       "      <td>...</td>\n",
       "      <td>0.087120</td>\n",
       "      <td>-0.160979</td>\n",
       "      <td>0.192224</td>\n",
       "      <td>0.457628</td>\n",
       "      <td>0.006197</td>\n",
       "      <td>-0.417248</td>\n",
       "      <td>-0.453304</td>\n",
       "      <td>-0.136213</td>\n",
       "      <td>0.387118</td>\n",
       "      <td>0.503203</td>\n",
       "    </tr>\n",
       "    <tr>\n",
       "      <th>KEGG_MEDICUS_ENV_FACTOR_E2_TO_RAS_ERK_SIGNALING_PATHWAY</th>\n",
       "      <td>-0.166025</td>\n",
       "      <td>0.121127</td>\n",
       "      <td>-0.259766</td>\n",
       "      <td>-0.369504</td>\n",
       "      <td>0.117981</td>\n",
       "      <td>0.406653</td>\n",
       "      <td>-0.132804</td>\n",
       "      <td>0.414331</td>\n",
       "      <td>0.543123</td>\n",
       "      <td>-0.071814</td>\n",
       "      <td>...</td>\n",
       "      <td>0.112035</td>\n",
       "      <td>0.091719</td>\n",
       "      <td>-0.332850</td>\n",
       "      <td>0.156438</td>\n",
       "      <td>-0.064297</td>\n",
       "      <td>0.338911</td>\n",
       "      <td>0.224560</td>\n",
       "      <td>0.143953</td>\n",
       "      <td>0.002501</td>\n",
       "      <td>0.102778</td>\n",
       "    </tr>\n",
       "    <tr>\n",
       "      <th>...</th>\n",
       "      <td>...</td>\n",
       "      <td>...</td>\n",
       "      <td>...</td>\n",
       "      <td>...</td>\n",
       "      <td>...</td>\n",
       "      <td>...</td>\n",
       "      <td>...</td>\n",
       "      <td>...</td>\n",
       "      <td>...</td>\n",
       "      <td>...</td>\n",
       "      <td>...</td>\n",
       "      <td>...</td>\n",
       "      <td>...</td>\n",
       "      <td>...</td>\n",
       "      <td>...</td>\n",
       "      <td>...</td>\n",
       "      <td>...</td>\n",
       "      <td>...</td>\n",
       "      <td>...</td>\n",
       "      <td>...</td>\n",
       "      <td>...</td>\n",
       "    </tr>\n",
       "    <tr>\n",
       "      <th>KEGG_MEDICUS_VARIANT_SCRAPIE_CONFORMATION_PRPSC_TO_VGCC_CA2_APOPTOTIC_PATHWAY</th>\n",
       "      <td>-0.117058</td>\n",
       "      <td>0.534826</td>\n",
       "      <td>0.499067</td>\n",
       "      <td>0.476963</td>\n",
       "      <td>0.491432</td>\n",
       "      <td>-0.041223</td>\n",
       "      <td>-0.021224</td>\n",
       "      <td>-0.637564</td>\n",
       "      <td>-0.262915</td>\n",
       "      <td>-0.128982</td>\n",
       "      <td>...</td>\n",
       "      <td>-0.316305</td>\n",
       "      <td>-0.194693</td>\n",
       "      <td>0.727817</td>\n",
       "      <td>0.157373</td>\n",
       "      <td>0.250761</td>\n",
       "      <td>-0.209867</td>\n",
       "      <td>0.035322</td>\n",
       "      <td>0.055748</td>\n",
       "      <td>0.194295</td>\n",
       "      <td>0.100961</td>\n",
       "    </tr>\n",
       "    <tr>\n",
       "      <th>KEGG_MEDICUS_VARIANT_TEL_AML1_FUSION_TO_TRANSCRIPTIONAL_REPRESSION</th>\n",
       "      <td>-0.071946</td>\n",
       "      <td>-0.235064</td>\n",
       "      <td>-0.158232</td>\n",
       "      <td>-0.471312</td>\n",
       "      <td>0.069451</td>\n",
       "      <td>0.552709</td>\n",
       "      <td>-0.219726</td>\n",
       "      <td>-0.231657</td>\n",
       "      <td>0.247514</td>\n",
       "      <td>0.479034</td>\n",
       "      <td>...</td>\n",
       "      <td>0.471183</td>\n",
       "      <td>0.543891</td>\n",
       "      <td>0.173360</td>\n",
       "      <td>0.325866</td>\n",
       "      <td>0.628831</td>\n",
       "      <td>0.454693</td>\n",
       "      <td>0.169221</td>\n",
       "      <td>0.040660</td>\n",
       "      <td>-0.249230</td>\n",
       "      <td>-0.453372</td>\n",
       "    </tr>\n",
       "    <tr>\n",
       "      <th>KEGG_MEDICUS_VARIANT_TGFA_OVEREXPRESSION_TO_PI3K_SIGNALING_PATHWAY</th>\n",
       "      <td>-0.288375</td>\n",
       "      <td>-0.230789</td>\n",
       "      <td>-0.043607</td>\n",
       "      <td>-0.100954</td>\n",
       "      <td>-0.003728</td>\n",
       "      <td>0.443881</td>\n",
       "      <td>-0.040789</td>\n",
       "      <td>-0.123535</td>\n",
       "      <td>0.551131</td>\n",
       "      <td>0.003992</td>\n",
       "      <td>...</td>\n",
       "      <td>-0.070541</td>\n",
       "      <td>0.065449</td>\n",
       "      <td>0.058856</td>\n",
       "      <td>0.208207</td>\n",
       "      <td>0.303945</td>\n",
       "      <td>0.378906</td>\n",
       "      <td>0.233616</td>\n",
       "      <td>0.152003</td>\n",
       "      <td>-0.139507</td>\n",
       "      <td>-0.157565</td>\n",
       "    </tr>\n",
       "    <tr>\n",
       "      <th>KEGG_MEDICUS_VARIANT_TMPRSS2_ERG_FUSION_TO_TRANSCRIPTIONAL_ACTIVATION</th>\n",
       "      <td>-0.566128</td>\n",
       "      <td>-0.454890</td>\n",
       "      <td>0.398130</td>\n",
       "      <td>0.312828</td>\n",
       "      <td>0.524678</td>\n",
       "      <td>0.477288</td>\n",
       "      <td>0.634019</td>\n",
       "      <td>-0.273644</td>\n",
       "      <td>0.437712</td>\n",
       "      <td>0.101343</td>\n",
       "      <td>...</td>\n",
       "      <td>0.100011</td>\n",
       "      <td>-0.227126</td>\n",
       "      <td>0.728999</td>\n",
       "      <td>0.366406</td>\n",
       "      <td>0.542634</td>\n",
       "      <td>-0.223423</td>\n",
       "      <td>0.224992</td>\n",
       "      <td>0.234498</td>\n",
       "      <td>-0.452274</td>\n",
       "      <td>-0.463809</td>\n",
       "    </tr>\n",
       "    <tr>\n",
       "      <th>KEGG_MEDICUS_VARIANT_TRK_FUSION_KINASE_TO_RAS_ERK_SIGNALING_PATHWAY</th>\n",
       "      <td>0.277608</td>\n",
       "      <td>0.081306</td>\n",
       "      <td>-0.563445</td>\n",
       "      <td>-0.574400</td>\n",
       "      <td>-0.037904</td>\n",
       "      <td>0.552571</td>\n",
       "      <td>-0.340356</td>\n",
       "      <td>0.519263</td>\n",
       "      <td>0.558499</td>\n",
       "      <td>0.093699</td>\n",
       "      <td>...</td>\n",
       "      <td>0.334907</td>\n",
       "      <td>-0.040334</td>\n",
       "      <td>-0.368974</td>\n",
       "      <td>-0.049374</td>\n",
       "      <td>-0.165126</td>\n",
       "      <td>0.205630</td>\n",
       "      <td>0.199840</td>\n",
       "      <td>0.089472</td>\n",
       "      <td>-0.244789</td>\n",
       "      <td>-0.357171</td>\n",
       "    </tr>\n",
       "  </tbody>\n",
       "</table>\n",
       "<p>658 rows × 1019 columns</p>\n",
       "</div>"
      ],
      "text/plain": [
       "                                                    X22RV1_PROSTATE  \\\n",
       "KEGG_MEDICUS_ENV_FACTOR_ARSENIC_TO_ELECTRON_TRA...         0.244789   \n",
       "KEGG_MEDICUS_ENV_FACTOR_BENZO_A_PYRENRE_TO_CYP_...         0.232631   \n",
       "KEGG_MEDICUS_ENV_FACTOR_DCE_TO_DNA_ADDUCTS                -0.186705   \n",
       "KEGG_MEDICUS_ENV_FACTOR_E2_TO_NUCLEAR_INITIATED...        -0.540508   \n",
       "KEGG_MEDICUS_ENV_FACTOR_E2_TO_RAS_ERK_SIGNALING...        -0.166025   \n",
       "...                                                             ...   \n",
       "KEGG_MEDICUS_VARIANT_SCRAPIE_CONFORMATION_PRPSC...        -0.117058   \n",
       "KEGG_MEDICUS_VARIANT_TEL_AML1_FUSION_TO_TRANSCR...        -0.071946   \n",
       "KEGG_MEDICUS_VARIANT_TGFA_OVEREXPRESSION_TO_PI3...        -0.288375   \n",
       "KEGG_MEDICUS_VARIANT_TMPRSS2_ERG_FUSION_TO_TRAN...        -0.566128   \n",
       "KEGG_MEDICUS_VARIANT_TRK_FUSION_KINASE_TO_RAS_E...         0.277608   \n",
       "\n",
       "                                                    X2313287_STOMACH  \\\n",
       "KEGG_MEDICUS_ENV_FACTOR_ARSENIC_TO_ELECTRON_TRA...         -0.083931   \n",
       "KEGG_MEDICUS_ENV_FACTOR_BENZO_A_PYRENRE_TO_CYP_...          0.414819   \n",
       "KEGG_MEDICUS_ENV_FACTOR_DCE_TO_DNA_ADDUCTS                  0.177009   \n",
       "KEGG_MEDICUS_ENV_FACTOR_E2_TO_NUCLEAR_INITIATED...         -0.258760   \n",
       "KEGG_MEDICUS_ENV_FACTOR_E2_TO_RAS_ERK_SIGNALING...          0.121127   \n",
       "...                                                              ...   \n",
       "KEGG_MEDICUS_VARIANT_SCRAPIE_CONFORMATION_PRPSC...          0.534826   \n",
       "KEGG_MEDICUS_VARIANT_TEL_AML1_FUSION_TO_TRANSCR...         -0.235064   \n",
       "KEGG_MEDICUS_VARIANT_TGFA_OVEREXPRESSION_TO_PI3...         -0.230789   \n",
       "KEGG_MEDICUS_VARIANT_TMPRSS2_ERG_FUSION_TO_TRAN...         -0.454890   \n",
       "KEGG_MEDICUS_VARIANT_TRK_FUSION_KINASE_TO_RAS_E...          0.081306   \n",
       "\n",
       "                                                    X253JBV_URINARY_TRACT  \\\n",
       "KEGG_MEDICUS_ENV_FACTOR_ARSENIC_TO_ELECTRON_TRA...               0.279529   \n",
       "KEGG_MEDICUS_ENV_FACTOR_BENZO_A_PYRENRE_TO_CYP_...               0.290806   \n",
       "KEGG_MEDICUS_ENV_FACTOR_DCE_TO_DNA_ADDUCTS                      -0.414291   \n",
       "KEGG_MEDICUS_ENV_FACTOR_E2_TO_NUCLEAR_INITIATED...              -0.138647   \n",
       "KEGG_MEDICUS_ENV_FACTOR_E2_TO_RAS_ERK_SIGNALING...              -0.259766   \n",
       "...                                                                   ...   \n",
       "KEGG_MEDICUS_VARIANT_SCRAPIE_CONFORMATION_PRPSC...               0.499067   \n",
       "KEGG_MEDICUS_VARIANT_TEL_AML1_FUSION_TO_TRANSCR...              -0.158232   \n",
       "KEGG_MEDICUS_VARIANT_TGFA_OVEREXPRESSION_TO_PI3...              -0.043607   \n",
       "KEGG_MEDICUS_VARIANT_TMPRSS2_ERG_FUSION_TO_TRAN...               0.398130   \n",
       "KEGG_MEDICUS_VARIANT_TRK_FUSION_KINASE_TO_RAS_E...              -0.563445   \n",
       "\n",
       "                                                    X253J_URINARY_TRACT  \\\n",
       "KEGG_MEDICUS_ENV_FACTOR_ARSENIC_TO_ELECTRON_TRA...             0.208577   \n",
       "KEGG_MEDICUS_ENV_FACTOR_BENZO_A_PYRENRE_TO_CYP_...             0.670978   \n",
       "KEGG_MEDICUS_ENV_FACTOR_DCE_TO_DNA_ADDUCTS                    -0.038181   \n",
       "KEGG_MEDICUS_ENV_FACTOR_E2_TO_NUCLEAR_INITIATED...             0.146632   \n",
       "KEGG_MEDICUS_ENV_FACTOR_E2_TO_RAS_ERK_SIGNALING...            -0.369504   \n",
       "...                                                                 ...   \n",
       "KEGG_MEDICUS_VARIANT_SCRAPIE_CONFORMATION_PRPSC...             0.476963   \n",
       "KEGG_MEDICUS_VARIANT_TEL_AML1_FUSION_TO_TRANSCR...            -0.471312   \n",
       "KEGG_MEDICUS_VARIANT_TGFA_OVEREXPRESSION_TO_PI3...            -0.100954   \n",
       "KEGG_MEDICUS_VARIANT_TMPRSS2_ERG_FUSION_TO_TRAN...             0.312828   \n",
       "KEGG_MEDICUS_VARIANT_TRK_FUSION_KINASE_TO_RAS_E...            -0.574400   \n",
       "\n",
       "                                                    X42MGBA_CENTRAL_NERVOUS_SYSTEM  \\\n",
       "KEGG_MEDICUS_ENV_FACTOR_ARSENIC_TO_ELECTRON_TRA...                       -0.132328   \n",
       "KEGG_MEDICUS_ENV_FACTOR_BENZO_A_PYRENRE_TO_CYP_...                       -0.274907   \n",
       "KEGG_MEDICUS_ENV_FACTOR_DCE_TO_DNA_ADDUCTS                                0.207581   \n",
       "KEGG_MEDICUS_ENV_FACTOR_E2_TO_NUCLEAR_INITIATED...                       -0.384697   \n",
       "KEGG_MEDICUS_ENV_FACTOR_E2_TO_RAS_ERK_SIGNALING...                        0.117981   \n",
       "...                                                                            ...   \n",
       "KEGG_MEDICUS_VARIANT_SCRAPIE_CONFORMATION_PRPSC...                        0.491432   \n",
       "KEGG_MEDICUS_VARIANT_TEL_AML1_FUSION_TO_TRANSCR...                        0.069451   \n",
       "KEGG_MEDICUS_VARIANT_TGFA_OVEREXPRESSION_TO_PI3...                       -0.003728   \n",
       "KEGG_MEDICUS_VARIANT_TMPRSS2_ERG_FUSION_TO_TRAN...                        0.524678   \n",
       "KEGG_MEDICUS_VARIANT_TRK_FUSION_KINASE_TO_RAS_E...                       -0.037904   \n",
       "\n",
       "                                                    X5637_URINARY_TRACT  \\\n",
       "KEGG_MEDICUS_ENV_FACTOR_ARSENIC_TO_ELECTRON_TRA...             0.215197   \n",
       "KEGG_MEDICUS_ENV_FACTOR_BENZO_A_PYRENRE_TO_CYP_...             0.192912   \n",
       "KEGG_MEDICUS_ENV_FACTOR_DCE_TO_DNA_ADDUCTS                     0.134153   \n",
       "KEGG_MEDICUS_ENV_FACTOR_E2_TO_NUCLEAR_INITIATED...            -0.019662   \n",
       "KEGG_MEDICUS_ENV_FACTOR_E2_TO_RAS_ERK_SIGNALING...             0.406653   \n",
       "...                                                                 ...   \n",
       "KEGG_MEDICUS_VARIANT_SCRAPIE_CONFORMATION_PRPSC...            -0.041223   \n",
       "KEGG_MEDICUS_VARIANT_TEL_AML1_FUSION_TO_TRANSCR...             0.552709   \n",
       "KEGG_MEDICUS_VARIANT_TGFA_OVEREXPRESSION_TO_PI3...             0.443881   \n",
       "KEGG_MEDICUS_VARIANT_TMPRSS2_ERG_FUSION_TO_TRAN...             0.477288   \n",
       "KEGG_MEDICUS_VARIANT_TRK_FUSION_KINASE_TO_RAS_E...             0.552571   \n",
       "\n",
       "                                                    X59M_OVARY  \\\n",
       "KEGG_MEDICUS_ENV_FACTOR_ARSENIC_TO_ELECTRON_TRA...    0.319143   \n",
       "KEGG_MEDICUS_ENV_FACTOR_BENZO_A_PYRENRE_TO_CYP_...    0.640286   \n",
       "KEGG_MEDICUS_ENV_FACTOR_DCE_TO_DNA_ADDUCTS            0.586046   \n",
       "KEGG_MEDICUS_ENV_FACTOR_E2_TO_NUCLEAR_INITIATED...    0.407990   \n",
       "KEGG_MEDICUS_ENV_FACTOR_E2_TO_RAS_ERK_SIGNALING...   -0.132804   \n",
       "...                                                        ...   \n",
       "KEGG_MEDICUS_VARIANT_SCRAPIE_CONFORMATION_PRPSC...   -0.021224   \n",
       "KEGG_MEDICUS_VARIANT_TEL_AML1_FUSION_TO_TRANSCR...   -0.219726   \n",
       "KEGG_MEDICUS_VARIANT_TGFA_OVEREXPRESSION_TO_PI3...   -0.040789   \n",
       "KEGG_MEDICUS_VARIANT_TMPRSS2_ERG_FUSION_TO_TRAN...    0.634019   \n",
       "KEGG_MEDICUS_VARIANT_TRK_FUSION_KINASE_TO_RAS_E...   -0.340356   \n",
       "\n",
       "                                                    X639V_URINARY_TRACT  \\\n",
       "KEGG_MEDICUS_ENV_FACTOR_ARSENIC_TO_ELECTRON_TRA...            -0.075647   \n",
       "KEGG_MEDICUS_ENV_FACTOR_BENZO_A_PYRENRE_TO_CYP_...            -0.506128   \n",
       "KEGG_MEDICUS_ENV_FACTOR_DCE_TO_DNA_ADDUCTS                    -0.158105   \n",
       "KEGG_MEDICUS_ENV_FACTOR_E2_TO_NUCLEAR_INITIATED...            -0.288576   \n",
       "KEGG_MEDICUS_ENV_FACTOR_E2_TO_RAS_ERK_SIGNALING...             0.414331   \n",
       "...                                                                 ...   \n",
       "KEGG_MEDICUS_VARIANT_SCRAPIE_CONFORMATION_PRPSC...            -0.637564   \n",
       "KEGG_MEDICUS_VARIANT_TEL_AML1_FUSION_TO_TRANSCR...            -0.231657   \n",
       "KEGG_MEDICUS_VARIANT_TGFA_OVEREXPRESSION_TO_PI3...            -0.123535   \n",
       "KEGG_MEDICUS_VARIANT_TMPRSS2_ERG_FUSION_TO_TRAN...            -0.273644   \n",
       "KEGG_MEDICUS_VARIANT_TRK_FUSION_KINASE_TO_RAS_E...             0.519263   \n",
       "\n",
       "                                                    X647V_URINARY_TRACT  \\\n",
       "KEGG_MEDICUS_ENV_FACTOR_ARSENIC_TO_ELECTRON_TRA...             0.277187   \n",
       "KEGG_MEDICUS_ENV_FACTOR_BENZO_A_PYRENRE_TO_CYP_...            -0.057853   \n",
       "KEGG_MEDICUS_ENV_FACTOR_DCE_TO_DNA_ADDUCTS                    -0.045624   \n",
       "KEGG_MEDICUS_ENV_FACTOR_E2_TO_NUCLEAR_INITIATED...            -0.125966   \n",
       "KEGG_MEDICUS_ENV_FACTOR_E2_TO_RAS_ERK_SIGNALING...             0.543123   \n",
       "...                                                                 ...   \n",
       "KEGG_MEDICUS_VARIANT_SCRAPIE_CONFORMATION_PRPSC...            -0.262915   \n",
       "KEGG_MEDICUS_VARIANT_TEL_AML1_FUSION_TO_TRANSCR...             0.247514   \n",
       "KEGG_MEDICUS_VARIANT_TGFA_OVEREXPRESSION_TO_PI3...             0.551131   \n",
       "KEGG_MEDICUS_VARIANT_TMPRSS2_ERG_FUSION_TO_TRAN...             0.437712   \n",
       "KEGG_MEDICUS_VARIANT_TRK_FUSION_KINASE_TO_RAS_E...             0.558499   \n",
       "\n",
       "                                                    X697_HAEMATOPOIETIC_AND_LYMPHOID_TISSUE  \\\n",
       "KEGG_MEDICUS_ENV_FACTOR_ARSENIC_TO_ELECTRON_TRA...                                 0.271370   \n",
       "KEGG_MEDICUS_ENV_FACTOR_BENZO_A_PYRENRE_TO_CYP_...                                -0.455609   \n",
       "KEGG_MEDICUS_ENV_FACTOR_DCE_TO_DNA_ADDUCTS                                        -0.519046   \n",
       "KEGG_MEDICUS_ENV_FACTOR_E2_TO_NUCLEAR_INITIATED...                                 0.616469   \n",
       "KEGG_MEDICUS_ENV_FACTOR_E2_TO_RAS_ERK_SIGNALING...                                -0.071814   \n",
       "...                                                                                     ...   \n",
       "KEGG_MEDICUS_VARIANT_SCRAPIE_CONFORMATION_PRPSC...                                -0.128982   \n",
       "KEGG_MEDICUS_VARIANT_TEL_AML1_FUSION_TO_TRANSCR...                                 0.479034   \n",
       "KEGG_MEDICUS_VARIANT_TGFA_OVEREXPRESSION_TO_PI3...                                 0.003992   \n",
       "KEGG_MEDICUS_VARIANT_TMPRSS2_ERG_FUSION_TO_TRAN...                                 0.101343   \n",
       "KEGG_MEDICUS_VARIANT_TRK_FUSION_KINASE_TO_RAS_E...                                 0.093699   \n",
       "\n",
       "                                                    ...  \\\n",
       "KEGG_MEDICUS_ENV_FACTOR_ARSENIC_TO_ELECTRON_TRA...  ...   \n",
       "KEGG_MEDICUS_ENV_FACTOR_BENZO_A_PYRENRE_TO_CYP_...  ...   \n",
       "KEGG_MEDICUS_ENV_FACTOR_DCE_TO_DNA_ADDUCTS          ...   \n",
       "KEGG_MEDICUS_ENV_FACTOR_E2_TO_NUCLEAR_INITIATED...  ...   \n",
       "KEGG_MEDICUS_ENV_FACTOR_E2_TO_RAS_ERK_SIGNALING...  ...   \n",
       "...                                                 ...   \n",
       "KEGG_MEDICUS_VARIANT_SCRAPIE_CONFORMATION_PRPSC...  ...   \n",
       "KEGG_MEDICUS_VARIANT_TEL_AML1_FUSION_TO_TRANSCR...  ...   \n",
       "KEGG_MEDICUS_VARIANT_TGFA_OVEREXPRESSION_TO_PI3...  ...   \n",
       "KEGG_MEDICUS_VARIANT_TMPRSS2_ERG_FUSION_TO_TRAN...  ...   \n",
       "KEGG_MEDICUS_VARIANT_TRK_FUSION_KINASE_TO_RAS_E...  ...   \n",
       "\n",
       "                                                    WSUDLCL2_HAEMATOPOIETIC_AND_LYMPHOID_TISSUE  \\\n",
       "KEGG_MEDICUS_ENV_FACTOR_ARSENIC_TO_ELECTRON_TRA...                                     0.075112   \n",
       "KEGG_MEDICUS_ENV_FACTOR_BENZO_A_PYRENRE_TO_CYP_...                                    -0.274736   \n",
       "KEGG_MEDICUS_ENV_FACTOR_DCE_TO_DNA_ADDUCTS                                            -0.145654   \n",
       "KEGG_MEDICUS_ENV_FACTOR_E2_TO_NUCLEAR_INITIATED...                                     0.087120   \n",
       "KEGG_MEDICUS_ENV_FACTOR_E2_TO_RAS_ERK_SIGNALING...                                     0.112035   \n",
       "...                                                                                         ...   \n",
       "KEGG_MEDICUS_VARIANT_SCRAPIE_CONFORMATION_PRPSC...                                    -0.316305   \n",
       "KEGG_MEDICUS_VARIANT_TEL_AML1_FUSION_TO_TRANSCR...                                     0.471183   \n",
       "KEGG_MEDICUS_VARIANT_TGFA_OVEREXPRESSION_TO_PI3...                                    -0.070541   \n",
       "KEGG_MEDICUS_VARIANT_TMPRSS2_ERG_FUSION_TO_TRAN...                                     0.100011   \n",
       "KEGG_MEDICUS_VARIANT_TRK_FUSION_KINASE_TO_RAS_E...                                     0.334907   \n",
       "\n",
       "                                                    YAPC_PANCREAS  \\\n",
       "KEGG_MEDICUS_ENV_FACTOR_ARSENIC_TO_ELECTRON_TRA...       0.327630   \n",
       "KEGG_MEDICUS_ENV_FACTOR_BENZO_A_PYRENRE_TO_CYP_...       0.131784   \n",
       "KEGG_MEDICUS_ENV_FACTOR_DCE_TO_DNA_ADDUCTS               0.178017   \n",
       "KEGG_MEDICUS_ENV_FACTOR_E2_TO_NUCLEAR_INITIATED...      -0.160979   \n",
       "KEGG_MEDICUS_ENV_FACTOR_E2_TO_RAS_ERK_SIGNALING...       0.091719   \n",
       "...                                                           ...   \n",
       "KEGG_MEDICUS_VARIANT_SCRAPIE_CONFORMATION_PRPSC...      -0.194693   \n",
       "KEGG_MEDICUS_VARIANT_TEL_AML1_FUSION_TO_TRANSCR...       0.543891   \n",
       "KEGG_MEDICUS_VARIANT_TGFA_OVEREXPRESSION_TO_PI3...       0.065449   \n",
       "KEGG_MEDICUS_VARIANT_TMPRSS2_ERG_FUSION_TO_TRAN...      -0.227126   \n",
       "KEGG_MEDICUS_VARIANT_TRK_FUSION_KINASE_TO_RAS_E...      -0.040334   \n",
       "\n",
       "                                                    YD10B_UPPER_AERODIGESTIVE_TRACT  \\\n",
       "KEGG_MEDICUS_ENV_FACTOR_ARSENIC_TO_ELECTRON_TRA...                        -0.375213   \n",
       "KEGG_MEDICUS_ENV_FACTOR_BENZO_A_PYRENRE_TO_CYP_...                         0.551961   \n",
       "KEGG_MEDICUS_ENV_FACTOR_DCE_TO_DNA_ADDUCTS                                 0.254041   \n",
       "KEGG_MEDICUS_ENV_FACTOR_E2_TO_NUCLEAR_INITIATED...                         0.192224   \n",
       "KEGG_MEDICUS_ENV_FACTOR_E2_TO_RAS_ERK_SIGNALING...                        -0.332850   \n",
       "...                                                                             ...   \n",
       "KEGG_MEDICUS_VARIANT_SCRAPIE_CONFORMATION_PRPSC...                         0.727817   \n",
       "KEGG_MEDICUS_VARIANT_TEL_AML1_FUSION_TO_TRANSCR...                         0.173360   \n",
       "KEGG_MEDICUS_VARIANT_TGFA_OVEREXPRESSION_TO_PI3...                         0.058856   \n",
       "KEGG_MEDICUS_VARIANT_TMPRSS2_ERG_FUSION_TO_TRAN...                         0.728999   \n",
       "KEGG_MEDICUS_VARIANT_TRK_FUSION_KINASE_TO_RAS_E...                        -0.368974   \n",
       "\n",
       "                                                    YD15_SALIVARY_GLAND  \\\n",
       "KEGG_MEDICUS_ENV_FACTOR_ARSENIC_TO_ELECTRON_TRA...            -0.355703   \n",
       "KEGG_MEDICUS_ENV_FACTOR_BENZO_A_PYRENRE_TO_CYP_...             0.211546   \n",
       "KEGG_MEDICUS_ENV_FACTOR_DCE_TO_DNA_ADDUCTS                    -0.116195   \n",
       "KEGG_MEDICUS_ENV_FACTOR_E2_TO_NUCLEAR_INITIATED...             0.457628   \n",
       "KEGG_MEDICUS_ENV_FACTOR_E2_TO_RAS_ERK_SIGNALING...             0.156438   \n",
       "...                                                                 ...   \n",
       "KEGG_MEDICUS_VARIANT_SCRAPIE_CONFORMATION_PRPSC...             0.157373   \n",
       "KEGG_MEDICUS_VARIANT_TEL_AML1_FUSION_TO_TRANSCR...             0.325866   \n",
       "KEGG_MEDICUS_VARIANT_TGFA_OVEREXPRESSION_TO_PI3...             0.208207   \n",
       "KEGG_MEDICUS_VARIANT_TMPRSS2_ERG_FUSION_TO_TRAN...             0.366406   \n",
       "KEGG_MEDICUS_VARIANT_TRK_FUSION_KINASE_TO_RAS_E...            -0.049374   \n",
       "\n",
       "                                                    YD38_UPPER_AERODIGESTIVE_TRACT  \\\n",
       "KEGG_MEDICUS_ENV_FACTOR_ARSENIC_TO_ELECTRON_TRA...                       -0.101719   \n",
       "KEGG_MEDICUS_ENV_FACTOR_BENZO_A_PYRENRE_TO_CYP_...                       -0.032558   \n",
       "KEGG_MEDICUS_ENV_FACTOR_DCE_TO_DNA_ADDUCTS                               -0.179142   \n",
       "KEGG_MEDICUS_ENV_FACTOR_E2_TO_NUCLEAR_INITIATED...                        0.006197   \n",
       "KEGG_MEDICUS_ENV_FACTOR_E2_TO_RAS_ERK_SIGNALING...                       -0.064297   \n",
       "...                                                                            ...   \n",
       "KEGG_MEDICUS_VARIANT_SCRAPIE_CONFORMATION_PRPSC...                        0.250761   \n",
       "KEGG_MEDICUS_VARIANT_TEL_AML1_FUSION_TO_TRANSCR...                        0.628831   \n",
       "KEGG_MEDICUS_VARIANT_TGFA_OVEREXPRESSION_TO_PI3...                        0.303945   \n",
       "KEGG_MEDICUS_VARIANT_TMPRSS2_ERG_FUSION_TO_TRAN...                        0.542634   \n",
       "KEGG_MEDICUS_VARIANT_TRK_FUSION_KINASE_TO_RAS_E...                       -0.165126   \n",
       "\n",
       "                                                    YD8_UPPER_AERODIGESTIVE_TRACT  \\\n",
       "KEGG_MEDICUS_ENV_FACTOR_ARSENIC_TO_ELECTRON_TRA...                      -0.530021   \n",
       "KEGG_MEDICUS_ENV_FACTOR_BENZO_A_PYRENRE_TO_CYP_...                       0.151900   \n",
       "KEGG_MEDICUS_ENV_FACTOR_DCE_TO_DNA_ADDUCTS                               0.231483   \n",
       "KEGG_MEDICUS_ENV_FACTOR_E2_TO_NUCLEAR_INITIATED...                      -0.417248   \n",
       "KEGG_MEDICUS_ENV_FACTOR_E2_TO_RAS_ERK_SIGNALING...                       0.338911   \n",
       "...                                                                           ...   \n",
       "KEGG_MEDICUS_VARIANT_SCRAPIE_CONFORMATION_PRPSC...                      -0.209867   \n",
       "KEGG_MEDICUS_VARIANT_TEL_AML1_FUSION_TO_TRANSCR...                       0.454693   \n",
       "KEGG_MEDICUS_VARIANT_TGFA_OVEREXPRESSION_TO_PI3...                       0.378906   \n",
       "KEGG_MEDICUS_VARIANT_TMPRSS2_ERG_FUSION_TO_TRAN...                      -0.223423   \n",
       "KEGG_MEDICUS_VARIANT_TRK_FUSION_KINASE_TO_RAS_E...                       0.205630   \n",
       "\n",
       "                                                    YH13_CENTRAL_NERVOUS_SYSTEM  \\\n",
       "KEGG_MEDICUS_ENV_FACTOR_ARSENIC_TO_ELECTRON_TRA...                    -0.537348   \n",
       "KEGG_MEDICUS_ENV_FACTOR_BENZO_A_PYRENRE_TO_CYP_...                     0.317689   \n",
       "KEGG_MEDICUS_ENV_FACTOR_DCE_TO_DNA_ADDUCTS                             0.155220   \n",
       "KEGG_MEDICUS_ENV_FACTOR_E2_TO_NUCLEAR_INITIATED...                    -0.453304   \n",
       "KEGG_MEDICUS_ENV_FACTOR_E2_TO_RAS_ERK_SIGNALING...                     0.224560   \n",
       "...                                                                         ...   \n",
       "KEGG_MEDICUS_VARIANT_SCRAPIE_CONFORMATION_PRPSC...                     0.035322   \n",
       "KEGG_MEDICUS_VARIANT_TEL_AML1_FUSION_TO_TRANSCR...                     0.169221   \n",
       "KEGG_MEDICUS_VARIANT_TGFA_OVEREXPRESSION_TO_PI3...                     0.233616   \n",
       "KEGG_MEDICUS_VARIANT_TMPRSS2_ERG_FUSION_TO_TRAN...                     0.224992   \n",
       "KEGG_MEDICUS_VARIANT_TRK_FUSION_KINASE_TO_RAS_E...                     0.199840   \n",
       "\n",
       "                                                    YKG1_CENTRAL_NERVOUS_SYSTEM  \\\n",
       "KEGG_MEDICUS_ENV_FACTOR_ARSENIC_TO_ELECTRON_TRA...                     0.275503   \n",
       "KEGG_MEDICUS_ENV_FACTOR_BENZO_A_PYRENRE_TO_CYP_...                    -0.332108   \n",
       "KEGG_MEDICUS_ENV_FACTOR_DCE_TO_DNA_ADDUCTS                             0.205721   \n",
       "KEGG_MEDICUS_ENV_FACTOR_E2_TO_NUCLEAR_INITIATED...                    -0.136213   \n",
       "KEGG_MEDICUS_ENV_FACTOR_E2_TO_RAS_ERK_SIGNALING...                     0.143953   \n",
       "...                                                                         ...   \n",
       "KEGG_MEDICUS_VARIANT_SCRAPIE_CONFORMATION_PRPSC...                     0.055748   \n",
       "KEGG_MEDICUS_VARIANT_TEL_AML1_FUSION_TO_TRANSCR...                     0.040660   \n",
       "KEGG_MEDICUS_VARIANT_TGFA_OVEREXPRESSION_TO_PI3...                     0.152003   \n",
       "KEGG_MEDICUS_VARIANT_TMPRSS2_ERG_FUSION_TO_TRAN...                     0.234498   \n",
       "KEGG_MEDICUS_VARIANT_TRK_FUSION_KINASE_TO_RAS_E...                     0.089472   \n",
       "\n",
       "                                                    ZR751_BREAST  \\\n",
       "KEGG_MEDICUS_ENV_FACTOR_ARSENIC_TO_ELECTRON_TRA...      0.526732   \n",
       "KEGG_MEDICUS_ENV_FACTOR_BENZO_A_PYRENRE_TO_CYP_...     -0.430653   \n",
       "KEGG_MEDICUS_ENV_FACTOR_DCE_TO_DNA_ADDUCTS             -0.166378   \n",
       "KEGG_MEDICUS_ENV_FACTOR_E2_TO_NUCLEAR_INITIATED...      0.387118   \n",
       "KEGG_MEDICUS_ENV_FACTOR_E2_TO_RAS_ERK_SIGNALING...      0.002501   \n",
       "...                                                          ...   \n",
       "KEGG_MEDICUS_VARIANT_SCRAPIE_CONFORMATION_PRPSC...      0.194295   \n",
       "KEGG_MEDICUS_VARIANT_TEL_AML1_FUSION_TO_TRANSCR...     -0.249230   \n",
       "KEGG_MEDICUS_VARIANT_TGFA_OVEREXPRESSION_TO_PI3...     -0.139507   \n",
       "KEGG_MEDICUS_VARIANT_TMPRSS2_ERG_FUSION_TO_TRAN...     -0.452274   \n",
       "KEGG_MEDICUS_VARIANT_TRK_FUSION_KINASE_TO_RAS_E...     -0.244789   \n",
       "\n",
       "                                                    ZR7530_BREAST  \n",
       "KEGG_MEDICUS_ENV_FACTOR_ARSENIC_TO_ELECTRON_TRA...       0.220102  \n",
       "KEGG_MEDICUS_ENV_FACTOR_BENZO_A_PYRENRE_TO_CYP_...       0.182114  \n",
       "KEGG_MEDICUS_ENV_FACTOR_DCE_TO_DNA_ADDUCTS               0.045039  \n",
       "KEGG_MEDICUS_ENV_FACTOR_E2_TO_NUCLEAR_INITIATED...       0.503203  \n",
       "KEGG_MEDICUS_ENV_FACTOR_E2_TO_RAS_ERK_SIGNALING...       0.102778  \n",
       "...                                                           ...  \n",
       "KEGG_MEDICUS_VARIANT_SCRAPIE_CONFORMATION_PRPSC...       0.100961  \n",
       "KEGG_MEDICUS_VARIANT_TEL_AML1_FUSION_TO_TRANSCR...      -0.453372  \n",
       "KEGG_MEDICUS_VARIANT_TGFA_OVEREXPRESSION_TO_PI3...      -0.157565  \n",
       "KEGG_MEDICUS_VARIANT_TMPRSS2_ERG_FUSION_TO_TRAN...      -0.463809  \n",
       "KEGG_MEDICUS_VARIANT_TRK_FUSION_KINASE_TO_RAS_E...      -0.357171  \n",
       "\n",
       "[658 rows x 1019 columns]"
      ]
     },
     "execution_count": 35,
     "metadata": {},
     "output_type": "execute_result"
    }
   ],
   "source": [
    "gsva_df"
   ]
  },
  {
   "cell_type": "code",
   "execution_count": 36,
   "id": "a239b26b",
   "metadata": {},
   "outputs": [
    {
     "data": {
      "text/plain": [
       "True"
      ]
     },
     "execution_count": 36,
     "metadata": {},
     "output_type": "execute_result"
    }
   ],
   "source": [
    "gsva_df.columns = gsva_df.columns.str.split(\"_\").str[0].str.upper().to_series().apply(clean_name)\n",
    "gsva_df.columns.has_duplicates"
   ]
  },
  {
   "cell_type": "code",
   "execution_count": 37,
   "id": "8de1b14d",
   "metadata": {},
   "outputs": [
    {
     "name": "stdout",
     "output_type": "stream",
     "text": [
      "False\n"
     ]
    },
    {
     "data": {
      "text/html": [
       "<div>\n",
       "<style scoped>\n",
       "    .dataframe tbody tr th:only-of-type {\n",
       "        vertical-align: middle;\n",
       "    }\n",
       "\n",
       "    .dataframe tbody tr th {\n",
       "        vertical-align: top;\n",
       "    }\n",
       "\n",
       "    .dataframe thead th {\n",
       "        text-align: right;\n",
       "    }\n",
       "</style>\n",
       "<table border=\"1\" class=\"dataframe\">\n",
       "  <thead>\n",
       "    <tr style=\"text-align: right;\">\n",
       "      <th></th>\n",
       "      <th>X22RV1</th>\n",
       "      <th>X2313287</th>\n",
       "      <th>X253JBV</th>\n",
       "      <th>X253J</th>\n",
       "      <th>X42MGBA</th>\n",
       "      <th>X5637</th>\n",
       "      <th>X59M</th>\n",
       "      <th>X639V</th>\n",
       "      <th>X647V</th>\n",
       "      <th>X697</th>\n",
       "      <th>...</th>\n",
       "      <th>WSUDLCL2</th>\n",
       "      <th>YAPC</th>\n",
       "      <th>YD10B</th>\n",
       "      <th>YD15</th>\n",
       "      <th>YD38</th>\n",
       "      <th>YD8</th>\n",
       "      <th>YH13</th>\n",
       "      <th>YKG1</th>\n",
       "      <th>ZR751</th>\n",
       "      <th>ZR7530</th>\n",
       "    </tr>\n",
       "  </thead>\n",
       "  <tbody>\n",
       "    <tr>\n",
       "      <th>KEGG_MEDICUS_ENV_FACTOR_ARSENIC_TO_ELECTRON_TRANSFER_IN_COMPLEX_IV</th>\n",
       "      <td>0.244789</td>\n",
       "      <td>-0.083931</td>\n",
       "      <td>0.279529</td>\n",
       "      <td>0.208577</td>\n",
       "      <td>-0.132328</td>\n",
       "      <td>0.215197</td>\n",
       "      <td>0.319143</td>\n",
       "      <td>-0.075647</td>\n",
       "      <td>0.277187</td>\n",
       "      <td>0.271370</td>\n",
       "      <td>...</td>\n",
       "      <td>0.075112</td>\n",
       "      <td>0.327630</td>\n",
       "      <td>-0.375213</td>\n",
       "      <td>-0.355703</td>\n",
       "      <td>-0.101719</td>\n",
       "      <td>-0.530021</td>\n",
       "      <td>-0.537348</td>\n",
       "      <td>0.275503</td>\n",
       "      <td>0.526732</td>\n",
       "      <td>0.220102</td>\n",
       "    </tr>\n",
       "    <tr>\n",
       "      <th>KEGG_MEDICUS_ENV_FACTOR_BENZO_A_PYRENRE_TO_CYP_MEDIATED_METABOLISM</th>\n",
       "      <td>0.232631</td>\n",
       "      <td>0.414819</td>\n",
       "      <td>0.290806</td>\n",
       "      <td>0.670978</td>\n",
       "      <td>-0.274907</td>\n",
       "      <td>0.192912</td>\n",
       "      <td>0.640286</td>\n",
       "      <td>-0.506128</td>\n",
       "      <td>-0.057853</td>\n",
       "      <td>-0.455609</td>\n",
       "      <td>...</td>\n",
       "      <td>-0.274736</td>\n",
       "      <td>0.131784</td>\n",
       "      <td>0.551961</td>\n",
       "      <td>0.211546</td>\n",
       "      <td>-0.032558</td>\n",
       "      <td>0.151900</td>\n",
       "      <td>0.317689</td>\n",
       "      <td>-0.332108</td>\n",
       "      <td>-0.430653</td>\n",
       "      <td>0.182114</td>\n",
       "    </tr>\n",
       "    <tr>\n",
       "      <th>KEGG_MEDICUS_ENV_FACTOR_DCE_TO_DNA_ADDUCTS</th>\n",
       "      <td>-0.186705</td>\n",
       "      <td>0.177009</td>\n",
       "      <td>-0.414291</td>\n",
       "      <td>-0.038181</td>\n",
       "      <td>0.207581</td>\n",
       "      <td>0.134153</td>\n",
       "      <td>0.586046</td>\n",
       "      <td>-0.158105</td>\n",
       "      <td>-0.045624</td>\n",
       "      <td>-0.519046</td>\n",
       "      <td>...</td>\n",
       "      <td>-0.145654</td>\n",
       "      <td>0.178017</td>\n",
       "      <td>0.254041</td>\n",
       "      <td>-0.116195</td>\n",
       "      <td>-0.179142</td>\n",
       "      <td>0.231483</td>\n",
       "      <td>0.155220</td>\n",
       "      <td>0.205721</td>\n",
       "      <td>-0.166378</td>\n",
       "      <td>0.045039</td>\n",
       "    </tr>\n",
       "    <tr>\n",
       "      <th>KEGG_MEDICUS_ENV_FACTOR_E2_TO_NUCLEAR_INITIATED_ESTROGEN_SIGNALING_PATHWAY</th>\n",
       "      <td>-0.540508</td>\n",
       "      <td>-0.258760</td>\n",
       "      <td>-0.138647</td>\n",
       "      <td>0.146632</td>\n",
       "      <td>-0.384697</td>\n",
       "      <td>-0.019662</td>\n",
       "      <td>0.407990</td>\n",
       "      <td>-0.288576</td>\n",
       "      <td>-0.125966</td>\n",
       "      <td>0.616469</td>\n",
       "      <td>...</td>\n",
       "      <td>0.087120</td>\n",
       "      <td>-0.160979</td>\n",
       "      <td>0.192224</td>\n",
       "      <td>0.457628</td>\n",
       "      <td>0.006197</td>\n",
       "      <td>-0.417248</td>\n",
       "      <td>-0.453304</td>\n",
       "      <td>-0.136213</td>\n",
       "      <td>0.387118</td>\n",
       "      <td>0.503203</td>\n",
       "    </tr>\n",
       "    <tr>\n",
       "      <th>KEGG_MEDICUS_ENV_FACTOR_E2_TO_RAS_ERK_SIGNALING_PATHWAY</th>\n",
       "      <td>-0.166025</td>\n",
       "      <td>0.121127</td>\n",
       "      <td>-0.259766</td>\n",
       "      <td>-0.369504</td>\n",
       "      <td>0.117981</td>\n",
       "      <td>0.406653</td>\n",
       "      <td>-0.132804</td>\n",
       "      <td>0.414331</td>\n",
       "      <td>0.543123</td>\n",
       "      <td>-0.071814</td>\n",
       "      <td>...</td>\n",
       "      <td>0.112035</td>\n",
       "      <td>0.091719</td>\n",
       "      <td>-0.332850</td>\n",
       "      <td>0.156438</td>\n",
       "      <td>-0.064297</td>\n",
       "      <td>0.338911</td>\n",
       "      <td>0.224560</td>\n",
       "      <td>0.143953</td>\n",
       "      <td>0.002501</td>\n",
       "      <td>0.102778</td>\n",
       "    </tr>\n",
       "    <tr>\n",
       "      <th>...</th>\n",
       "      <td>...</td>\n",
       "      <td>...</td>\n",
       "      <td>...</td>\n",
       "      <td>...</td>\n",
       "      <td>...</td>\n",
       "      <td>...</td>\n",
       "      <td>...</td>\n",
       "      <td>...</td>\n",
       "      <td>...</td>\n",
       "      <td>...</td>\n",
       "      <td>...</td>\n",
       "      <td>...</td>\n",
       "      <td>...</td>\n",
       "      <td>...</td>\n",
       "      <td>...</td>\n",
       "      <td>...</td>\n",
       "      <td>...</td>\n",
       "      <td>...</td>\n",
       "      <td>...</td>\n",
       "      <td>...</td>\n",
       "      <td>...</td>\n",
       "    </tr>\n",
       "    <tr>\n",
       "      <th>KEGG_MEDICUS_VARIANT_SCRAPIE_CONFORMATION_PRPSC_TO_VGCC_CA2_APOPTOTIC_PATHWAY</th>\n",
       "      <td>-0.117058</td>\n",
       "      <td>0.534826</td>\n",
       "      <td>0.499067</td>\n",
       "      <td>0.476963</td>\n",
       "      <td>0.491432</td>\n",
       "      <td>-0.041223</td>\n",
       "      <td>-0.021224</td>\n",
       "      <td>-0.637564</td>\n",
       "      <td>-0.262915</td>\n",
       "      <td>-0.128982</td>\n",
       "      <td>...</td>\n",
       "      <td>-0.316305</td>\n",
       "      <td>-0.194693</td>\n",
       "      <td>0.727817</td>\n",
       "      <td>0.157373</td>\n",
       "      <td>0.250761</td>\n",
       "      <td>-0.209867</td>\n",
       "      <td>0.035322</td>\n",
       "      <td>0.055748</td>\n",
       "      <td>0.194295</td>\n",
       "      <td>0.100961</td>\n",
       "    </tr>\n",
       "    <tr>\n",
       "      <th>KEGG_MEDICUS_VARIANT_TEL_AML1_FUSION_TO_TRANSCRIPTIONAL_REPRESSION</th>\n",
       "      <td>-0.071946</td>\n",
       "      <td>-0.235064</td>\n",
       "      <td>-0.158232</td>\n",
       "      <td>-0.471312</td>\n",
       "      <td>0.069451</td>\n",
       "      <td>0.552709</td>\n",
       "      <td>-0.219726</td>\n",
       "      <td>-0.231657</td>\n",
       "      <td>0.247514</td>\n",
       "      <td>0.479034</td>\n",
       "      <td>...</td>\n",
       "      <td>0.471183</td>\n",
       "      <td>0.543891</td>\n",
       "      <td>0.173360</td>\n",
       "      <td>0.325866</td>\n",
       "      <td>0.628831</td>\n",
       "      <td>0.454693</td>\n",
       "      <td>0.169221</td>\n",
       "      <td>0.040660</td>\n",
       "      <td>-0.249230</td>\n",
       "      <td>-0.453372</td>\n",
       "    </tr>\n",
       "    <tr>\n",
       "      <th>KEGG_MEDICUS_VARIANT_TGFA_OVEREXPRESSION_TO_PI3K_SIGNALING_PATHWAY</th>\n",
       "      <td>-0.288375</td>\n",
       "      <td>-0.230789</td>\n",
       "      <td>-0.043607</td>\n",
       "      <td>-0.100954</td>\n",
       "      <td>-0.003728</td>\n",
       "      <td>0.443881</td>\n",
       "      <td>-0.040789</td>\n",
       "      <td>-0.123535</td>\n",
       "      <td>0.551131</td>\n",
       "      <td>0.003992</td>\n",
       "      <td>...</td>\n",
       "      <td>-0.070541</td>\n",
       "      <td>0.065449</td>\n",
       "      <td>0.058856</td>\n",
       "      <td>0.208207</td>\n",
       "      <td>0.303945</td>\n",
       "      <td>0.378906</td>\n",
       "      <td>0.233616</td>\n",
       "      <td>0.152003</td>\n",
       "      <td>-0.139507</td>\n",
       "      <td>-0.157565</td>\n",
       "    </tr>\n",
       "    <tr>\n",
       "      <th>KEGG_MEDICUS_VARIANT_TMPRSS2_ERG_FUSION_TO_TRANSCRIPTIONAL_ACTIVATION</th>\n",
       "      <td>-0.566128</td>\n",
       "      <td>-0.454890</td>\n",
       "      <td>0.398130</td>\n",
       "      <td>0.312828</td>\n",
       "      <td>0.524678</td>\n",
       "      <td>0.477288</td>\n",
       "      <td>0.634019</td>\n",
       "      <td>-0.273644</td>\n",
       "      <td>0.437712</td>\n",
       "      <td>0.101343</td>\n",
       "      <td>...</td>\n",
       "      <td>0.100011</td>\n",
       "      <td>-0.227126</td>\n",
       "      <td>0.728999</td>\n",
       "      <td>0.366406</td>\n",
       "      <td>0.542634</td>\n",
       "      <td>-0.223423</td>\n",
       "      <td>0.224992</td>\n",
       "      <td>0.234498</td>\n",
       "      <td>-0.452274</td>\n",
       "      <td>-0.463809</td>\n",
       "    </tr>\n",
       "    <tr>\n",
       "      <th>KEGG_MEDICUS_VARIANT_TRK_FUSION_KINASE_TO_RAS_ERK_SIGNALING_PATHWAY</th>\n",
       "      <td>0.277608</td>\n",
       "      <td>0.081306</td>\n",
       "      <td>-0.563445</td>\n",
       "      <td>-0.574400</td>\n",
       "      <td>-0.037904</td>\n",
       "      <td>0.552571</td>\n",
       "      <td>-0.340356</td>\n",
       "      <td>0.519263</td>\n",
       "      <td>0.558499</td>\n",
       "      <td>0.093699</td>\n",
       "      <td>...</td>\n",
       "      <td>0.334907</td>\n",
       "      <td>-0.040334</td>\n",
       "      <td>-0.368974</td>\n",
       "      <td>-0.049374</td>\n",
       "      <td>-0.165126</td>\n",
       "      <td>0.205630</td>\n",
       "      <td>0.199840</td>\n",
       "      <td>0.089472</td>\n",
       "      <td>-0.244789</td>\n",
       "      <td>-0.357171</td>\n",
       "    </tr>\n",
       "  </tbody>\n",
       "</table>\n",
       "<p>658 rows × 1018 columns</p>\n",
       "</div>"
      ],
      "text/plain": [
       "                                                      X22RV1  X2313287  \\\n",
       "KEGG_MEDICUS_ENV_FACTOR_ARSENIC_TO_ELECTRON_TRA...  0.244789 -0.083931   \n",
       "KEGG_MEDICUS_ENV_FACTOR_BENZO_A_PYRENRE_TO_CYP_...  0.232631  0.414819   \n",
       "KEGG_MEDICUS_ENV_FACTOR_DCE_TO_DNA_ADDUCTS         -0.186705  0.177009   \n",
       "KEGG_MEDICUS_ENV_FACTOR_E2_TO_NUCLEAR_INITIATED... -0.540508 -0.258760   \n",
       "KEGG_MEDICUS_ENV_FACTOR_E2_TO_RAS_ERK_SIGNALING... -0.166025  0.121127   \n",
       "...                                                      ...       ...   \n",
       "KEGG_MEDICUS_VARIANT_SCRAPIE_CONFORMATION_PRPSC... -0.117058  0.534826   \n",
       "KEGG_MEDICUS_VARIANT_TEL_AML1_FUSION_TO_TRANSCR... -0.071946 -0.235064   \n",
       "KEGG_MEDICUS_VARIANT_TGFA_OVEREXPRESSION_TO_PI3... -0.288375 -0.230789   \n",
       "KEGG_MEDICUS_VARIANT_TMPRSS2_ERG_FUSION_TO_TRAN... -0.566128 -0.454890   \n",
       "KEGG_MEDICUS_VARIANT_TRK_FUSION_KINASE_TO_RAS_E...  0.277608  0.081306   \n",
       "\n",
       "                                                     X253JBV     X253J  \\\n",
       "KEGG_MEDICUS_ENV_FACTOR_ARSENIC_TO_ELECTRON_TRA...  0.279529  0.208577   \n",
       "KEGG_MEDICUS_ENV_FACTOR_BENZO_A_PYRENRE_TO_CYP_...  0.290806  0.670978   \n",
       "KEGG_MEDICUS_ENV_FACTOR_DCE_TO_DNA_ADDUCTS         -0.414291 -0.038181   \n",
       "KEGG_MEDICUS_ENV_FACTOR_E2_TO_NUCLEAR_INITIATED... -0.138647  0.146632   \n",
       "KEGG_MEDICUS_ENV_FACTOR_E2_TO_RAS_ERK_SIGNALING... -0.259766 -0.369504   \n",
       "...                                                      ...       ...   \n",
       "KEGG_MEDICUS_VARIANT_SCRAPIE_CONFORMATION_PRPSC...  0.499067  0.476963   \n",
       "KEGG_MEDICUS_VARIANT_TEL_AML1_FUSION_TO_TRANSCR... -0.158232 -0.471312   \n",
       "KEGG_MEDICUS_VARIANT_TGFA_OVEREXPRESSION_TO_PI3... -0.043607 -0.100954   \n",
       "KEGG_MEDICUS_VARIANT_TMPRSS2_ERG_FUSION_TO_TRAN...  0.398130  0.312828   \n",
       "KEGG_MEDICUS_VARIANT_TRK_FUSION_KINASE_TO_RAS_E... -0.563445 -0.574400   \n",
       "\n",
       "                                                     X42MGBA     X5637  \\\n",
       "KEGG_MEDICUS_ENV_FACTOR_ARSENIC_TO_ELECTRON_TRA... -0.132328  0.215197   \n",
       "KEGG_MEDICUS_ENV_FACTOR_BENZO_A_PYRENRE_TO_CYP_... -0.274907  0.192912   \n",
       "KEGG_MEDICUS_ENV_FACTOR_DCE_TO_DNA_ADDUCTS          0.207581  0.134153   \n",
       "KEGG_MEDICUS_ENV_FACTOR_E2_TO_NUCLEAR_INITIATED... -0.384697 -0.019662   \n",
       "KEGG_MEDICUS_ENV_FACTOR_E2_TO_RAS_ERK_SIGNALING...  0.117981  0.406653   \n",
       "...                                                      ...       ...   \n",
       "KEGG_MEDICUS_VARIANT_SCRAPIE_CONFORMATION_PRPSC...  0.491432 -0.041223   \n",
       "KEGG_MEDICUS_VARIANT_TEL_AML1_FUSION_TO_TRANSCR...  0.069451  0.552709   \n",
       "KEGG_MEDICUS_VARIANT_TGFA_OVEREXPRESSION_TO_PI3... -0.003728  0.443881   \n",
       "KEGG_MEDICUS_VARIANT_TMPRSS2_ERG_FUSION_TO_TRAN...  0.524678  0.477288   \n",
       "KEGG_MEDICUS_VARIANT_TRK_FUSION_KINASE_TO_RAS_E... -0.037904  0.552571   \n",
       "\n",
       "                                                        X59M     X639V  \\\n",
       "KEGG_MEDICUS_ENV_FACTOR_ARSENIC_TO_ELECTRON_TRA...  0.319143 -0.075647   \n",
       "KEGG_MEDICUS_ENV_FACTOR_BENZO_A_PYRENRE_TO_CYP_...  0.640286 -0.506128   \n",
       "KEGG_MEDICUS_ENV_FACTOR_DCE_TO_DNA_ADDUCTS          0.586046 -0.158105   \n",
       "KEGG_MEDICUS_ENV_FACTOR_E2_TO_NUCLEAR_INITIATED...  0.407990 -0.288576   \n",
       "KEGG_MEDICUS_ENV_FACTOR_E2_TO_RAS_ERK_SIGNALING... -0.132804  0.414331   \n",
       "...                                                      ...       ...   \n",
       "KEGG_MEDICUS_VARIANT_SCRAPIE_CONFORMATION_PRPSC... -0.021224 -0.637564   \n",
       "KEGG_MEDICUS_VARIANT_TEL_AML1_FUSION_TO_TRANSCR... -0.219726 -0.231657   \n",
       "KEGG_MEDICUS_VARIANT_TGFA_OVEREXPRESSION_TO_PI3... -0.040789 -0.123535   \n",
       "KEGG_MEDICUS_VARIANT_TMPRSS2_ERG_FUSION_TO_TRAN...  0.634019 -0.273644   \n",
       "KEGG_MEDICUS_VARIANT_TRK_FUSION_KINASE_TO_RAS_E... -0.340356  0.519263   \n",
       "\n",
       "                                                       X647V      X697  ...  \\\n",
       "KEGG_MEDICUS_ENV_FACTOR_ARSENIC_TO_ELECTRON_TRA...  0.277187  0.271370  ...   \n",
       "KEGG_MEDICUS_ENV_FACTOR_BENZO_A_PYRENRE_TO_CYP_... -0.057853 -0.455609  ...   \n",
       "KEGG_MEDICUS_ENV_FACTOR_DCE_TO_DNA_ADDUCTS         -0.045624 -0.519046  ...   \n",
       "KEGG_MEDICUS_ENV_FACTOR_E2_TO_NUCLEAR_INITIATED... -0.125966  0.616469  ...   \n",
       "KEGG_MEDICUS_ENV_FACTOR_E2_TO_RAS_ERK_SIGNALING...  0.543123 -0.071814  ...   \n",
       "...                                                      ...       ...  ...   \n",
       "KEGG_MEDICUS_VARIANT_SCRAPIE_CONFORMATION_PRPSC... -0.262915 -0.128982  ...   \n",
       "KEGG_MEDICUS_VARIANT_TEL_AML1_FUSION_TO_TRANSCR...  0.247514  0.479034  ...   \n",
       "KEGG_MEDICUS_VARIANT_TGFA_OVEREXPRESSION_TO_PI3...  0.551131  0.003992  ...   \n",
       "KEGG_MEDICUS_VARIANT_TMPRSS2_ERG_FUSION_TO_TRAN...  0.437712  0.101343  ...   \n",
       "KEGG_MEDICUS_VARIANT_TRK_FUSION_KINASE_TO_RAS_E...  0.558499  0.093699  ...   \n",
       "\n",
       "                                                    WSUDLCL2      YAPC  \\\n",
       "KEGG_MEDICUS_ENV_FACTOR_ARSENIC_TO_ELECTRON_TRA...  0.075112  0.327630   \n",
       "KEGG_MEDICUS_ENV_FACTOR_BENZO_A_PYRENRE_TO_CYP_... -0.274736  0.131784   \n",
       "KEGG_MEDICUS_ENV_FACTOR_DCE_TO_DNA_ADDUCTS         -0.145654  0.178017   \n",
       "KEGG_MEDICUS_ENV_FACTOR_E2_TO_NUCLEAR_INITIATED...  0.087120 -0.160979   \n",
       "KEGG_MEDICUS_ENV_FACTOR_E2_TO_RAS_ERK_SIGNALING...  0.112035  0.091719   \n",
       "...                                                      ...       ...   \n",
       "KEGG_MEDICUS_VARIANT_SCRAPIE_CONFORMATION_PRPSC... -0.316305 -0.194693   \n",
       "KEGG_MEDICUS_VARIANT_TEL_AML1_FUSION_TO_TRANSCR...  0.471183  0.543891   \n",
       "KEGG_MEDICUS_VARIANT_TGFA_OVEREXPRESSION_TO_PI3... -0.070541  0.065449   \n",
       "KEGG_MEDICUS_VARIANT_TMPRSS2_ERG_FUSION_TO_TRAN...  0.100011 -0.227126   \n",
       "KEGG_MEDICUS_VARIANT_TRK_FUSION_KINASE_TO_RAS_E...  0.334907 -0.040334   \n",
       "\n",
       "                                                       YD10B      YD15  \\\n",
       "KEGG_MEDICUS_ENV_FACTOR_ARSENIC_TO_ELECTRON_TRA... -0.375213 -0.355703   \n",
       "KEGG_MEDICUS_ENV_FACTOR_BENZO_A_PYRENRE_TO_CYP_...  0.551961  0.211546   \n",
       "KEGG_MEDICUS_ENV_FACTOR_DCE_TO_DNA_ADDUCTS          0.254041 -0.116195   \n",
       "KEGG_MEDICUS_ENV_FACTOR_E2_TO_NUCLEAR_INITIATED...  0.192224  0.457628   \n",
       "KEGG_MEDICUS_ENV_FACTOR_E2_TO_RAS_ERK_SIGNALING... -0.332850  0.156438   \n",
       "...                                                      ...       ...   \n",
       "KEGG_MEDICUS_VARIANT_SCRAPIE_CONFORMATION_PRPSC...  0.727817  0.157373   \n",
       "KEGG_MEDICUS_VARIANT_TEL_AML1_FUSION_TO_TRANSCR...  0.173360  0.325866   \n",
       "KEGG_MEDICUS_VARIANT_TGFA_OVEREXPRESSION_TO_PI3...  0.058856  0.208207   \n",
       "KEGG_MEDICUS_VARIANT_TMPRSS2_ERG_FUSION_TO_TRAN...  0.728999  0.366406   \n",
       "KEGG_MEDICUS_VARIANT_TRK_FUSION_KINASE_TO_RAS_E... -0.368974 -0.049374   \n",
       "\n",
       "                                                        YD38       YD8  \\\n",
       "KEGG_MEDICUS_ENV_FACTOR_ARSENIC_TO_ELECTRON_TRA... -0.101719 -0.530021   \n",
       "KEGG_MEDICUS_ENV_FACTOR_BENZO_A_PYRENRE_TO_CYP_... -0.032558  0.151900   \n",
       "KEGG_MEDICUS_ENV_FACTOR_DCE_TO_DNA_ADDUCTS         -0.179142  0.231483   \n",
       "KEGG_MEDICUS_ENV_FACTOR_E2_TO_NUCLEAR_INITIATED...  0.006197 -0.417248   \n",
       "KEGG_MEDICUS_ENV_FACTOR_E2_TO_RAS_ERK_SIGNALING... -0.064297  0.338911   \n",
       "...                                                      ...       ...   \n",
       "KEGG_MEDICUS_VARIANT_SCRAPIE_CONFORMATION_PRPSC...  0.250761 -0.209867   \n",
       "KEGG_MEDICUS_VARIANT_TEL_AML1_FUSION_TO_TRANSCR...  0.628831  0.454693   \n",
       "KEGG_MEDICUS_VARIANT_TGFA_OVEREXPRESSION_TO_PI3...  0.303945  0.378906   \n",
       "KEGG_MEDICUS_VARIANT_TMPRSS2_ERG_FUSION_TO_TRAN...  0.542634 -0.223423   \n",
       "KEGG_MEDICUS_VARIANT_TRK_FUSION_KINASE_TO_RAS_E... -0.165126  0.205630   \n",
       "\n",
       "                                                        YH13      YKG1  \\\n",
       "KEGG_MEDICUS_ENV_FACTOR_ARSENIC_TO_ELECTRON_TRA... -0.537348  0.275503   \n",
       "KEGG_MEDICUS_ENV_FACTOR_BENZO_A_PYRENRE_TO_CYP_...  0.317689 -0.332108   \n",
       "KEGG_MEDICUS_ENV_FACTOR_DCE_TO_DNA_ADDUCTS          0.155220  0.205721   \n",
       "KEGG_MEDICUS_ENV_FACTOR_E2_TO_NUCLEAR_INITIATED... -0.453304 -0.136213   \n",
       "KEGG_MEDICUS_ENV_FACTOR_E2_TO_RAS_ERK_SIGNALING...  0.224560  0.143953   \n",
       "...                                                      ...       ...   \n",
       "KEGG_MEDICUS_VARIANT_SCRAPIE_CONFORMATION_PRPSC...  0.035322  0.055748   \n",
       "KEGG_MEDICUS_VARIANT_TEL_AML1_FUSION_TO_TRANSCR...  0.169221  0.040660   \n",
       "KEGG_MEDICUS_VARIANT_TGFA_OVEREXPRESSION_TO_PI3...  0.233616  0.152003   \n",
       "KEGG_MEDICUS_VARIANT_TMPRSS2_ERG_FUSION_TO_TRAN...  0.224992  0.234498   \n",
       "KEGG_MEDICUS_VARIANT_TRK_FUSION_KINASE_TO_RAS_E...  0.199840  0.089472   \n",
       "\n",
       "                                                       ZR751    ZR7530  \n",
       "KEGG_MEDICUS_ENV_FACTOR_ARSENIC_TO_ELECTRON_TRA...  0.526732  0.220102  \n",
       "KEGG_MEDICUS_ENV_FACTOR_BENZO_A_PYRENRE_TO_CYP_... -0.430653  0.182114  \n",
       "KEGG_MEDICUS_ENV_FACTOR_DCE_TO_DNA_ADDUCTS         -0.166378  0.045039  \n",
       "KEGG_MEDICUS_ENV_FACTOR_E2_TO_NUCLEAR_INITIATED...  0.387118  0.503203  \n",
       "KEGG_MEDICUS_ENV_FACTOR_E2_TO_RAS_ERK_SIGNALING...  0.002501  0.102778  \n",
       "...                                                      ...       ...  \n",
       "KEGG_MEDICUS_VARIANT_SCRAPIE_CONFORMATION_PRPSC...  0.194295  0.100961  \n",
       "KEGG_MEDICUS_VARIANT_TEL_AML1_FUSION_TO_TRANSCR... -0.249230 -0.453372  \n",
       "KEGG_MEDICUS_VARIANT_TGFA_OVEREXPRESSION_TO_PI3... -0.139507 -0.157565  \n",
       "KEGG_MEDICUS_VARIANT_TMPRSS2_ERG_FUSION_TO_TRAN... -0.452274 -0.463809  \n",
       "KEGG_MEDICUS_VARIANT_TRK_FUSION_KINASE_TO_RAS_E... -0.244789 -0.357171  \n",
       "\n",
       "[658 rows x 1018 columns]"
      ]
     },
     "execution_count": 37,
     "metadata": {},
     "output_type": "execute_result"
    }
   ],
   "source": [
    "gsva_df = gsva_df.loc[:, ~gsva_df.columns.duplicated()]\n",
    "print(gsva_df.columns.has_duplicates)\n",
    "gsva_df"
   ]
  },
  {
   "cell_type": "markdown",
   "id": "6045d229",
   "metadata": {},
   "source": [
    "# Building the PyTorch Dataset"
   ]
  },
  {
   "cell_type": "code",
   "execution_count": 38,
   "id": "835018fe",
   "metadata": {},
   "outputs": [],
   "source": [
    "from torch.utils.data import Dataset\n",
    "from torch_geometric.data import Data\n",
    "\n",
    "class DrugResponseDataset(Dataset):\n",
    "    def __init__(self, dataframe, gsva_df, drug_smiles, atom_vocab):\n",
    "        self.df = dataframe.reset_index(drop=True)\n",
    "        self.gsva_df = gsva_df\n",
    "        self.drug_smiles = drug_smiles\n",
    "        self.atom_vocab = atom_vocab\n",
    "\n",
    "    def __len__(self):\n",
    "        return len(self.df)\n",
    "\n",
    "    def __getitem__(self, idx):\n",
    "        row = self.df.iloc[idx]\n",
    "        drug = row[\"DRUG_NAME\"]\n",
    "        cell_line = row[\"CELL_LINE_NAME_CLEAN\"]\n",
    "        y = row[\"IC50_NORMALIZED\"]\n",
    "\n",
    "        if drug not in self.drug_smiles:\n",
    "            raise ValueError(f\"Drug '{drug}' not found in SMILES dictionary\")\n",
    "\n",
    "        smi = self.drug_smiles[drug]\n",
    "        mol = smiles_to_mol(smi)\n",
    "\n",
    "        if mol is None:\n",
    "            raise ValueError(f\"Invalid SMILES for {drug}: {smi}\")\n",
    "\n",
    "        graph = mol_to_graph_data_obj(mol)\n",
    "        graph.idx = idx\n",
    "\n",
    "        if cell_line not in self.gsva_df.columns:\n",
    "            raise ValueError(f\"Cell line '{cell_line}' not in GSVA\")\n",
    "\n",
    "        gsva_vec = torch.tensor(self.gsva_df[cell_line].values, dtype=torch.float)\n",
    "        return graph, gsva_vec, torch.tensor([y], dtype=torch.float)\n"
   ]
  },
  {
   "cell_type": "code",
   "execution_count": 39,
   "id": "4a3f8063",
   "metadata": {},
   "outputs": [],
   "source": [
    "from torch_geometric.loader import DataLoader as PyGLoader\n",
    "from torch.utils.data import DataLoader as TorchLoader\n",
    "from torch_geometric.data import Batch\n",
    "\n",
    "# Custom collate to combine graph batches + tensor batches\n",
    "def collate_fn(batch):\n",
    "    graphs, gsvectors, targets = zip(*batch)\n",
    "    return (\n",
    "        Batch.from_data_list(graphs),\n",
    "        torch.stack(gsvectors),\n",
    "        torch.stack(targets)\n",
    "    )"
   ]
  },
  {
   "cell_type": "code",
   "execution_count": 40,
   "id": "6aff042f",
   "metadata": {},
   "outputs": [],
   "source": [
    "from sklearn.model_selection import train_test_split\n",
    "\n",
    "cell_lines = df[\"CELL_LINE_NAME_CLEAN\"].unique()\n",
    "train_cl, temp_cl = train_test_split(cell_lines, test_size=0.3, random_state=42)\n",
    "val_cl, test_cl = train_test_split(temp_cl, test_size=2/3, random_state=42)"
   ]
  },
  {
   "cell_type": "code",
   "execution_count": 41,
   "id": "984bae08",
   "metadata": {},
   "outputs": [],
   "source": [
    "train_df = df[df[\"CELL_LINE_NAME_CLEAN\"].isin(train_cl)]\n",
    "val_df   = df[df[\"CELL_LINE_NAME_CLEAN\"].isin(val_cl)]\n",
    "test_df  = df[df[\"CELL_LINE_NAME_CLEAN\"].isin(test_cl)]"
   ]
  },
  {
   "cell_type": "code",
   "execution_count": 42,
   "id": "832b124c",
   "metadata": {},
   "outputs": [],
   "source": [
    "train_dataset = DrugResponseDataset(train_df, gsva_df, drug_smiles, atom_vocab)\n",
    "val_dataset   = DrugResponseDataset(val_df, gsva_df, drug_smiles, atom_vocab)\n",
    "test_dataset  = DrugResponseDataset(test_df, gsva_df, drug_smiles, atom_vocab)"
   ]
  },
  {
   "cell_type": "code",
   "execution_count": 43,
   "id": "18a8e0b1",
   "metadata": {},
   "outputs": [],
   "source": [
    "train_loader = TorchLoader(train_dataset, batch_size=32, shuffle=True, collate_fn=collate_fn)\n",
    "val_loader   = TorchLoader(val_dataset, batch_size=32, shuffle=False, collate_fn=collate_fn)\n",
    "test_loader  = TorchLoader(test_dataset, batch_size=32, shuffle=False, collate_fn=collate_fn)"
   ]
  },
  {
   "cell_type": "code",
   "execution_count": 44,
   "id": "ec2020f6",
   "metadata": {},
   "outputs": [],
   "source": [
    "# train_dataset = DrugResponseDataset(df, gsva_df, drug_smiles, atom_vocab)\n",
    "# train_loader = TorchLoader(train_dataset, batch_size=32, shuffle=True, collate_fn=collate_fn)"
   ]
  },
  {
   "cell_type": "markdown",
   "id": "2b3e3fa9",
   "metadata": {},
   "source": [
    "# Building the Model Architecture"
   ]
  },
  {
   "cell_type": "code",
   "execution_count": 45,
   "id": "29daf33b",
   "metadata": {},
   "outputs": [],
   "source": [
    "import torch\n",
    "import torch.nn as nn\n",
    "import torch.nn.functional as F\n",
    "from torch_geometric.nn import GINConv, global_max_pool\n",
    "from torch_geometric.data import Data\n",
    "\n",
    "from tqdm.notebook import tqdm\n",
    "\n",
    "from sklearn.metrics import root_mean_squared_error\n",
    "from scipy.stats import pearsonr\n",
    "\n",
    "from torch.optim.lr_scheduler import ReduceLROnPlateau, CosineAnnealingLR"
   ]
  },
  {
   "cell_type": "code",
   "execution_count": 46,
   "id": "e3372f00",
   "metadata": {},
   "outputs": [],
   "source": [
    "class DrugGINEncoder(nn.Module):\n",
    "    def __init__(self, input_dim, hidden_dim=64, out_dim=128):\n",
    "        super().__init__()\n",
    "\n",
    "        # MLPs for GIN layers\n",
    "        self.mlp1 = nn.Sequential(\n",
    "            nn.Linear(input_dim, hidden_dim),\n",
    "            nn.ReLU(),\n",
    "            nn.Linear(hidden_dim, hidden_dim)\n",
    "        )\n",
    "        self.gin1 = GINConv(self.mlp1)\n",
    "\n",
    "        self.mlp2 = nn.Sequential(\n",
    "            nn.Linear(hidden_dim, hidden_dim),\n",
    "            nn.ReLU(),\n",
    "            nn.Linear(hidden_dim, hidden_dim)\n",
    "        )\n",
    "        self.gin2 = GINConv(self.mlp2)\n",
    "\n",
    "        self.fc = nn.Linear(hidden_dim, out_dim)  # Final output: 128-dim\n",
    "\n",
    "    def forward(self, x, edge_index, batch):\n",
    "        x = self.gin1(x, edge_index)\n",
    "        x = F.relu(x)\n",
    "        x = self.gin2(x, edge_index)\n",
    "        x = F.relu(x)\n",
    "\n",
    "        # Global pooling to get graph-level embedding\n",
    "        x = global_max_pool(x, batch)\n",
    "\n",
    "        # Final FC layer\n",
    "        x = self.fc(x)\n",
    "        return x"
   ]
  },
  {
   "cell_type": "code",
   "execution_count": 47,
   "id": "3236a496",
   "metadata": {},
   "outputs": [],
   "source": [
    "class CellLineEncoder(nn.Module):\n",
    "    def __init__(self, input_dim=658): # gsva_vector.shape = (658,)\n",
    "        super().__init__()\n",
    "        self.fc1 = nn.Linear(input_dim, 512)\n",
    "        self.fc2 = nn.Linear(512, 1024)\n",
    "        self.dropout = nn.Dropout(0.2)\n",
    "        self.fc3 = nn.Linear(1024, 128)\n",
    "\n",
    "    def forward(self, x):\n",
    "        x = F.relu(self.fc1(x))\n",
    "        x = F.relu(self.fc2(x))\n",
    "        x = self.dropout(x)\n",
    "        x = self.fc3(x)\n",
    "        return x\n"
   ]
  },
  {
   "cell_type": "code",
   "execution_count": 48,
   "id": "7f216388",
   "metadata": {},
   "outputs": [
    {
     "data": {
      "text/plain": [
       "Data(x=[26, 30], edge_index=[2, 60], drug_name='Camptothecin')"
      ]
     },
     "execution_count": 48,
     "metadata": {},
     "output_type": "execute_result"
    }
   ],
   "source": [
    "dataset[0]"
   ]
  },
  {
   "cell_type": "code",
   "execution_count": 49,
   "id": "89798135",
   "metadata": {},
   "outputs": [],
   "source": [
    "class GPDRPModel(nn.Module):\n",
    "    def __init__(self, drug_in_dim=30, gsva_dim=658):\n",
    "        super().__init__()\n",
    "        self.drug_encoder = DrugGINEncoder(drug_in_dim)\n",
    "        self.cell_encoder = CellLineEncoder(gsva_dim)\n",
    "        self.fc = nn.Sequential(\n",
    "            nn.Linear(256, 1024),\n",
    "            nn.ReLU(),\n",
    "            nn.Linear(1024, 128),\n",
    "            nn.ReLU(),\n",
    "            nn.Linear(128, 1)  # final IC50 prediction\n",
    "        )\n",
    "\n",
    "    def forward(self, data, gsva):\n",
    "        drug_repr = self.drug_encoder(data.x, data.edge_index, data.batch)\n",
    "        cell_repr = self.cell_encoder(gsva)\n",
    "        fused = torch.cat([drug_repr, cell_repr], dim=1)\n",
    "        return self.fc(fused)"
   ]
  },
  {
   "cell_type": "code",
   "execution_count": 50,
   "id": "7fc39e60",
   "metadata": {},
   "outputs": [
    {
     "data": {
      "text/plain": [
       "device(type='cuda')"
      ]
     },
     "execution_count": 50,
     "metadata": {},
     "output_type": "execute_result"
    }
   ],
   "source": [
    "device = torch.device(\"cuda\" if torch.cuda.is_available() else \"cpu\")\n",
    "device"
   ]
  },
  {
   "cell_type": "code",
   "execution_count": 51,
   "id": "da4d1ae9",
   "metadata": {},
   "outputs": [],
   "source": [
    "best_rmse = float(\"inf\")\n",
    "best_model_path = \"models/gpdrp_best_model.pt\""
   ]
  },
  {
   "cell_type": "markdown",
   "id": "06b67a91",
   "metadata": {},
   "source": [
    "# Training"
   ]
  },
  {
   "cell_type": "code",
   "execution_count": 52,
   "id": "438cff0f",
   "metadata": {},
   "outputs": [
    {
     "name": "stdout",
     "output_type": "stream",
     "text": [
      "\n",
      "🌟 Epoch 1\n"
     ]
    },
    {
     "data": {
      "application/vnd.jupyter.widget-view+json": {
       "model_id": "fddd7491b69b435baf384a6d010762ee",
       "version_major": 2,
       "version_minor": 0
      },
      "text/plain": [
       "HBox(children=(FloatProgress(value=0.0, description='Training', max=2748.0, style=ProgressStyle(description_wi…"
      ]
     },
     "metadata": {},
     "output_type": "display_data"
    },
    {
     "name": "stdout",
     "output_type": "stream",
     "text": [
      "✅ Epoch 1: MSE = 0.0020, RMSE = 0.0448, PCC = 0.7618\n"
     ]
    },
    {
     "data": {
      "application/vnd.jupyter.widget-view+json": {
       "model_id": "d77891de559c4b59842dd2d98f7f144b",
       "version_major": 2,
       "version_minor": 0
      },
      "text/plain": [
       "HBox(children=(FloatProgress(value=0.0, description='Validation', max=412.0, style=ProgressStyle(description_w…"
      ]
     },
     "metadata": {},
     "output_type": "display_data"
    },
    {
     "name": "stdout",
     "output_type": "stream",
     "text": [
      "📉 Val RMSE = 0.0495 | LR = 1.0e-03\n",
      "✅ Saved new best model (RMSE: 0.0495)\n",
      "\n",
      "🌟 Epoch 2\n"
     ]
    },
    {
     "data": {
      "application/vnd.jupyter.widget-view+json": {
       "model_id": "64c745b55af046619218914766233e3f",
       "version_major": 2,
       "version_minor": 0
      },
      "text/plain": [
       "HBox(children=(FloatProgress(value=0.0, description='Training', max=2748.0, style=ProgressStyle(description_wi…"
      ]
     },
     "metadata": {},
     "output_type": "display_data"
    },
    {
     "name": "stdout",
     "output_type": "stream",
     "text": [
      "✅ Epoch 2: MSE = 0.0013, RMSE = 0.0354, PCC = 0.8562\n"
     ]
    },
    {
     "data": {
      "application/vnd.jupyter.widget-view+json": {
       "model_id": "5dd024c184c04d1388772c9eb01ae9fa",
       "version_major": 2,
       "version_minor": 0
      },
      "text/plain": [
       "HBox(children=(FloatProgress(value=0.0, description='Validation', max=412.0, style=ProgressStyle(description_w…"
      ]
     },
     "metadata": {},
     "output_type": "display_data"
    },
    {
     "name": "stdout",
     "output_type": "stream",
     "text": [
      "📉 Val RMSE = 0.0377 | LR = 1.0e-03\n",
      "✅ Saved new best model (RMSE: 0.0377)\n",
      "\n",
      "🌟 Epoch 3\n"
     ]
    },
    {
     "data": {
      "application/vnd.jupyter.widget-view+json": {
       "model_id": "c5eda6b4f9f84c3188e85725b5ca6667",
       "version_major": 2,
       "version_minor": 0
      },
      "text/plain": [
       "HBox(children=(FloatProgress(value=0.0, description='Training', max=2748.0, style=ProgressStyle(description_wi…"
      ]
     },
     "metadata": {},
     "output_type": "display_data"
    },
    {
     "name": "stdout",
     "output_type": "stream",
     "text": [
      "✅ Epoch 3: MSE = 0.0012, RMSE = 0.0340, PCC = 0.8679\n"
     ]
    },
    {
     "data": {
      "application/vnd.jupyter.widget-view+json": {
       "model_id": "f3c81b1871a54981ae02d2f24a48aeaf",
       "version_major": 2,
       "version_minor": 0
      },
      "text/plain": [
       "HBox(children=(FloatProgress(value=0.0, description='Validation', max=412.0, style=ProgressStyle(description_w…"
      ]
     },
     "metadata": {},
     "output_type": "display_data"
    },
    {
     "name": "stdout",
     "output_type": "stream",
     "text": [
      "📉 Val RMSE = 0.0368 | LR = 9.9e-04\n",
      "✅ Saved new best model (RMSE: 0.0368)\n",
      "\n",
      "🌟 Epoch 4\n"
     ]
    },
    {
     "data": {
      "application/vnd.jupyter.widget-view+json": {
       "model_id": "5e4392e4ad57421489100cbbafe78b40",
       "version_major": 2,
       "version_minor": 0
      },
      "text/plain": [
       "HBox(children=(FloatProgress(value=0.0, description='Training', max=2748.0, style=ProgressStyle(description_wi…"
      ]
     },
     "metadata": {},
     "output_type": "display_data"
    },
    {
     "name": "stdout",
     "output_type": "stream",
     "text": [
      "✅ Epoch 4: MSE = 0.0011, RMSE = 0.0330, PCC = 0.8758\n"
     ]
    },
    {
     "data": {
      "application/vnd.jupyter.widget-view+json": {
       "model_id": "fa145fe150e342bf9ee2fb030470fcfe",
       "version_major": 2,
       "version_minor": 0
      },
      "text/plain": [
       "HBox(children=(FloatProgress(value=0.0, description='Validation', max=412.0, style=ProgressStyle(description_w…"
      ]
     },
     "metadata": {},
     "output_type": "display_data"
    },
    {
     "name": "stdout",
     "output_type": "stream",
     "text": [
      "📉 Val RMSE = 0.0366 | LR = 9.8e-04\n",
      "✅ Saved new best model (RMSE: 0.0366)\n",
      "\n",
      "🌟 Epoch 5\n"
     ]
    },
    {
     "data": {
      "application/vnd.jupyter.widget-view+json": {
       "model_id": "5ff2b051e2b743f6b25ec34ac925075d",
       "version_major": 2,
       "version_minor": 0
      },
      "text/plain": [
       "HBox(children=(FloatProgress(value=0.0, description='Training', max=2748.0, style=ProgressStyle(description_wi…"
      ]
     },
     "metadata": {},
     "output_type": "display_data"
    },
    {
     "name": "stdout",
     "output_type": "stream",
     "text": [
      "✅ Epoch 5: MSE = 0.0011, RMSE = 0.0326, PCC = 0.8795\n"
     ]
    },
    {
     "data": {
      "application/vnd.jupyter.widget-view+json": {
       "model_id": "a69ecd67b48f47f3b67734b9fba06629",
       "version_major": 2,
       "version_minor": 0
      },
      "text/plain": [
       "HBox(children=(FloatProgress(value=0.0, description='Validation', max=412.0, style=ProgressStyle(description_w…"
      ]
     },
     "metadata": {},
     "output_type": "display_data"
    },
    {
     "name": "stdout",
     "output_type": "stream",
     "text": [
      "📉 Val RMSE = 0.0357 | LR = 9.8e-04\n",
      "✅ Saved new best model (RMSE: 0.0357)\n",
      "\n",
      "🌟 Epoch 6\n"
     ]
    },
    {
     "data": {
      "application/vnd.jupyter.widget-view+json": {
       "model_id": "9e8bdbcb9ded46a982d86849b3c23d25",
       "version_major": 2,
       "version_minor": 0
      },
      "text/plain": [
       "HBox(children=(FloatProgress(value=0.0, description='Training', max=2748.0, style=ProgressStyle(description_wi…"
      ]
     },
     "metadata": {},
     "output_type": "display_data"
    },
    {
     "name": "stdout",
     "output_type": "stream",
     "text": [
      "✅ Epoch 6: MSE = 0.0010, RMSE = 0.0319, PCC = 0.8843\n"
     ]
    },
    {
     "data": {
      "application/vnd.jupyter.widget-view+json": {
       "model_id": "00f5163fbc2b4273a0abfaf27fd381a3",
       "version_major": 2,
       "version_minor": 0
      },
      "text/plain": [
       "HBox(children=(FloatProgress(value=0.0, description='Validation', max=412.0, style=ProgressStyle(description_w…"
      ]
     },
     "metadata": {},
     "output_type": "display_data"
    },
    {
     "name": "stdout",
     "output_type": "stream",
     "text": [
      "📉 Val RMSE = 0.0363 | LR = 9.6e-04\n",
      "\n",
      "🌟 Epoch 7\n"
     ]
    },
    {
     "data": {
      "application/vnd.jupyter.widget-view+json": {
       "model_id": "d85a5a3ff91d438b9e76a50821c14b62",
       "version_major": 2,
       "version_minor": 0
      },
      "text/plain": [
       "HBox(children=(FloatProgress(value=0.0, description='Training', max=2748.0, style=ProgressStyle(description_wi…"
      ]
     },
     "metadata": {},
     "output_type": "display_data"
    },
    {
     "name": "stdout",
     "output_type": "stream",
     "text": [
      "✅ Epoch 7: MSE = 0.0010, RMSE = 0.0316, PCC = 0.8870\n"
     ]
    },
    {
     "data": {
      "application/vnd.jupyter.widget-view+json": {
       "model_id": "c1d65652be584a7e9c71e4cede2d6562",
       "version_major": 2,
       "version_minor": 0
      },
      "text/plain": [
       "HBox(children=(FloatProgress(value=0.0, description='Validation', max=412.0, style=ProgressStyle(description_w…"
      ]
     },
     "metadata": {},
     "output_type": "display_data"
    },
    {
     "name": "stdout",
     "output_type": "stream",
     "text": [
      "📉 Val RMSE = 0.0372 | LR = 9.5e-04\n",
      "\n",
      "🌟 Epoch 8\n"
     ]
    },
    {
     "data": {
      "application/vnd.jupyter.widget-view+json": {
       "model_id": "abf245c976c24222bed29eb46f8f9189",
       "version_major": 2,
       "version_minor": 0
      },
      "text/plain": [
       "HBox(children=(FloatProgress(value=0.0, description='Training', max=2748.0, style=ProgressStyle(description_wi…"
      ]
     },
     "metadata": {},
     "output_type": "display_data"
    },
    {
     "name": "stdout",
     "output_type": "stream",
     "text": [
      "✅ Epoch 8: MSE = 0.0010, RMSE = 0.0312, PCC = 0.8898\n"
     ]
    },
    {
     "data": {
      "application/vnd.jupyter.widget-view+json": {
       "model_id": "b1f529dfdf164a2386d9f0a18e74e1b4",
       "version_major": 2,
       "version_minor": 0
      },
      "text/plain": [
       "HBox(children=(FloatProgress(value=0.0, description='Validation', max=412.0, style=ProgressStyle(description_w…"
      ]
     },
     "metadata": {},
     "output_type": "display_data"
    },
    {
     "name": "stdout",
     "output_type": "stream",
     "text": [
      "📉 Val RMSE = 0.0366 | LR = 9.4e-04\n",
      "\n",
      "🌟 Epoch 9\n"
     ]
    },
    {
     "data": {
      "application/vnd.jupyter.widget-view+json": {
       "model_id": "d86f220c77c1423f9a7225947a43c9df",
       "version_major": 2,
       "version_minor": 0
      },
      "text/plain": [
       "HBox(children=(FloatProgress(value=0.0, description='Training', max=2748.0, style=ProgressStyle(description_wi…"
      ]
     },
     "metadata": {},
     "output_type": "display_data"
    },
    {
     "name": "stdout",
     "output_type": "stream",
     "text": [
      "✅ Epoch 9: MSE = 0.0010, RMSE = 0.0309, PCC = 0.8921\n"
     ]
    },
    {
     "data": {
      "application/vnd.jupyter.widget-view+json": {
       "model_id": "0ceff12c4830415d8baeb7e0f757d942",
       "version_major": 2,
       "version_minor": 0
      },
      "text/plain": [
       "HBox(children=(FloatProgress(value=0.0, description='Validation', max=412.0, style=ProgressStyle(description_w…"
      ]
     },
     "metadata": {},
     "output_type": "display_data"
    },
    {
     "name": "stdout",
     "output_type": "stream",
     "text": [
      "📉 Val RMSE = 0.0357 | LR = 9.2e-04\n",
      "\n",
      "🌟 Epoch 10\n"
     ]
    },
    {
     "data": {
      "application/vnd.jupyter.widget-view+json": {
       "model_id": "6b41dea04360414680197a82a97628bb",
       "version_major": 2,
       "version_minor": 0
      },
      "text/plain": [
       "HBox(children=(FloatProgress(value=0.0, description='Training', max=2748.0, style=ProgressStyle(description_wi…"
      ]
     },
     "metadata": {},
     "output_type": "display_data"
    },
    {
     "name": "stdout",
     "output_type": "stream",
     "text": [
      "✅ Epoch 10: MSE = 0.0009, RMSE = 0.0306, PCC = 0.8947\n"
     ]
    },
    {
     "data": {
      "application/vnd.jupyter.widget-view+json": {
       "model_id": "530e68262f7e415e9ba42189c000c8c4",
       "version_major": 2,
       "version_minor": 0
      },
      "text/plain": [
       "HBox(children=(FloatProgress(value=0.0, description='Validation', max=412.0, style=ProgressStyle(description_w…"
      ]
     },
     "metadata": {},
     "output_type": "display_data"
    },
    {
     "name": "stdout",
     "output_type": "stream",
     "text": [
      "📉 Val RMSE = 0.0354 | LR = 9.0e-04\n",
      "✅ Saved new best model (RMSE: 0.0354)\n",
      "\n",
      "🌟 Epoch 11\n"
     ]
    },
    {
     "data": {
      "application/vnd.jupyter.widget-view+json": {
       "model_id": "054f0ad91c1a4317a7a14b7dda31878a",
       "version_major": 2,
       "version_minor": 0
      },
      "text/plain": [
       "HBox(children=(FloatProgress(value=0.0, description='Training', max=2748.0, style=ProgressStyle(description_wi…"
      ]
     },
     "metadata": {},
     "output_type": "display_data"
    },
    {
     "name": "stdout",
     "output_type": "stream",
     "text": [
      "✅ Epoch 11: MSE = 0.0009, RMSE = 0.0303, PCC = 0.8965\n"
     ]
    },
    {
     "data": {
      "application/vnd.jupyter.widget-view+json": {
       "model_id": "ceebc1a511ec419aa5c724dbd848d66d",
       "version_major": 2,
       "version_minor": 0
      },
      "text/plain": [
       "HBox(children=(FloatProgress(value=0.0, description='Validation', max=412.0, style=ProgressStyle(description_w…"
      ]
     },
     "metadata": {},
     "output_type": "display_data"
    },
    {
     "name": "stdout",
     "output_type": "stream",
     "text": [
      "📉 Val RMSE = 0.0370 | LR = 8.9e-04\n",
      "\n",
      "🌟 Epoch 12\n"
     ]
    },
    {
     "data": {
      "application/vnd.jupyter.widget-view+json": {
       "model_id": "c6e065488dfa467a83a5a2c75ac8a754",
       "version_major": 2,
       "version_minor": 0
      },
      "text/plain": [
       "HBox(children=(FloatProgress(value=0.0, description='Training', max=2748.0, style=ProgressStyle(description_wi…"
      ]
     },
     "metadata": {},
     "output_type": "display_data"
    },
    {
     "name": "stdout",
     "output_type": "stream",
     "text": [
      "✅ Epoch 12: MSE = 0.0009, RMSE = 0.0299, PCC = 0.8993\n"
     ]
    },
    {
     "data": {
      "application/vnd.jupyter.widget-view+json": {
       "model_id": "40bcdebd6d7549708b547384ad1d65a9",
       "version_major": 2,
       "version_minor": 0
      },
      "text/plain": [
       "HBox(children=(FloatProgress(value=0.0, description='Validation', max=412.0, style=ProgressStyle(description_w…"
      ]
     },
     "metadata": {},
     "output_type": "display_data"
    },
    {
     "name": "stdout",
     "output_type": "stream",
     "text": [
      "📉 Val RMSE = 0.0358 | LR = 8.6e-04\n",
      "\n",
      "🌟 Epoch 13\n"
     ]
    },
    {
     "data": {
      "application/vnd.jupyter.widget-view+json": {
       "model_id": "97f3d09ea27a4caea7f45faba801a8b8",
       "version_major": 2,
       "version_minor": 0
      },
      "text/plain": [
       "HBox(children=(FloatProgress(value=0.0, description='Training', max=2748.0, style=ProgressStyle(description_wi…"
      ]
     },
     "metadata": {},
     "output_type": "display_data"
    },
    {
     "name": "stdout",
     "output_type": "stream",
     "text": [
      "✅ Epoch 13: MSE = 0.0009, RMSE = 0.0297, PCC = 0.9008\n"
     ]
    },
    {
     "data": {
      "application/vnd.jupyter.widget-view+json": {
       "model_id": "a24d5538b72f47e5893f13dae05cc3bb",
       "version_major": 2,
       "version_minor": 0
      },
      "text/plain": [
       "HBox(children=(FloatProgress(value=0.0, description='Validation', max=412.0, style=ProgressStyle(description_w…"
      ]
     },
     "metadata": {},
     "output_type": "display_data"
    },
    {
     "name": "stdout",
     "output_type": "stream",
     "text": [
      "📉 Val RMSE = 0.0352 | LR = 8.4e-04\n",
      "✅ Saved new best model (RMSE: 0.0352)\n",
      "\n",
      "🌟 Epoch 14\n"
     ]
    },
    {
     "data": {
      "application/vnd.jupyter.widget-view+json": {
       "model_id": "1599522cd9ad4f538c5a1fc585093292",
       "version_major": 2,
       "version_minor": 0
      },
      "text/plain": [
       "HBox(children=(FloatProgress(value=0.0, description='Training', max=2748.0, style=ProgressStyle(description_wi…"
      ]
     },
     "metadata": {},
     "output_type": "display_data"
    },
    {
     "name": "stdout",
     "output_type": "stream",
     "text": [
      "✅ Epoch 14: MSE = 0.0009, RMSE = 0.0294, PCC = 0.9032\n"
     ]
    },
    {
     "data": {
      "application/vnd.jupyter.widget-view+json": {
       "model_id": "b9662059efe445fb8ae74ac3bf232f46",
       "version_major": 2,
       "version_minor": 0
      },
      "text/plain": [
       "HBox(children=(FloatProgress(value=0.0, description='Validation', max=412.0, style=ProgressStyle(description_w…"
      ]
     },
     "metadata": {},
     "output_type": "display_data"
    },
    {
     "name": "stdout",
     "output_type": "stream",
     "text": [
      "📉 Val RMSE = 0.0345 | LR = 8.2e-04\n",
      "✅ Saved new best model (RMSE: 0.0345)\n",
      "\n",
      "🌟 Epoch 15\n"
     ]
    },
    {
     "data": {
      "application/vnd.jupyter.widget-view+json": {
       "model_id": "b60ed21671934be3be9a96106972cfa9",
       "version_major": 2,
       "version_minor": 0
      },
      "text/plain": [
       "HBox(children=(FloatProgress(value=0.0, description='Training', max=2748.0, style=ProgressStyle(description_wi…"
      ]
     },
     "metadata": {},
     "output_type": "display_data"
    },
    {
     "name": "stdout",
     "output_type": "stream",
     "text": [
      "✅ Epoch 15: MSE = 0.0008, RMSE = 0.0290, PCC = 0.9056\n"
     ]
    },
    {
     "data": {
      "application/vnd.jupyter.widget-view+json": {
       "model_id": "8bb5fc22b5af4d1db5f6276b7394f340",
       "version_major": 2,
       "version_minor": 0
      },
      "text/plain": [
       "HBox(children=(FloatProgress(value=0.0, description='Validation', max=412.0, style=ProgressStyle(description_w…"
      ]
     },
     "metadata": {},
     "output_type": "display_data"
    },
    {
     "name": "stdout",
     "output_type": "stream",
     "text": [
      "📉 Val RMSE = 0.0352 | LR = 7.9e-04\n",
      "\n",
      "🌟 Epoch 16\n"
     ]
    },
    {
     "data": {
      "application/vnd.jupyter.widget-view+json": {
       "model_id": "88de8f11efed4085969bd8ce7f057549",
       "version_major": 2,
       "version_minor": 0
      },
      "text/plain": [
       "HBox(children=(FloatProgress(value=0.0, description='Training', max=2748.0, style=ProgressStyle(description_wi…"
      ]
     },
     "metadata": {},
     "output_type": "display_data"
    },
    {
     "name": "stdout",
     "output_type": "stream",
     "text": [
      "✅ Epoch 16: MSE = 0.0008, RMSE = 0.0287, PCC = 0.9075\n"
     ]
    },
    {
     "data": {
      "application/vnd.jupyter.widget-view+json": {
       "model_id": "efa7259765b445e0bab5fed4ff091742",
       "version_major": 2,
       "version_minor": 0
      },
      "text/plain": [
       "HBox(children=(FloatProgress(value=0.0, description='Validation', max=412.0, style=ProgressStyle(description_w…"
      ]
     },
     "metadata": {},
     "output_type": "display_data"
    },
    {
     "name": "stdout",
     "output_type": "stream",
     "text": [
      "📉 Val RMSE = 0.0349 | LR = 7.7e-04\n",
      "\n",
      "🌟 Epoch 17\n"
     ]
    },
    {
     "data": {
      "application/vnd.jupyter.widget-view+json": {
       "model_id": "150b4346e4314868a169e870cf830158",
       "version_major": 2,
       "version_minor": 0
      },
      "text/plain": [
       "HBox(children=(FloatProgress(value=0.0, description='Training', max=2748.0, style=ProgressStyle(description_wi…"
      ]
     },
     "metadata": {},
     "output_type": "display_data"
    },
    {
     "name": "stdout",
     "output_type": "stream",
     "text": [
      "✅ Epoch 17: MSE = 0.0008, RMSE = 0.0285, PCC = 0.9091\n"
     ]
    },
    {
     "data": {
      "application/vnd.jupyter.widget-view+json": {
       "model_id": "05fcb9836e4749ba90916d9ce8012011",
       "version_major": 2,
       "version_minor": 0
      },
      "text/plain": [
       "HBox(children=(FloatProgress(value=0.0, description='Validation', max=412.0, style=ProgressStyle(description_w…"
      ]
     },
     "metadata": {},
     "output_type": "display_data"
    },
    {
     "name": "stdout",
     "output_type": "stream",
     "text": [
      "📉 Val RMSE = 0.0360 | LR = 7.4e-04\n",
      "\n",
      "🌟 Epoch 18\n"
     ]
    },
    {
     "data": {
      "application/vnd.jupyter.widget-view+json": {
       "model_id": "9e30a4ad2a974559ad5876a636816f22",
       "version_major": 2,
       "version_minor": 0
      },
      "text/plain": [
       "HBox(children=(FloatProgress(value=0.0, description='Training', max=2748.0, style=ProgressStyle(description_wi…"
      ]
     },
     "metadata": {},
     "output_type": "display_data"
    },
    {
     "name": "stdout",
     "output_type": "stream",
     "text": [
      "✅ Epoch 18: MSE = 0.0008, RMSE = 0.0283, PCC = 0.9103\n"
     ]
    },
    {
     "data": {
      "application/vnd.jupyter.widget-view+json": {
       "model_id": "0569916d7da5478a89ceebfb1dfa5823",
       "version_major": 2,
       "version_minor": 0
      },
      "text/plain": [
       "HBox(children=(FloatProgress(value=0.0, description='Validation', max=412.0, style=ProgressStyle(description_w…"
      ]
     },
     "metadata": {},
     "output_type": "display_data"
    },
    {
     "name": "stdout",
     "output_type": "stream",
     "text": [
      "📉 Val RMSE = 0.0349 | LR = 7.1e-04\n",
      "\n",
      "🌟 Epoch 19\n"
     ]
    },
    {
     "data": {
      "application/vnd.jupyter.widget-view+json": {
       "model_id": "80cbc97782ab4573ba7df9c0316695e4",
       "version_major": 2,
       "version_minor": 0
      },
      "text/plain": [
       "HBox(children=(FloatProgress(value=0.0, description='Training', max=2748.0, style=ProgressStyle(description_wi…"
      ]
     },
     "metadata": {},
     "output_type": "display_data"
    },
    {
     "name": "stdout",
     "output_type": "stream",
     "text": [
      "✅ Epoch 19: MSE = 0.0008, RMSE = 0.0281, PCC = 0.9118\n"
     ]
    },
    {
     "data": {
      "application/vnd.jupyter.widget-view+json": {
       "model_id": "6b1750ffb92d49628cf78de7a5ae0966",
       "version_major": 2,
       "version_minor": 0
      },
      "text/plain": [
       "HBox(children=(FloatProgress(value=0.0, description='Validation', max=412.0, style=ProgressStyle(description_w…"
      ]
     },
     "metadata": {},
     "output_type": "display_data"
    },
    {
     "name": "stdout",
     "output_type": "stream",
     "text": [
      "📉 Val RMSE = 0.0353 | LR = 6.8e-04\n",
      "\n",
      "🌟 Epoch 20\n"
     ]
    },
    {
     "data": {
      "application/vnd.jupyter.widget-view+json": {
       "model_id": "e39ff737cadb4470b2503e680c28325b",
       "version_major": 2,
       "version_minor": 0
      },
      "text/plain": [
       "HBox(children=(FloatProgress(value=0.0, description='Training', max=2748.0, style=ProgressStyle(description_wi…"
      ]
     },
     "metadata": {},
     "output_type": "display_data"
    },
    {
     "name": "stdout",
     "output_type": "stream",
     "text": [
      "✅ Epoch 20: MSE = 0.0008, RMSE = 0.0279, PCC = 0.9131\n"
     ]
    },
    {
     "data": {
      "application/vnd.jupyter.widget-view+json": {
       "model_id": "4d9b8e203fd344c691446f1c369b1e4c",
       "version_major": 2,
       "version_minor": 0
      },
      "text/plain": [
       "HBox(children=(FloatProgress(value=0.0, description='Validation', max=412.0, style=ProgressStyle(description_w…"
      ]
     },
     "metadata": {},
     "output_type": "display_data"
    },
    {
     "name": "stdout",
     "output_type": "stream",
     "text": [
      "📉 Val RMSE = 0.0352 | LR = 6.5e-04\n",
      "\n",
      "🌟 Epoch 21\n"
     ]
    },
    {
     "data": {
      "application/vnd.jupyter.widget-view+json": {
       "model_id": "5a6fcdbed0d44e199aa3782b4fa2c623",
       "version_major": 2,
       "version_minor": 0
      },
      "text/plain": [
       "HBox(children=(FloatProgress(value=0.0, description='Training', max=2748.0, style=ProgressStyle(description_wi…"
      ]
     },
     "metadata": {},
     "output_type": "display_data"
    },
    {
     "name": "stdout",
     "output_type": "stream",
     "text": [
      "✅ Epoch 21: MSE = 0.0008, RMSE = 0.0277, PCC = 0.9143\n"
     ]
    },
    {
     "data": {
      "application/vnd.jupyter.widget-view+json": {
       "model_id": "ec30c2bdffc240d8b794a2b0baa773aa",
       "version_major": 2,
       "version_minor": 0
      },
      "text/plain": [
       "HBox(children=(FloatProgress(value=0.0, description='Validation', max=412.0, style=ProgressStyle(description_w…"
      ]
     },
     "metadata": {},
     "output_type": "display_data"
    },
    {
     "name": "stdout",
     "output_type": "stream",
     "text": [
      "📉 Val RMSE = 0.0354 | LR = 6.2e-04\n",
      "\n",
      "🌟 Epoch 22\n"
     ]
    },
    {
     "data": {
      "application/vnd.jupyter.widget-view+json": {
       "model_id": "ff1527280378405c8515171a81a68c6a",
       "version_major": 2,
       "version_minor": 0
      },
      "text/plain": [
       "HBox(children=(FloatProgress(value=0.0, description='Training', max=2748.0, style=ProgressStyle(description_wi…"
      ]
     },
     "metadata": {},
     "output_type": "display_data"
    },
    {
     "name": "stdout",
     "output_type": "stream",
     "text": [
      "✅ Epoch 22: MSE = 0.0008, RMSE = 0.0275, PCC = 0.9158\n"
     ]
    },
    {
     "data": {
      "application/vnd.jupyter.widget-view+json": {
       "model_id": "d93d449bd50640ed8971a3cd30ba3dc6",
       "version_major": 2,
       "version_minor": 0
      },
      "text/plain": [
       "HBox(children=(FloatProgress(value=0.0, description='Validation', max=412.0, style=ProgressStyle(description_w…"
      ]
     },
     "metadata": {},
     "output_type": "display_data"
    },
    {
     "name": "stdout",
     "output_type": "stream",
     "text": [
      "📉 Val RMSE = 0.0349 | LR = 5.9e-04\n",
      "\n",
      "🌟 Epoch 23\n"
     ]
    },
    {
     "data": {
      "application/vnd.jupyter.widget-view+json": {
       "model_id": "26d42b1394d14b4e93c034150ec45bed",
       "version_major": 2,
       "version_minor": 0
      },
      "text/plain": [
       "HBox(children=(FloatProgress(value=0.0, description='Training', max=2748.0, style=ProgressStyle(description_wi…"
      ]
     },
     "metadata": {},
     "output_type": "display_data"
    },
    {
     "name": "stdout",
     "output_type": "stream",
     "text": [
      "✅ Epoch 23: MSE = 0.0007, RMSE = 0.0274, PCC = 0.9165\n"
     ]
    },
    {
     "data": {
      "application/vnd.jupyter.widget-view+json": {
       "model_id": "da8514c4ca804b0aa4109c1c31be26e8",
       "version_major": 2,
       "version_minor": 0
      },
      "text/plain": [
       "HBox(children=(FloatProgress(value=0.0, description='Validation', max=412.0, style=ProgressStyle(description_w…"
      ]
     },
     "metadata": {},
     "output_type": "display_data"
    },
    {
     "name": "stdout",
     "output_type": "stream",
     "text": [
      "📉 Val RMSE = 0.0347 | LR = 5.6e-04\n",
      "\n",
      "🌟 Epoch 24\n"
     ]
    },
    {
     "data": {
      "application/vnd.jupyter.widget-view+json": {
       "model_id": "84a010f193814d0f8a452f53e5ff6a10",
       "version_major": 2,
       "version_minor": 0
      },
      "text/plain": [
       "HBox(children=(FloatProgress(value=0.0, description='Training', max=2748.0, style=ProgressStyle(description_wi…"
      ]
     },
     "metadata": {},
     "output_type": "display_data"
    },
    {
     "name": "stdout",
     "output_type": "stream",
     "text": [
      "✅ Epoch 24: MSE = 0.0007, RMSE = 0.0271, PCC = 0.9181\n"
     ]
    },
    {
     "data": {
      "application/vnd.jupyter.widget-view+json": {
       "model_id": "56b8089e52aa4f069159466953fc0497",
       "version_major": 2,
       "version_minor": 0
      },
      "text/plain": [
       "HBox(children=(FloatProgress(value=0.0, description='Validation', max=412.0, style=ProgressStyle(description_w…"
      ]
     },
     "metadata": {},
     "output_type": "display_data"
    },
    {
     "name": "stdout",
     "output_type": "stream",
     "text": [
      "📉 Val RMSE = 0.0349 | LR = 5.3e-04\n",
      "\n",
      "🌟 Epoch 25\n"
     ]
    },
    {
     "data": {
      "application/vnd.jupyter.widget-view+json": {
       "model_id": "35884fadf0864020a9c737cc663bea7c",
       "version_major": 2,
       "version_minor": 0
      },
      "text/plain": [
       "HBox(children=(FloatProgress(value=0.0, description='Training', max=2748.0, style=ProgressStyle(description_wi…"
      ]
     },
     "metadata": {},
     "output_type": "display_data"
    },
    {
     "name": "stdout",
     "output_type": "stream",
     "text": [
      "✅ Epoch 25: MSE = 0.0007, RMSE = 0.0270, PCC = 0.9190\n"
     ]
    },
    {
     "data": {
      "application/vnd.jupyter.widget-view+json": {
       "model_id": "5ffa73ccb9d642fc99dc46bb570241b1",
       "version_major": 2,
       "version_minor": 0
      },
      "text/plain": [
       "HBox(children=(FloatProgress(value=0.0, description='Validation', max=412.0, style=ProgressStyle(description_w…"
      ]
     },
     "metadata": {},
     "output_type": "display_data"
    },
    {
     "name": "stdout",
     "output_type": "stream",
     "text": [
      "📉 Val RMSE = 0.0346 | LR = 5.0e-04\n",
      "\n",
      "🌟 Epoch 26\n"
     ]
    },
    {
     "data": {
      "application/vnd.jupyter.widget-view+json": {
       "model_id": "8bfc1c9accde4bc9b91afd73e77ccd65",
       "version_major": 2,
       "version_minor": 0
      },
      "text/plain": [
       "HBox(children=(FloatProgress(value=0.0, description='Training', max=2748.0, style=ProgressStyle(description_wi…"
      ]
     },
     "metadata": {},
     "output_type": "display_data"
    },
    {
     "name": "stdout",
     "output_type": "stream",
     "text": [
      "✅ Epoch 26: MSE = 0.0007, RMSE = 0.0268, PCC = 0.9201\n"
     ]
    },
    {
     "data": {
      "application/vnd.jupyter.widget-view+json": {
       "model_id": "eebc333d37534ce0b8a5c9a5a7b72ce5",
       "version_major": 2,
       "version_minor": 0
      },
      "text/plain": [
       "HBox(children=(FloatProgress(value=0.0, description='Validation', max=412.0, style=ProgressStyle(description_w…"
      ]
     },
     "metadata": {},
     "output_type": "display_data"
    },
    {
     "name": "stdout",
     "output_type": "stream",
     "text": [
      "📉 Val RMSE = 0.0352 | LR = 4.7e-04\n",
      "\n",
      "🌟 Epoch 27\n"
     ]
    },
    {
     "data": {
      "application/vnd.jupyter.widget-view+json": {
       "model_id": "48955f6641d54d1791745799dfe3b0ed",
       "version_major": 2,
       "version_minor": 0
      },
      "text/plain": [
       "HBox(children=(FloatProgress(value=0.0, description='Training', max=2748.0, style=ProgressStyle(description_wi…"
      ]
     },
     "metadata": {},
     "output_type": "display_data"
    },
    {
     "name": "stdout",
     "output_type": "stream",
     "text": [
      "✅ Epoch 27: MSE = 0.0007, RMSE = 0.0266, PCC = 0.9211\n"
     ]
    },
    {
     "data": {
      "application/vnd.jupyter.widget-view+json": {
       "model_id": "16623af6cd8244bc8c72a1961b6d8043",
       "version_major": 2,
       "version_minor": 0
      },
      "text/plain": [
       "HBox(children=(FloatProgress(value=0.0, description='Validation', max=412.0, style=ProgressStyle(description_w…"
      ]
     },
     "metadata": {},
     "output_type": "display_data"
    },
    {
     "name": "stdout",
     "output_type": "stream",
     "text": [
      "📉 Val RMSE = 0.0351 | LR = 4.4e-04\n",
      "\n",
      "🌟 Epoch 28\n"
     ]
    },
    {
     "data": {
      "application/vnd.jupyter.widget-view+json": {
       "model_id": "2fb20eb0beb7449491ff9aa7ee54fe49",
       "version_major": 2,
       "version_minor": 0
      },
      "text/plain": [
       "HBox(children=(FloatProgress(value=0.0, description='Training', max=2748.0, style=ProgressStyle(description_wi…"
      ]
     },
     "metadata": {},
     "output_type": "display_data"
    },
    {
     "name": "stdout",
     "output_type": "stream",
     "text": [
      "✅ Epoch 28: MSE = 0.0007, RMSE = 0.0265, PCC = 0.9222\n"
     ]
    },
    {
     "data": {
      "application/vnd.jupyter.widget-view+json": {
       "model_id": "39870c6a0c4b40339b8cfb3218d51bda",
       "version_major": 2,
       "version_minor": 0
      },
      "text/plain": [
       "HBox(children=(FloatProgress(value=0.0, description='Validation', max=412.0, style=ProgressStyle(description_w…"
      ]
     },
     "metadata": {},
     "output_type": "display_data"
    },
    {
     "name": "stdout",
     "output_type": "stream",
     "text": [
      "📉 Val RMSE = 0.0351 | LR = 4.1e-04\n",
      "\n",
      "🌟 Epoch 29\n"
     ]
    },
    {
     "data": {
      "application/vnd.jupyter.widget-view+json": {
       "model_id": "08f771a6a89a4d5796ef7063f21710ca",
       "version_major": 2,
       "version_minor": 0
      },
      "text/plain": [
       "HBox(children=(FloatProgress(value=0.0, description='Training', max=2748.0, style=ProgressStyle(description_wi…"
      ]
     },
     "metadata": {},
     "output_type": "display_data"
    },
    {
     "name": "stdout",
     "output_type": "stream",
     "text": [
      "✅ Epoch 29: MSE = 0.0007, RMSE = 0.0262, PCC = 0.9236\n"
     ]
    },
    {
     "data": {
      "application/vnd.jupyter.widget-view+json": {
       "model_id": "1ef4d80428db4d61a8e71f0823460fbd",
       "version_major": 2,
       "version_minor": 0
      },
      "text/plain": [
       "HBox(children=(FloatProgress(value=0.0, description='Validation', max=412.0, style=ProgressStyle(description_w…"
      ]
     },
     "metadata": {},
     "output_type": "display_data"
    },
    {
     "name": "stdout",
     "output_type": "stream",
     "text": [
      "📉 Val RMSE = 0.0350 | LR = 3.8e-04\n",
      "\n",
      "🌟 Epoch 30\n"
     ]
    },
    {
     "data": {
      "application/vnd.jupyter.widget-view+json": {
       "model_id": "3c7c3d94171b471cae3239d92d01d31e",
       "version_major": 2,
       "version_minor": 0
      },
      "text/plain": [
       "HBox(children=(FloatProgress(value=0.0, description='Training', max=2748.0, style=ProgressStyle(description_wi…"
      ]
     },
     "metadata": {},
     "output_type": "display_data"
    },
    {
     "name": "stdout",
     "output_type": "stream",
     "text": [
      "✅ Epoch 30: MSE = 0.0007, RMSE = 0.0260, PCC = 0.9250\n"
     ]
    },
    {
     "data": {
      "application/vnd.jupyter.widget-view+json": {
       "model_id": "9aee359aca3c458e939c504e9555df61",
       "version_major": 2,
       "version_minor": 0
      },
      "text/plain": [
       "HBox(children=(FloatProgress(value=0.0, description='Validation', max=412.0, style=ProgressStyle(description_w…"
      ]
     },
     "metadata": {},
     "output_type": "display_data"
    },
    {
     "name": "stdout",
     "output_type": "stream",
     "text": [
      "📉 Val RMSE = 0.0355 | LR = 3.5e-04\n",
      "\n",
      "🌟 Epoch 31\n"
     ]
    },
    {
     "data": {
      "application/vnd.jupyter.widget-view+json": {
       "model_id": "d7d92c9557d7450d8f047cbf1c629815",
       "version_major": 2,
       "version_minor": 0
      },
      "text/plain": [
       "HBox(children=(FloatProgress(value=0.0, description='Training', max=2748.0, style=ProgressStyle(description_wi…"
      ]
     },
     "metadata": {},
     "output_type": "display_data"
    },
    {
     "name": "stdout",
     "output_type": "stream",
     "text": [
      "✅ Epoch 31: MSE = 0.0007, RMSE = 0.0258, PCC = 0.9260\n"
     ]
    },
    {
     "data": {
      "application/vnd.jupyter.widget-view+json": {
       "model_id": "b1902168a31e4a30a291520ad9b601ec",
       "version_major": 2,
       "version_minor": 0
      },
      "text/plain": [
       "HBox(children=(FloatProgress(value=0.0, description='Validation', max=412.0, style=ProgressStyle(description_w…"
      ]
     },
     "metadata": {},
     "output_type": "display_data"
    },
    {
     "name": "stdout",
     "output_type": "stream",
     "text": [
      "📉 Val RMSE = 0.0350 | LR = 3.2e-04\n",
      "\n",
      "🌟 Epoch 32\n"
     ]
    },
    {
     "data": {
      "application/vnd.jupyter.widget-view+json": {
       "model_id": "f0c38c3eabe84113bb9148875fdfd8bd",
       "version_major": 2,
       "version_minor": 0
      },
      "text/plain": [
       "HBox(children=(FloatProgress(value=0.0, description='Training', max=2748.0, style=ProgressStyle(description_wi…"
      ]
     },
     "metadata": {},
     "output_type": "display_data"
    },
    {
     "name": "stdout",
     "output_type": "stream",
     "text": [
      "✅ Epoch 32: MSE = 0.0007, RMSE = 0.0257, PCC = 0.9268\n"
     ]
    },
    {
     "data": {
      "application/vnd.jupyter.widget-view+json": {
       "model_id": "1d228f88d312414bbb47c3ce1cfd4c92",
       "version_major": 2,
       "version_minor": 0
      },
      "text/plain": [
       "HBox(children=(FloatProgress(value=0.0, description='Validation', max=412.0, style=ProgressStyle(description_w…"
      ]
     },
     "metadata": {},
     "output_type": "display_data"
    },
    {
     "name": "stdout",
     "output_type": "stream",
     "text": [
      "📉 Val RMSE = 0.0349 | LR = 2.9e-04\n",
      "\n",
      "🌟 Epoch 33\n"
     ]
    },
    {
     "data": {
      "application/vnd.jupyter.widget-view+json": {
       "model_id": "979a7361ceb2430686ae291431726e5f",
       "version_major": 2,
       "version_minor": 0
      },
      "text/plain": [
       "HBox(children=(FloatProgress(value=0.0, description='Training', max=2748.0, style=ProgressStyle(description_wi…"
      ]
     },
     "metadata": {},
     "output_type": "display_data"
    },
    {
     "name": "stdout",
     "output_type": "stream",
     "text": [
      "✅ Epoch 33: MSE = 0.0006, RMSE = 0.0255, PCC = 0.9280\n"
     ]
    },
    {
     "data": {
      "application/vnd.jupyter.widget-view+json": {
       "model_id": "9f8e527188074e0f946e768f09841529",
       "version_major": 2,
       "version_minor": 0
      },
      "text/plain": [
       "HBox(children=(FloatProgress(value=0.0, description='Validation', max=412.0, style=ProgressStyle(description_w…"
      ]
     },
     "metadata": {},
     "output_type": "display_data"
    },
    {
     "name": "stdout",
     "output_type": "stream",
     "text": [
      "📉 Val RMSE = 0.0348 | LR = 2.6e-04\n",
      "\n",
      "🌟 Epoch 34\n"
     ]
    },
    {
     "data": {
      "application/vnd.jupyter.widget-view+json": {
       "model_id": "26aa7ec8a1d34f0ca15ca69696189fd4",
       "version_major": 2,
       "version_minor": 0
      },
      "text/plain": [
       "HBox(children=(FloatProgress(value=0.0, description='Training', max=2748.0, style=ProgressStyle(description_wi…"
      ]
     },
     "metadata": {},
     "output_type": "display_data"
    },
    {
     "name": "stdout",
     "output_type": "stream",
     "text": [
      "✅ Epoch 34: MSE = 0.0006, RMSE = 0.0254, PCC = 0.9287\n"
     ]
    },
    {
     "data": {
      "application/vnd.jupyter.widget-view+json": {
       "model_id": "0fccd71ebd5745bc9309c24ff57a7b75",
       "version_major": 2,
       "version_minor": 0
      },
      "text/plain": [
       "HBox(children=(FloatProgress(value=0.0, description='Validation', max=412.0, style=ProgressStyle(description_w…"
      ]
     },
     "metadata": {},
     "output_type": "display_data"
    },
    {
     "name": "stdout",
     "output_type": "stream",
     "text": [
      "📉 Val RMSE = 0.0351 | LR = 2.3e-04\n",
      "\n",
      "🌟 Epoch 35\n"
     ]
    },
    {
     "data": {
      "application/vnd.jupyter.widget-view+json": {
       "model_id": "7fabd0abb81a4fb59ecb83c22a3fdb26",
       "version_major": 2,
       "version_minor": 0
      },
      "text/plain": [
       "HBox(children=(FloatProgress(value=0.0, description='Training', max=2748.0, style=ProgressStyle(description_wi…"
      ]
     },
     "metadata": {},
     "output_type": "display_data"
    },
    {
     "name": "stdout",
     "output_type": "stream",
     "text": [
      "✅ Epoch 35: MSE = 0.0006, RMSE = 0.0252, PCC = 0.9298\n"
     ]
    },
    {
     "data": {
      "application/vnd.jupyter.widget-view+json": {
       "model_id": "d19328a08f3b44bc8a33c77c5959def2",
       "version_major": 2,
       "version_minor": 0
      },
      "text/plain": [
       "HBox(children=(FloatProgress(value=0.0, description='Validation', max=412.0, style=ProgressStyle(description_w…"
      ]
     },
     "metadata": {},
     "output_type": "display_data"
    },
    {
     "name": "stdout",
     "output_type": "stream",
     "text": [
      "📉 Val RMSE = 0.0349 | LR = 2.1e-04\n",
      "\n",
      "🌟 Epoch 36\n"
     ]
    },
    {
     "data": {
      "application/vnd.jupyter.widget-view+json": {
       "model_id": "494332cb307342e482cc9149ca3bea13",
       "version_major": 2,
       "version_minor": 0
      },
      "text/plain": [
       "HBox(children=(FloatProgress(value=0.0, description='Training', max=2748.0, style=ProgressStyle(description_wi…"
      ]
     },
     "metadata": {},
     "output_type": "display_data"
    },
    {
     "name": "stdout",
     "output_type": "stream",
     "text": [
      "✅ Epoch 36: MSE = 0.0006, RMSE = 0.0249, PCC = 0.9311\n"
     ]
    },
    {
     "data": {
      "application/vnd.jupyter.widget-view+json": {
       "model_id": "5822889b54944d998e5a0e23ac2b57c7",
       "version_major": 2,
       "version_minor": 0
      },
      "text/plain": [
       "HBox(children=(FloatProgress(value=0.0, description='Validation', max=412.0, style=ProgressStyle(description_w…"
      ]
     },
     "metadata": {},
     "output_type": "display_data"
    },
    {
     "name": "stdout",
     "output_type": "stream",
     "text": [
      "📉 Val RMSE = 0.0347 | LR = 1.8e-04\n",
      "\n",
      "🌟 Epoch 37\n"
     ]
    },
    {
     "data": {
      "application/vnd.jupyter.widget-view+json": {
       "model_id": "d720973300394267840cfd73c78b7fbc",
       "version_major": 2,
       "version_minor": 0
      },
      "text/plain": [
       "HBox(children=(FloatProgress(value=0.0, description='Training', max=2748.0, style=ProgressStyle(description_wi…"
      ]
     },
     "metadata": {},
     "output_type": "display_data"
    },
    {
     "name": "stdout",
     "output_type": "stream",
     "text": [
      "✅ Epoch 37: MSE = 0.0006, RMSE = 0.0248, PCC = 0.9320\n"
     ]
    },
    {
     "data": {
      "application/vnd.jupyter.widget-view+json": {
       "model_id": "ed90bdd2b6b84682b0e342410dc9318c",
       "version_major": 2,
       "version_minor": 0
      },
      "text/plain": [
       "HBox(children=(FloatProgress(value=0.0, description='Validation', max=412.0, style=ProgressStyle(description_w…"
      ]
     },
     "metadata": {},
     "output_type": "display_data"
    },
    {
     "name": "stdout",
     "output_type": "stream",
     "text": [
      "📉 Val RMSE = 0.0348 | LR = 1.6e-04\n",
      "\n",
      "🌟 Epoch 38\n"
     ]
    },
    {
     "data": {
      "application/vnd.jupyter.widget-view+json": {
       "model_id": "67268527269a4f0f8977086be37cebab",
       "version_major": 2,
       "version_minor": 0
      },
      "text/plain": [
       "HBox(children=(FloatProgress(value=0.0, description='Training', max=2748.0, style=ProgressStyle(description_wi…"
      ]
     },
     "metadata": {},
     "output_type": "display_data"
    },
    {
     "name": "stdout",
     "output_type": "stream",
     "text": [
      "✅ Epoch 38: MSE = 0.0006, RMSE = 0.0247, PCC = 0.9327\n"
     ]
    },
    {
     "data": {
      "application/vnd.jupyter.widget-view+json": {
       "model_id": "feefbc6d4d6b41c3a06dfa2f68c2421b",
       "version_major": 2,
       "version_minor": 0
      },
      "text/plain": [
       "HBox(children=(FloatProgress(value=0.0, description='Validation', max=412.0, style=ProgressStyle(description_w…"
      ]
     },
     "metadata": {},
     "output_type": "display_data"
    },
    {
     "name": "stdout",
     "output_type": "stream",
     "text": [
      "📉 Val RMSE = 0.0346 | LR = 1.4e-04\n",
      "\n",
      "🌟 Epoch 39\n"
     ]
    },
    {
     "data": {
      "application/vnd.jupyter.widget-view+json": {
       "model_id": "fa4fb3943d834079897e7511ffc17798",
       "version_major": 2,
       "version_minor": 0
      },
      "text/plain": [
       "HBox(children=(FloatProgress(value=0.0, description='Training', max=2748.0, style=ProgressStyle(description_wi…"
      ]
     },
     "metadata": {},
     "output_type": "display_data"
    },
    {
     "name": "stdout",
     "output_type": "stream",
     "text": [
      "✅ Epoch 39: MSE = 0.0006, RMSE = 0.0245, PCC = 0.9337\n"
     ]
    },
    {
     "data": {
      "application/vnd.jupyter.widget-view+json": {
       "model_id": "c28fe3847151404a83b53d43cd7ae9fd",
       "version_major": 2,
       "version_minor": 0
      },
      "text/plain": [
       "HBox(children=(FloatProgress(value=0.0, description='Validation', max=412.0, style=ProgressStyle(description_w…"
      ]
     },
     "metadata": {},
     "output_type": "display_data"
    },
    {
     "name": "stdout",
     "output_type": "stream",
     "text": [
      "📉 Val RMSE = 0.0348 | LR = 1.2e-04\n",
      "\n",
      "🌟 Epoch 40\n"
     ]
    },
    {
     "data": {
      "application/vnd.jupyter.widget-view+json": {
       "model_id": "bed2f748476243a2bea79bb8d38209d8",
       "version_major": 2,
       "version_minor": 0
      },
      "text/plain": [
       "HBox(children=(FloatProgress(value=0.0, description='Training', max=2748.0, style=ProgressStyle(description_wi…"
      ]
     },
     "metadata": {},
     "output_type": "display_data"
    },
    {
     "name": "stdout",
     "output_type": "stream",
     "text": [
      "✅ Epoch 40: MSE = 0.0006, RMSE = 0.0243, PCC = 0.9346\n"
     ]
    },
    {
     "data": {
      "application/vnd.jupyter.widget-view+json": {
       "model_id": "395e7765b9d34fe380d38d50c9b05fea",
       "version_major": 2,
       "version_minor": 0
      },
      "text/plain": [
       "HBox(children=(FloatProgress(value=0.0, description='Validation', max=412.0, style=ProgressStyle(description_w…"
      ]
     },
     "metadata": {},
     "output_type": "display_data"
    },
    {
     "name": "stdout",
     "output_type": "stream",
     "text": [
      "📉 Val RMSE = 0.0347 | LR = 9.6e-05\n",
      "\n",
      "🌟 Epoch 41\n"
     ]
    },
    {
     "data": {
      "application/vnd.jupyter.widget-view+json": {
       "model_id": "ba06096dde824e3d962d130e35a6a850",
       "version_major": 2,
       "version_minor": 0
      },
      "text/plain": [
       "HBox(children=(FloatProgress(value=0.0, description='Training', max=2748.0, style=ProgressStyle(description_wi…"
      ]
     },
     "metadata": {},
     "output_type": "display_data"
    },
    {
     "name": "stdout",
     "output_type": "stream",
     "text": [
      "✅ Epoch 41: MSE = 0.0006, RMSE = 0.0242, PCC = 0.9354\n"
     ]
    },
    {
     "data": {
      "application/vnd.jupyter.widget-view+json": {
       "model_id": "dd89fa861ba8495984732bbb35590b31",
       "version_major": 2,
       "version_minor": 0
      },
      "text/plain": [
       "HBox(children=(FloatProgress(value=0.0, description='Validation', max=412.0, style=ProgressStyle(description_w…"
      ]
     },
     "metadata": {},
     "output_type": "display_data"
    },
    {
     "name": "stdout",
     "output_type": "stream",
     "text": [
      "📉 Val RMSE = 0.0346 | LR = 7.9e-05\n",
      "\n",
      "🌟 Epoch 42\n"
     ]
    },
    {
     "data": {
      "application/vnd.jupyter.widget-view+json": {
       "model_id": "bc5e46314a12413f819126b40dd9bace",
       "version_major": 2,
       "version_minor": 0
      },
      "text/plain": [
       "HBox(children=(FloatProgress(value=0.0, description='Training', max=2748.0, style=ProgressStyle(description_wi…"
      ]
     },
     "metadata": {},
     "output_type": "display_data"
    },
    {
     "name": "stdout",
     "output_type": "stream",
     "text": [
      "✅ Epoch 42: MSE = 0.0006, RMSE = 0.0241, PCC = 0.9358\n"
     ]
    },
    {
     "data": {
      "application/vnd.jupyter.widget-view+json": {
       "model_id": "f506551e6bd14a54b4d8d0946496e226",
       "version_major": 2,
       "version_minor": 0
      },
      "text/plain": [
       "HBox(children=(FloatProgress(value=0.0, description='Validation', max=412.0, style=ProgressStyle(description_w…"
      ]
     },
     "metadata": {},
     "output_type": "display_data"
    },
    {
     "name": "stdout",
     "output_type": "stream",
     "text": [
      "📉 Val RMSE = 0.0346 | LR = 6.3e-05\n",
      "\n",
      "🌟 Epoch 43\n"
     ]
    },
    {
     "data": {
      "application/vnd.jupyter.widget-view+json": {
       "model_id": "c5600414f16949adb8d1f3ebc1fa2a4b",
       "version_major": 2,
       "version_minor": 0
      },
      "text/plain": [
       "HBox(children=(FloatProgress(value=0.0, description='Training', max=2748.0, style=ProgressStyle(description_wi…"
      ]
     },
     "metadata": {},
     "output_type": "display_data"
    },
    {
     "name": "stdout",
     "output_type": "stream",
     "text": [
      "✅ Epoch 43: MSE = 0.0006, RMSE = 0.0240, PCC = 0.9366\n"
     ]
    },
    {
     "data": {
      "application/vnd.jupyter.widget-view+json": {
       "model_id": "da4b269e91624e7b924a8f4d557912a5",
       "version_major": 2,
       "version_minor": 0
      },
      "text/plain": [
       "HBox(children=(FloatProgress(value=0.0, description='Validation', max=412.0, style=ProgressStyle(description_w…"
      ]
     },
     "metadata": {},
     "output_type": "display_data"
    },
    {
     "name": "stdout",
     "output_type": "stream",
     "text": [
      "📉 Val RMSE = 0.0347 | LR = 4.9e-05\n",
      "\n",
      "🌟 Epoch 44\n"
     ]
    },
    {
     "data": {
      "application/vnd.jupyter.widget-view+json": {
       "model_id": "c3910a2a607e4e588280a5ba7f6ef78f",
       "version_major": 2,
       "version_minor": 0
      },
      "text/plain": [
       "HBox(children=(FloatProgress(value=0.0, description='Training', max=2748.0, style=ProgressStyle(description_wi…"
      ]
     },
     "metadata": {},
     "output_type": "display_data"
    },
    {
     "name": "stdout",
     "output_type": "stream",
     "text": [
      "✅ Epoch 44: MSE = 0.0006, RMSE = 0.0239, PCC = 0.9369\n"
     ]
    },
    {
     "data": {
      "application/vnd.jupyter.widget-view+json": {
       "model_id": "0dfceb7216ba4987aab6816e592310b3",
       "version_major": 2,
       "version_minor": 0
      },
      "text/plain": [
       "HBox(children=(FloatProgress(value=0.0, description='Validation', max=412.0, style=ProgressStyle(description_w…"
      ]
     },
     "metadata": {},
     "output_type": "display_data"
    },
    {
     "name": "stdout",
     "output_type": "stream",
     "text": [
      "📉 Val RMSE = 0.0347 | LR = 3.6e-05\n",
      "\n",
      "🌟 Epoch 45\n"
     ]
    },
    {
     "data": {
      "application/vnd.jupyter.widget-view+json": {
       "model_id": "f39d9c25dfed45159bce66b2447e964e",
       "version_major": 2,
       "version_minor": 0
      },
      "text/plain": [
       "HBox(children=(FloatProgress(value=0.0, description='Training', max=2748.0, style=ProgressStyle(description_wi…"
      ]
     },
     "metadata": {},
     "output_type": "display_data"
    },
    {
     "name": "stdout",
     "output_type": "stream",
     "text": [
      "✅ Epoch 45: MSE = 0.0006, RMSE = 0.0238, PCC = 0.9376\n"
     ]
    },
    {
     "data": {
      "application/vnd.jupyter.widget-view+json": {
       "model_id": "4dcac9959a1f43cbb59c0e5ac0b21b77",
       "version_major": 2,
       "version_minor": 0
      },
      "text/plain": [
       "HBox(children=(FloatProgress(value=0.0, description='Validation', max=412.0, style=ProgressStyle(description_w…"
      ]
     },
     "metadata": {},
     "output_type": "display_data"
    },
    {
     "name": "stdout",
     "output_type": "stream",
     "text": [
      "📉 Val RMSE = 0.0345 | LR = 2.5e-05\n",
      "\n",
      "🌟 Epoch 46\n"
     ]
    },
    {
     "data": {
      "application/vnd.jupyter.widget-view+json": {
       "model_id": "44241e8aa2c54188a409781594fd546e",
       "version_major": 2,
       "version_minor": 0
      },
      "text/plain": [
       "HBox(children=(FloatProgress(value=0.0, description='Training', max=2748.0, style=ProgressStyle(description_wi…"
      ]
     },
     "metadata": {},
     "output_type": "display_data"
    },
    {
     "name": "stdout",
     "output_type": "stream",
     "text": [
      "✅ Epoch 46: MSE = 0.0006, RMSE = 0.0237, PCC = 0.9380\n"
     ]
    },
    {
     "data": {
      "application/vnd.jupyter.widget-view+json": {
       "model_id": "97e44fbb54294136831e150a1d3a8295",
       "version_major": 2,
       "version_minor": 0
      },
      "text/plain": [
       "HBox(children=(FloatProgress(value=0.0, description='Validation', max=412.0, style=ProgressStyle(description_w…"
      ]
     },
     "metadata": {},
     "output_type": "display_data"
    },
    {
     "name": "stdout",
     "output_type": "stream",
     "text": [
      "📉 Val RMSE = 0.0346 | LR = 1.7e-05\n",
      "\n",
      "🌟 Epoch 47\n"
     ]
    },
    {
     "data": {
      "application/vnd.jupyter.widget-view+json": {
       "model_id": "43afe36f3164492db8480d277eb1577e",
       "version_major": 2,
       "version_minor": 0
      },
      "text/plain": [
       "HBox(children=(FloatProgress(value=0.0, description='Training', max=2748.0, style=ProgressStyle(description_wi…"
      ]
     },
     "metadata": {},
     "output_type": "display_data"
    },
    {
     "name": "stdout",
     "output_type": "stream",
     "text": [
      "✅ Epoch 47: MSE = 0.0006, RMSE = 0.0237, PCC = 0.9380\n"
     ]
    },
    {
     "data": {
      "application/vnd.jupyter.widget-view+json": {
       "model_id": "da9b75349cbc4f2fb593d6472a7acfc8",
       "version_major": 2,
       "version_minor": 0
      },
      "text/plain": [
       "HBox(children=(FloatProgress(value=0.0, description='Validation', max=412.0, style=ProgressStyle(description_w…"
      ]
     },
     "metadata": {},
     "output_type": "display_data"
    },
    {
     "name": "stdout",
     "output_type": "stream",
     "text": [
      "📉 Val RMSE = 0.0346 | LR = 9.8e-06\n",
      "\n",
      "🌟 Epoch 48\n"
     ]
    },
    {
     "data": {
      "application/vnd.jupyter.widget-view+json": {
       "model_id": "c0dacd5ffb6447d38a21e47b033d73cc",
       "version_major": 2,
       "version_minor": 0
      },
      "text/plain": [
       "HBox(children=(FloatProgress(value=0.0, description='Training', max=2748.0, style=ProgressStyle(description_wi…"
      ]
     },
     "metadata": {},
     "output_type": "display_data"
    },
    {
     "name": "stdout",
     "output_type": "stream",
     "text": [
      "✅ Epoch 48: MSE = 0.0006, RMSE = 0.0237, PCC = 0.9383\n"
     ]
    },
    {
     "data": {
      "application/vnd.jupyter.widget-view+json": {
       "model_id": "390811762dd742649b8697bf4a34d3a0",
       "version_major": 2,
       "version_minor": 0
      },
      "text/plain": [
       "HBox(children=(FloatProgress(value=0.0, description='Validation', max=412.0, style=ProgressStyle(description_w…"
      ]
     },
     "metadata": {},
     "output_type": "display_data"
    },
    {
     "name": "stdout",
     "output_type": "stream",
     "text": [
      "📉 Val RMSE = 0.0346 | LR = 4.9e-06\n",
      "\n",
      "🌟 Epoch 49\n"
     ]
    },
    {
     "data": {
      "application/vnd.jupyter.widget-view+json": {
       "model_id": "61c265d5a114488caee73b7a31e5302b",
       "version_major": 2,
       "version_minor": 0
      },
      "text/plain": [
       "HBox(children=(FloatProgress(value=0.0, description='Training', max=2748.0, style=ProgressStyle(description_wi…"
      ]
     },
     "metadata": {},
     "output_type": "display_data"
    },
    {
     "name": "stdout",
     "output_type": "stream",
     "text": [
      "✅ Epoch 49: MSE = 0.0006, RMSE = 0.0236, PCC = 0.9385\n"
     ]
    },
    {
     "data": {
      "application/vnd.jupyter.widget-view+json": {
       "model_id": "709d29891329469abaa2686f112c4e64",
       "version_major": 2,
       "version_minor": 0
      },
      "text/plain": [
       "HBox(children=(FloatProgress(value=0.0, description='Validation', max=412.0, style=ProgressStyle(description_w…"
      ]
     },
     "metadata": {},
     "output_type": "display_data"
    },
    {
     "name": "stdout",
     "output_type": "stream",
     "text": [
      "📉 Val RMSE = 0.0346 | LR = 2.0e-06\n",
      "\n",
      "🌟 Epoch 50\n"
     ]
    },
    {
     "data": {
      "application/vnd.jupyter.widget-view+json": {
       "model_id": "9832b8222dba45f7b7ad532f05159baa",
       "version_major": 2,
       "version_minor": 0
      },
      "text/plain": [
       "HBox(children=(FloatProgress(value=0.0, description='Training', max=2748.0, style=ProgressStyle(description_wi…"
      ]
     },
     "metadata": {},
     "output_type": "display_data"
    },
    {
     "name": "stdout",
     "output_type": "stream",
     "text": [
      "✅ Epoch 50: MSE = 0.0006, RMSE = 0.0237, PCC = 0.9383\n"
     ]
    },
    {
     "data": {
      "application/vnd.jupyter.widget-view+json": {
       "model_id": "721276b99be04f8798f279914cfacc74",
       "version_major": 2,
       "version_minor": 0
      },
      "text/plain": [
       "HBox(children=(FloatProgress(value=0.0, description='Validation', max=412.0, style=ProgressStyle(description_w…"
      ]
     },
     "metadata": {},
     "output_type": "display_data"
    },
    {
     "name": "stdout",
     "output_type": "stream",
     "text": [
      "📉 Val RMSE = 0.0346 | LR = 1.0e-06\n"
     ]
    }
   ],
   "source": [
    "max_epocs = 50\n",
    "\n",
    "model = GPDRPModel(drug_in_dim=30, gsva_dim=658).to(device)\n",
    "optimizer = torch.optim.Adam(model.parameters(), lr=1e-3)\n",
    "scheduler = CosineAnnealingLR(optimizer, T_max=max_epocs, eta_min=1e-6)\n",
    "loss_fn = nn.MSELoss()\n",
    "train_rmses = []\n",
    "val_rmses = []\n",
    "\n",
    "for epoch in range(1, max_epocs+1):\n",
    "    print(f\"\\n🌟 Epoch {epoch}\")\n",
    "    model.train()\n",
    "    total_loss = 0\n",
    "    preds, truths = [], []\n",
    "\n",
    "    train_bar = tqdm(train_loader, desc=\"Training\", leave=False)\n",
    "    for i, (graph_batch, gsva_batch, ic50_batch) in enumerate(train_bar):\n",
    "        graph_batch = graph_batch.to(device)\n",
    "        gsva_batch = gsva_batch.to(device)\n",
    "        ic50_batch = ic50_batch.to(device)\n",
    "\n",
    "        pred = model(graph_batch, gsva_batch)\n",
    "        loss = loss_fn(pred, ic50_batch)\n",
    "\n",
    "        optimizer.zero_grad()\n",
    "        loss.backward()\n",
    "        optimizer.step()\n",
    "\n",
    "        total_loss += loss.item() * len(ic50_batch)\n",
    "\n",
    "        preds.extend(pred.detach().cpu().numpy().flatten())\n",
    "        truths.extend(ic50_batch.detach().cpu().numpy().flatten())\n",
    "\n",
    "        if (i + 1) % 50 == 0:\n",
    "            rmse = root_mean_squared_error(truths, preds)\n",
    "            pcc = pearsonr(truths, preds)[0]\n",
    "            train_bar.set_postfix({\n",
    "                \"Batch\": i + 1,\n",
    "                \"Loss\": loss.item(),\n",
    "                \"RMSE\": f\"{rmse:.4f}\",\n",
    "                \"PCC\": f\"{pcc:.4f}\"\n",
    "            })\n",
    "\n",
    "    avg_loss = total_loss / len(train_loader.dataset)\n",
    "    train_rmse = root_mean_squared_error(truths, preds)\n",
    "    train_pcc = pearsonr(truths, preds)[0]\n",
    "    print(f\"✅ Epoch {epoch}: MSE = {avg_loss:.4f}, RMSE = {train_rmse:.4f}, PCC = {train_pcc:.4f}\")\n",
    "\n",
    "    # 🔍 Validation Phase\n",
    "    model.eval()\n",
    "    val_preds, val_truths = [], []\n",
    "\n",
    "    val_bar = tqdm(val_loader, desc=\"Validation\", leave=False)\n",
    "    with torch.no_grad():\n",
    "        for graph_batch, gsva_batch, ic50_batch in val_bar:\n",
    "            graph_batch = graph_batch.to(device)\n",
    "            gsva_batch = gsva_batch.to(device)\n",
    "            ic50_batch = ic50_batch.to(device)\n",
    "\n",
    "            pred = model(graph_batch, gsva_batch)\n",
    "            val_preds.extend(pred.cpu().numpy().flatten())\n",
    "            val_truths.extend(ic50_batch.cpu().numpy().flatten())\n",
    "\n",
    "    val_rmse = root_mean_squared_error(val_truths, val_preds)\n",
    "    val_pcc = pearsonr(val_truths, val_preds)[0]\n",
    "    \n",
    "    scheduler.step()\n",
    "    current_lr = optimizer.param_groups[0][\"lr\"]\n",
    "    print(f\"📉 Val RMSE = {val_rmse:.4f} | LR = {current_lr:.1e}\")\n",
    "\n",
    "\n",
    "    if val_rmse < best_rmse:\n",
    "        best_rmse = val_rmse\n",
    "        torch.save(model.state_dict(), best_model_path)\n",
    "        print(f\"✅ Saved new best model (RMSE: {val_rmse:.4f})\")\n",
    "    \n",
    "    train_rmses.append(train_rmse)\n",
    "    val_rmses.append(val_rmse)\n"
   ]
  },
  {
   "cell_type": "code",
   "execution_count": 53,
   "id": "8ba9d02e",
   "metadata": {},
   "outputs": [
    {
     "data": {
      "image/png": "[encoded data removed]",
      "text/plain": [
       "<Figure size 640x480 with 1 Axes>"
      ]
     },
     "metadata": {},
     "output_type": "display_data"
    }
   ],
   "source": [
    "import matplotlib.pyplot as plt\n",
    "\n",
    "plt.plot(train_rmses, label=\"Train RMSE\")\n",
    "plt.plot(val_rmses, label=\"Validation RMSE\")\n",
    "plt.xlabel(\"Epoch\")\n",
    "plt.ylabel(\"RMSE\")\n",
    "plt.title(\"Training vs Validation RMSE\")\n",
    "plt.legend()\n",
    "plt.grid(True)\n",
    "plt.show()"
   ]
  },
  {
   "cell_type": "markdown",
   "id": "5fea1704",
   "metadata": {},
   "source": [
    "# Testing and Evaluation"
   ]
  },
  {
   "cell_type": "code",
   "execution_count": 54,
   "id": "e934937a",
   "metadata": {},
   "outputs": [
    {
     "name": "stderr",
     "output_type": "stream",
     "text": [
      "/tmp/ipykernel_75776/2176663123.py:2: FutureWarning: You are using `torch.load` with `weights_only=False` (the current default value), which uses the default pickle module implicitly. It is possible to construct malicious pickle data which will execute arbitrary code during unpickling (See https://github.com/pytorch/pytorch/blob/main/SECURITY.md#untrusted-models for more details). In a future release, the default value for `weights_only` will be flipped to `True`. This limits the functions that could be executed during unpickling. Arbitrary objects will no longer be allowed to be loaded via this mode unless they are explicitly allowlisted by the user via `torch.serialization.add_safe_globals`. We recommend you start setting `weights_only=True` for any use case where you don't have full control of the loaded file. Please open an issue on GitHub for any issues related to this experimental feature.\n",
      "  best_model.load_state_dict(torch.load(\"models/gpdrp_best_model.pt\"))\n"
     ]
    },
    {
     "data": {
      "text/plain": [
       "GPDRPModel(\n",
       "  (drug_encoder): DrugGINEncoder(\n",
       "    (mlp1): Sequential(\n",
       "      (0): Linear(in_features=30, out_features=64, bias=True)\n",
       "      (1): ReLU()\n",
       "      (2): Linear(in_features=64, out_features=64, bias=True)\n",
       "    )\n",
       "    (gin1): GINConv(nn=Sequential(\n",
       "      (0): Linear(in_features=30, out_features=64, bias=True)\n",
       "      (1): ReLU()\n",
       "      (2): Linear(in_features=64, out_features=64, bias=True)\n",
       "    ))\n",
       "    (mlp2): Sequential(\n",
       "      (0): Linear(in_features=64, out_features=64, bias=True)\n",
       "      (1): ReLU()\n",
       "      (2): Linear(in_features=64, out_features=64, bias=True)\n",
       "    )\n",
       "    (gin2): GINConv(nn=Sequential(\n",
       "      (0): Linear(in_features=64, out_features=64, bias=True)\n",
       "      (1): ReLU()\n",
       "      (2): Linear(in_features=64, out_features=64, bias=True)\n",
       "    ))\n",
       "    (fc): Linear(in_features=64, out_features=128, bias=True)\n",
       "  )\n",
       "  (cell_encoder): CellLineEncoder(\n",
       "    (fc1): Linear(in_features=658, out_features=512, bias=True)\n",
       "    (fc2): Linear(in_features=512, out_features=1024, bias=True)\n",
       "    (dropout): Dropout(p=0.2, inplace=False)\n",
       "    (fc3): Linear(in_features=1024, out_features=128, bias=True)\n",
       "  )\n",
       "  (fc): Sequential(\n",
       "    (0): Linear(in_features=256, out_features=1024, bias=True)\n",
       "    (1): ReLU()\n",
       "    (2): Linear(in_features=1024, out_features=128, bias=True)\n",
       "    (3): ReLU()\n",
       "    (4): Linear(in_features=128, out_features=1, bias=True)\n",
       "  )\n",
       ")"
      ]
     },
     "execution_count": 54,
     "metadata": {},
     "output_type": "execute_result"
    }
   ],
   "source": [
    "best_model = GPDRPModel(drug_in_dim=30, gsva_dim=658).to(device)\n",
    "best_model.load_state_dict(torch.load(\"models/gpdrp_best_model.pt\"))\n",
    "best_model.eval()"
   ]
  },
  {
   "cell_type": "code",
   "execution_count": 55,
   "id": "7e4e4802",
   "metadata": {},
   "outputs": [
    {
     "data": {
      "application/vnd.jupyter.widget-view+json": {
       "model_id": "d71d334893da4a088365282b750f5d08",
       "version_major": 2,
       "version_minor": 0
      },
      "text/plain": [
       "HBox(children=(FloatProgress(value=0.0, description='Testing', max=785.0, style=ProgressStyle(description_widt…"
      ]
     },
     "metadata": {},
     "output_type": "display_data"
    },
    {
     "name": "stdout",
     "output_type": "stream",
     "text": [
      "\n"
     ]
    }
   ],
   "source": [
    "test_preds, test_truths = [], []\n",
    "\n",
    "with torch.no_grad():\n",
    "    for graph_batch, gsva_batch, ic50_batch in tqdm(test_loader, desc=\"Testing\"):\n",
    "        graph_batch = graph_batch.to(device)\n",
    "        gsva_batch = gsva_batch.to(device)\n",
    "        ic50_batch = ic50_batch.to(device)\n",
    "\n",
    "        pred = best_model(graph_batch, gsva_batch)\n",
    "        test_preds.extend(pred.cpu().numpy().flatten())\n",
    "        test_truths.extend(ic50_batch.cpu().numpy().flatten())\n"
   ]
  },
  {
   "cell_type": "code",
   "execution_count": 56,
   "id": "7f40e18f",
   "metadata": {},
   "outputs": [
    {
     "name": "stdout",
     "output_type": "stream",
     "text": [
      "🧪 Test RMSE: 0.0351\n",
      "🧪 Test PCC:  0.8622\n"
     ]
    }
   ],
   "source": [
    "test_rmse = root_mean_squared_error(test_truths, test_preds)\n",
    "test_pcc = pearsonr(test_truths, test_preds)[0]\n",
    "\n",
    "print(f\"🧪 Test RMSE: {test_rmse:.4f}\")\n",
    "print(f\"🧪 Test PCC:  {test_pcc:.4f}\")\n"
   ]
  },
  {
   "cell_type": "code",
   "execution_count": 57,
   "id": "2fa2af07",
   "metadata": {},
   "outputs": [
    {
     "data": {
      "image/png": "[encoded data removed]",
      "text/plain": [
       "<Figure size 600x600 with 1 Axes>"
      ]
     },
     "metadata": {},
     "output_type": "display_data"
    }
   ],
   "source": [
    "import matplotlib.pyplot as plt\n",
    "\n",
    "plt.figure(figsize=(6,6))\n",
    "plt.scatter(test_truths, test_preds, alpha=0.3)\n",
    "plt.xlabel(\"True IC50\")\n",
    "plt.ylabel(\"Predicted IC50\")\n",
    "plt.title(f\"Predicted vs True IC50 (PCC={test_pcc:.2f}, RMSE={test_rmse:.2f})\")\n",
    "plt.plot([0, 1], [0, 1], '--', color='gray')  # line y=x\n",
    "plt.grid(True)\n",
    "plt.tight_layout()\n",
    "plt.show()"
   ]
  },
  {
   "cell_type": "code",
   "execution_count": null,
   "id": "1b7a0ed2",
   "metadata": {},
   "outputs": [],
   "source": []
  }
 ],
 "metadata": {
  "kernelspec": {
   "display_name": "base",
   "language": "python",
   "name": "python3"
  },
  "language_info": {
   "codemirror_mode": {
    "name": "ipython",
    "version": 3
   },
   "file_extension": ".py",
   "mimetype": "text/x-python",
   "name": "python",
   "nbconvert_exporter": "python",
   "pygments_lexer": "ipython3",
   "version": "3.11.5"
  }
 },
 "nbformat": 4,
 "nbformat_minor": 5
}
