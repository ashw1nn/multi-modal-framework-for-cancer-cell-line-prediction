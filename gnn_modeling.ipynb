{
 "cells": [
  {
   "cell_type": "markdown",
   "id": "d1d2e939",
   "metadata": {},
   "source": [
    "# Generating Graph from the SMILES representation"
   ]
  },
  {
   "cell_type": "code",
   "execution_count": null,
   "id": "16591856",
   "metadata": {},
   "outputs": [],
   "source": [
    "import numpy as np\n",
    "import pandas as pd\n",
    "\n",
    "from torch_geometric.data import Data\n",
    "import torch\n",
    "\n",
    "from rdkit import Chem\n",
    "from rdkit.Chem import AllChem\n"
   ]
  },
  {
   "cell_type": "code",
   "execution_count": null,
   "id": "ab8c27ed",
   "metadata": {},
   "outputs": [],
   "source": [
    "df = pd.read_csv(\"dataset/GDSC_SMILES_merged.csv\")\n",
    "df = df.dropna(subset=[\"SMILES\"])\n",
    "drug_smiles = dict(zip(df[\"DRUG_NAME\"], df[\"SMILES\"]))"
   ]
  },
  {
   "cell_type": "code",
   "execution_count": null,
   "id": "4a8c9221",
   "metadata": {},
   "outputs": [],
   "source": [
    "drug_smiles"
   ]
  },
  {
   "cell_type": "code",
   "execution_count": null,
   "id": "4918552f",
   "metadata": {},
   "outputs": [],
   "source": [
    "def smiles_to_mol(smiles):\n",
    "    mol = Chem.MolFromSmiles(smiles)\n",
    "    if mol is not None:\n",
    "        Chem.Kekulize(mol)\n",
    "    return mol"
   ]
  },
  {
   "cell_type": "code",
   "execution_count": null,
   "id": "fa4f29f3",
   "metadata": {},
   "outputs": [],
   "source": [
    "def build_atom_vocab(smiles_dict):\n",
    "    atom_set = set()\n",
    "    for smi in smiles_dict.values():\n",
    "        mol = Chem.MolFromSmiles(smi)\n",
    "        if mol:\n",
    "            for atom in mol.GetAtoms():\n",
    "                atom_set.add(atom.GetSymbol())\n",
    "    return sorted(atom_set)"
   ]
  },
  {
   "cell_type": "code",
   "execution_count": null,
   "id": "9b927fc9",
   "metadata": {},
   "outputs": [],
   "source": [
    "atom_vocab = build_atom_vocab(drug_smiles)\n",
    "atom_vocab"
   ]
  },
  {
   "cell_type": "code",
   "execution_count": null,
   "id": "26987945",
   "metadata": {},
   "outputs": [],
   "source": [
    "from rdkit import Chem\n",
    "\n",
    "# Define vocabularies\n",
    "# ATOM_LIST = ['C', 'N', 'O', 'S', 'F', 'P', 'Cl', 'Br', 'I', 'H', 'B', 'Si', 'Na', 'K', 'Li', 'Mg', 'Ca', 'Fe', 'Zn', 'Se', 'Cu']\n",
    "ATOM_LIST = atom_vocab\n",
    "DEGREE_LIST = [0, 1, 2, 3, 4, 5]\n",
    "NUM_H_LIST = [0, 1, 2, 3, 4]\n",
    "VALENCE_LIST = [0, 1, 2, 3, 4, 5, 6]\n",
    "\n",
    "def one_hot_encoding(x, allowable_set):\n",
    "    return [int(x == s) for s in allowable_set]\n",
    "\n",
    "def atom_features(atom):\n",
    "    return one_hot_encoding(atom.GetSymbol(), ATOM_LIST) + \\\n",
    "           one_hot_encoding(atom.GetDegree(), DEGREE_LIST) + \\\n",
    "           one_hot_encoding(atom.GetTotalNumHs(), NUM_H_LIST) + \\\n",
    "           one_hot_encoding(atom.GetImplicitValence(), VALENCE_LIST) + \\\n",
    "           [int(atom.GetIsAromatic())]\n",
    "\n",
    "def mol_to_graph_data_obj(mol):\n",
    "    atoms = mol.GetAtoms()\n",
    "    x = torch.tensor([atom_features(atom) for atom in atoms], dtype=torch.float)\n",
    "\n",
    "    edge_index = []\n",
    "    for bond in mol.GetBonds():\n",
    "        i = bond.GetBeginAtomIdx()\n",
    "        j = bond.GetEndAtomIdx()\n",
    "        edge_index.append((i, j))\n",
    "        edge_index.append((j, i))  # undirected graph\n",
    "\n",
    "    edge_index = torch.tensor(edge_index, dtype=torch.long).t().contiguous()\n",
    "\n",
    "    return Data(x=x, edge_index=edge_index)\n"
   ]
  },
  {
   "cell_type": "code",
   "execution_count": null,
   "id": "c070480f",
   "metadata": {},
   "outputs": [],
   "source": [
    "from torch_geometric.data import InMemoryDataset\n",
    "\n",
    "class DrugGraphDataset(InMemoryDataset):\n",
    "    def __init__(self, smiles_dict):\n",
    "        self.smiles_dict = smiles_dict\n",
    "        super().__init__('.', transform=None, pre_transform=None)\n",
    "        self.data, self.slices = self._process()\n",
    "\n",
    "    def _process(self):\n",
    "        data_list = []\n",
    "        for name, smi in self.smiles_dict.items():\n",
    "            mol = smiles_to_mol(smi)\n",
    "            if mol:\n",
    "                data = mol_to_graph_data_obj(mol)\n",
    "                data.drug_name = name\n",
    "                data_list.append(data)\n",
    "        return self.collate(data_list)\n"
   ]
  },
  {
   "cell_type": "code",
   "execution_count": null,
   "id": "33bbd3ef",
   "metadata": {},
   "outputs": [],
   "source": [
    "dataset = DrugGraphDataset(drug_smiles)\n",
    "print(dataset[0])"
   ]
  },
  {
   "cell_type": "code",
   "execution_count": null,
   "id": "1ecd2d04",
   "metadata": {},
   "outputs": [],
   "source": [
    "mol2 = smiles_to_mol(drug_smiles[\"Camptothecin\"])\n",
    "mol2"
   ]
  },
  {
   "cell_type": "code",
   "execution_count": null,
   "id": "0c1cceb9",
   "metadata": {},
   "outputs": [],
   "source": [
    "from torch_geometric.utils import to_networkx\n",
    "import matplotlib.pyplot as plt\n",
    "import networkx as nx\n",
    "\n",
    "G = to_networkx(dataset[0], to_undirected=True)\n",
    "plt.figure(figsize=(6,6))\n",
    "nx.draw(G, node_size=50)\n",
    "plt.show()\n"
   ]
  },
  {
   "cell_type": "code",
   "execution_count": null,
   "id": "5fb7086b",
   "metadata": {},
   "outputs": [],
   "source": [
    "print(dataset[0].x.shape)\n",
    "print(dataset[0].edge_index.shape)"
   ]
  },
  {
   "cell_type": "code",
   "execution_count": null,
   "id": "c5a4b64b",
   "metadata": {},
   "outputs": [],
   "source": [
    "print(len(dataset[0].x[0]))\n",
    "print(len(dataset[0].edge_index[0]))"
   ]
  },
  {
   "cell_type": "code",
   "execution_count": null,
   "id": "28e39617",
   "metadata": {},
   "outputs": [],
   "source": [
    "print(dataset[100])"
   ]
  },
  {
   "cell_type": "markdown",
   "id": "15504e3d",
   "metadata": {},
   "source": [
    "# Preparing the Dataset"
   ]
  },
  {
   "cell_type": "code",
   "execution_count": null,
   "id": "a6a87591",
   "metadata": {},
   "outputs": [],
   "source": [
    "# Load merged GDSC dataset with drug, cell line, IC50, and SMILES\n",
    "df = pd.read_csv(\"dataset/GDSC_SMILES_merged.csv\", index_col=0)\n",
    "df = df.dropna(subset=[\"SMILES\"])\n",
    "\n",
    "# Load GSVA matrix (rows = cell line, cols = pathways OR vice versa)\n",
    "gsva_df = pd.read_csv(\"dataset/ccle_gsva_scores.csv\", index_col=0)\n"
   ]
  },
  {
   "cell_type": "code",
   "execution_count": null,
   "id": "bbef8cff",
   "metadata": {},
   "outputs": [],
   "source": [
    "df"
   ]
  },
  {
   "cell_type": "code",
   "execution_count": null,
   "id": "a0a5ba92",
   "metadata": {},
   "outputs": [],
   "source": [
    "cell_lines_available = set(gsva_df.columns)"
   ]
  },
  {
   "cell_type": "code",
   "execution_count": null,
   "id": "b922c4e2",
   "metadata": {},
   "outputs": [],
   "source": [
    "# Normalize IC50 if needed\n",
    "df[\"LN_IC50\"] = df[\"LN_IC50\"].astype(float)\n",
    "df[\"IC50_NORMALIZED\"] = 1 / (1 + (1/(np.exp(df[\"LN_IC50\"])**0.1)) )"
   ]
  },
  {
   "cell_type": "code",
   "execution_count": null,
   "id": "d38696ba",
   "metadata": {},
   "outputs": [],
   "source": [
    "df.info()"
   ]
  },
  {
   "cell_type": "code",
   "execution_count": null,
   "id": "34a5deb0",
   "metadata": {},
   "outputs": [],
   "source": [
    "df.describe()"
   ]
  },
  {
   "cell_type": "code",
   "execution_count": null,
   "id": "96fc3843",
   "metadata": {},
   "outputs": [],
   "source": [
    "df"
   ]
  },
  {
   "cell_type": "code",
   "execution_count": null,
   "id": "7b80ac39",
   "metadata": {},
   "outputs": [],
   "source": [
    "cell_lines_obs = set(df[\"CELL_LINE_NAME\"].unique())"
   ]
  },
  {
   "cell_type": "code",
   "execution_count": null,
   "id": "726ae3b5",
   "metadata": {},
   "outputs": [],
   "source": [
    "print(\"GDSC df cell lines:\", df[\"CELL_LINE_NAME\"].unique()[:5])\n",
    "print(\"GSVA df index:\", gsva_df.columns[:5])"
   ]
  },
  {
   "cell_type": "code",
   "execution_count": null,
   "id": "ce36becf",
   "metadata": {},
   "outputs": [],
   "source": [
    "# Normalize GDSC\n",
    "df[\"CELL_LINE_NAME\"] = df[\"CELL_LINE_NAME\"].str.strip().str.upper()\n",
    "cell_lines_obs = set(df[\"CELL_LINE_NAME\"].unique())\n",
    "\n",
    "# Normalize GSVA\n",
    "gsva_df.columns = gsva_df.columns.str.strip().str.upper()\n",
    "cell_lines_available = sorted(set(gsva_df.columns.str.split(\"_\").str[0].str.upper()))"
   ]
  },
  {
   "cell_type": "code",
   "execution_count": null,
   "id": "41d51989",
   "metadata": {},
   "outputs": [],
   "source": [
    "common_cell_lines = cell_lines_obs.intersection(cell_lines_available)\n",
    "print(\"Now common cell lines:\", len(common_cell_lines))"
   ]
  },
  {
   "cell_type": "code",
   "execution_count": null,
   "id": "4fbef97b",
   "metadata": {},
   "outputs": [],
   "source": [
    "len(cell_lines_obs)"
   ]
  },
  {
   "cell_type": "code",
   "execution_count": null,
   "id": "72af74b4",
   "metadata": {},
   "outputs": [],
   "source": [
    "cell_lines_obs"
   ]
  },
  {
   "cell_type": "code",
   "execution_count": null,
   "id": "14955917",
   "metadata": {},
   "outputs": [],
   "source": [
    "cell_lines_available[:10]"
   ]
  },
  {
   "cell_type": "code",
   "execution_count": null,
   "id": "f5f0b8de",
   "metadata": {},
   "outputs": [],
   "source": [
    "import re\n",
    "\n",
    "def clean_name(name):\n",
    "    return re.sub(r'[^A-Za-z0-9]', '', name).upper()"
   ]
  },
  {
   "cell_type": "code",
   "execution_count": null,
   "id": "407b9cd1",
   "metadata": {},
   "outputs": [],
   "source": [
    "cell_lines_available = {clean_name(name) for name in cell_lines_available}\n",
    "cell_lines_obs = {clean_name(name) for name in cell_lines_obs}"
   ]
  },
  {
   "cell_type": "code",
   "execution_count": null,
   "id": "b1753e21",
   "metadata": {},
   "outputs": [],
   "source": [
    "common_cell_lines = cell_lines_obs.intersection(cell_lines_available)\n",
    "print(\"Common cell lines:\", len(common_cell_lines))"
   ]
  },
  {
   "cell_type": "code",
   "execution_count": null,
   "id": "0fa9a285",
   "metadata": {},
   "outputs": [],
   "source": [
    "df[\"CELL_LINE_NAME_CLEAN\"] = df[\"CELL_LINE_NAME\"].apply(clean_name)\n",
    "df = df[df[\"CELL_LINE_NAME_CLEAN\"].isin(common_cell_lines)]"
   ]
  },
  {
   "cell_type": "code",
   "execution_count": null,
   "id": "77318609",
   "metadata": {},
   "outputs": [],
   "source": [
    "df"
   ]
  },
  {
   "cell_type": "code",
   "execution_count": null,
   "id": "8321d3bc",
   "metadata": {},
   "outputs": [],
   "source": [
    "len(cell_lines_available)"
   ]
  },
  {
   "cell_type": "code",
   "execution_count": null,
   "id": "2a397e94",
   "metadata": {},
   "outputs": [],
   "source": [
    "gsva_df"
   ]
  },
  {
   "cell_type": "code",
   "execution_count": null,
   "id": "a239b26b",
   "metadata": {},
   "outputs": [],
   "source": [
    "gsva_df.columns = gsva_df.columns.str.split(\"_\").str[0].str.upper().to_series().apply(clean_name)\n",
    "gsva_df.columns.has_duplicates"
   ]
  },
  {
   "cell_type": "code",
   "execution_count": null,
   "id": "8de1b14d",
   "metadata": {},
   "outputs": [],
   "source": [
    "gsva_df = gsva_df.loc[:, ~gsva_df.columns.duplicated()]\n",
    "print(gsva_df.columns.has_duplicates)\n",
    "gsva_df"
   ]
  },
  {
   "cell_type": "markdown",
   "id": "6045d229",
   "metadata": {},
   "source": [
    "# Building the PyTorch Dataset"
   ]
  },
  {
   "cell_type": "code",
   "execution_count": null,
   "id": "835018fe",
   "metadata": {},
   "outputs": [],
   "source": [
    "from torch.utils.data import Dataset\n",
    "from torch_geometric.data import Data\n",
    "\n",
    "class DrugResponseDataset(Dataset):\n",
    "    def __init__(self, dataframe, gsva_df, drug_smiles, atom_vocab):\n",
    "        self.df = dataframe.reset_index(drop=True)\n",
    "        self.gsva_df = gsva_df\n",
    "        self.drug_smiles = drug_smiles\n",
    "        self.atom_vocab = atom_vocab\n",
    "\n",
    "    def __len__(self):\n",
    "        return len(self.df)\n",
    "\n",
    "    def __getitem__(self, idx):\n",
    "        row = self.df.iloc[idx]\n",
    "        drug = row[\"DRUG_NAME\"]\n",
    "        cell_line = row[\"CELL_LINE_NAME_CLEAN\"]\n",
    "        y = row[\"IC50_NORMALIZED\"]\n",
    "\n",
    "        if drug not in self.drug_smiles:\n",
    "            raise ValueError(f\"Drug '{drug}' not found in SMILES dictionary\")\n",
    "\n",
    "        smi = self.drug_smiles[drug]\n",
    "        mol = smiles_to_mol(smi)\n",
    "\n",
    "        if mol is None:\n",
    "            raise ValueError(f\"Invalid SMILES for {drug}: {smi}\")\n",
    "\n",
    "        graph = mol_to_graph_data_obj(mol)\n",
    "        graph.idx = idx\n",
    "\n",
    "        if cell_line not in self.gsva_df.columns:\n",
    "            raise ValueError(f\"Cell line '{cell_line}' not in GSVA\")\n",
    "\n",
    "        gsva_vec = torch.tensor(self.gsva_df[cell_line].values, dtype=torch.float)\n",
    "        return graph, gsva_vec, torch.tensor([y], dtype=torch.float)\n"
   ]
  },
  {
   "cell_type": "code",
   "execution_count": null,
   "id": "4a3f8063",
   "metadata": {},
   "outputs": [],
   "source": [
    "from torch_geometric.loader import DataLoader as PyGLoader\n",
    "from torch.utils.data import DataLoader as TorchLoader\n",
    "from torch_geometric.data import Batch\n",
    "\n",
    "# Custom collate to combine graph batches + tensor batches\n",
    "def collate_fn(batch):\n",
    "    graphs, gsvectors, targets = zip(*batch)\n",
    "    return (\n",
    "        Batch.from_data_list(graphs),\n",
    "        torch.stack(gsvectors),\n",
    "        torch.stack(targets)\n",
    "    )"
   ]
  },
  {
   "cell_type": "code",
   "execution_count": null,
   "id": "6aff042f",
   "metadata": {},
   "outputs": [],
   "source": [
    "from sklearn.model_selection import train_test_split\n",
    "\n",
    "cell_lines = df[\"CELL_LINE_NAME_CLEAN\"].unique()\n",
    "train_cl, temp_cl = train_test_split(cell_lines, test_size=0.3, random_state=42)\n",
    "val_cl, test_cl = train_test_split(temp_cl, test_size=2/3, random_state=42)"
   ]
  },
  {
   "cell_type": "code",
   "execution_count": null,
   "id": "984bae08",
   "metadata": {},
   "outputs": [],
   "source": [
    "train_df = df[df[\"CELL_LINE_NAME_CLEAN\"].isin(train_cl)]\n",
    "val_df   = df[df[\"CELL_LINE_NAME_CLEAN\"].isin(val_cl)]\n",
    "test_df  = df[df[\"CELL_LINE_NAME_CLEAN\"].isin(test_cl)]"
   ]
  },
  {
   "cell_type": "code",
   "execution_count": null,
   "id": "832b124c",
   "metadata": {},
   "outputs": [],
   "source": [
    "train_dataset = DrugResponseDataset(train_df, gsva_df, drug_smiles, atom_vocab)\n",
    "val_dataset   = DrugResponseDataset(val_df, gsva_df, drug_smiles, atom_vocab)\n",
    "test_dataset  = DrugResponseDataset(test_df, gsva_df, drug_smiles, atom_vocab)"
   ]
  },
  {
   "cell_type": "code",
   "execution_count": null,
   "id": "18a8e0b1",
   "metadata": {},
   "outputs": [],
   "source": [
    "train_loader = TorchLoader(train_dataset, batch_size=32, shuffle=True, collate_fn=collate_fn)\n",
    "val_loader   = TorchLoader(val_dataset, batch_size=32, shuffle=False, collate_fn=collate_fn)\n",
    "test_loader  = TorchLoader(test_dataset, batch_size=32, shuffle=False, collate_fn=collate_fn)"
   ]
  },
  {
   "cell_type": "code",
   "execution_count": null,
   "id": "ec2020f6",
   "metadata": {},
   "outputs": [],
   "source": [
    "# train_dataset = DrugResponseDataset(df, gsva_df, drug_smiles, atom_vocab)\n",
    "# train_loader = TorchLoader(train_dataset, batch_size=32, shuffle=True, collate_fn=collate_fn)"
   ]
  },
  {
   "cell_type": "markdown",
   "id": "2b3e3fa9",
   "metadata": {},
   "source": [
    "# Building the Model Architecture"
   ]
  },
  {
   "cell_type": "code",
   "execution_count": null,
   "id": "29daf33b",
   "metadata": {},
   "outputs": [],
   "source": [
    "import torch\n",
    "import torch.nn as nn\n",
    "import torch.nn.functional as F\n",
    "from torch_geometric.nn import GINConv, global_max_pool\n",
    "from torch_geometric.data import Data\n",
    "\n",
    "from tqdm.notebook import tqdm\n",
    "\n",
    "from sklearn.metrics import root_mean_squared_error\n",
    "from scipy.stats import pearsonr\n",
    "\n",
    "from torch.optim.lr_scheduler import ReduceLROnPlateau, CosineAnnealingLR"
   ]
  },
  {
   "cell_type": "code",
   "execution_count": null,
   "id": "e3372f00",
   "metadata": {},
   "outputs": [],
   "source": [
    "class DrugGINEncoder(nn.Module):\n",
    "    def __init__(self, input_dim, hidden_dim=64, out_dim=128):\n",
    "        super().__init__()\n",
    "\n",
    "        # MLPs for GIN layers\n",
    "        self.mlp1 = nn.Sequential(\n",
    "            nn.Linear(input_dim, hidden_dim),\n",
    "            nn.ReLU(),\n",
    "            nn.Linear(hidden_dim, hidden_dim)\n",
    "        )\n",
    "        self.gin1 = GINConv(self.mlp1)\n",
    "\n",
    "        self.mlp2 = nn.Sequential(\n",
    "            nn.Linear(hidden_dim, hidden_dim),\n",
    "            nn.ReLU(),\n",
    "            nn.Linear(hidden_dim, hidden_dim)\n",
    "        )\n",
    "        self.gin2 = GINConv(self.mlp2)\n",
    "\n",
    "        self.fc = nn.Linear(hidden_dim, out_dim)  # Final output: 128-dim\n",
    "\n",
    "    def forward(self, x, edge_index, batch):\n",
    "        x = self.gin1(x, edge_index)\n",
    "        x = F.relu(x)\n",
    "        x = self.gin2(x, edge_index)\n",
    "        x = F.relu(x)\n",
    "\n",
    "        # Global pooling to get graph-level embedding\n",
    "        x = global_max_pool(x, batch)\n",
    "\n",
    "        # Final FC layer\n",
    "        x = self.fc(x)\n",
    "        return x"
   ]
  },
  {
   "cell_type": "code",
   "execution_count": null,
   "id": "3236a496",
   "metadata": {},
   "outputs": [],
   "source": [
    "class CellLineEncoder(nn.Module):\n",
    "    def __init__(self, input_dim=658): # gsva_vector.shape = (658,)\n",
    "        super().__init__()\n",
    "        self.fc1 = nn.Linear(input_dim, 512)\n",
    "        self.fc2 = nn.Linear(512, 1024)\n",
    "        self.dropout = nn.Dropout(0.2)\n",
    "        self.fc3 = nn.Linear(1024, 128)\n",
    "\n",
    "    def forward(self, x):\n",
    "        x = F.relu(self.fc1(x))\n",
    "        x = F.relu(self.fc2(x))\n",
    "        x = self.dropout(x)\n",
    "        x = self.fc3(x)\n",
    "        return x\n"
   ]
  },
  {
   "cell_type": "code",
   "execution_count": null,
   "id": "7f216388",
   "metadata": {},
   "outputs": [],
   "source": [
    "dataset[0]"
   ]
  },
  {
   "cell_type": "code",
   "execution_count": null,
   "id": "89798135",
   "metadata": {},
   "outputs": [],
   "source": [
    "class GPDRPModel(nn.Module):\n",
    "    def __init__(self, drug_in_dim=30, gsva_dim=658):\n",
    "        super().__init__()\n",
    "        self.drug_encoder = DrugGINEncoder(drug_in_dim)\n",
    "        self.cell_encoder = CellLineEncoder(gsva_dim)\n",
    "        self.fc = nn.Sequential(\n",
    "            nn.Linear(256, 1024),\n",
    "            nn.ReLU(),\n",
    "            nn.Linear(1024, 128),\n",
    "            nn.ReLU(),\n",
    "            nn.Linear(128, 1)  # final IC50 prediction\n",
    "        )\n",
    "\n",
    "    def forward(self, data, gsva):\n",
    "        drug_repr = self.drug_encoder(data.x, data.edge_index, data.batch)\n",
    "        cell_repr = self.cell_encoder(gsva)\n",
    "        fused = torch.cat([drug_repr, cell_repr], dim=1)\n",
    "        return self.fc(fused)"
   ]
  },
  {
   "cell_type": "code",
   "execution_count": null,
   "id": "7fc39e60",
   "metadata": {},
   "outputs": [],
   "source": [
    "device = torch.device(\"cuda\" if torch.cuda.is_available() else \"cpu\")\n",
    "device"
   ]
  },
  {
   "cell_type": "code",
   "execution_count": null,
   "id": "da4d1ae9",
   "metadata": {},
   "outputs": [],
   "source": [
    "best_rmse = float(\"inf\")\n",
    "best_model_path = \"models/gpdrp_best_model.pt\""
   ]
  },
  {
   "cell_type": "markdown",
   "id": "06b67a91",
   "metadata": {},
   "source": [
    "# Training"
   ]
  },
  {
   "cell_type": "code",
   "execution_count": null,
   "id": "438cff0f",
   "metadata": {},
   "outputs": [],
   "source": [
    "max_epocs = 50\n",
    "\n",
    "model = GPDRPModel(drug_in_dim=30, gsva_dim=658).to(device)\n",
    "optimizer = torch.optim.Adam(model.parameters(), lr=1e-3)\n",
    "scheduler = CosineAnnealingLR(optimizer, T_max=max_epocs, eta_min=1e-6)\n",
    "loss_fn = nn.MSELoss()\n",
    "train_rmses = []\n",
    "val_rmses = []\n",
    "\n",
    "for epoch in range(1, max_epocs+1):\n",
    "    print(f\"\\n🌟 Epoch {epoch}\")\n",
    "    model.train()\n",
    "    total_loss = 0\n",
    "    preds, truths = [], []\n",
    "\n",
    "    train_bar = tqdm(train_loader, desc=\"Training\", leave=False)\n",
    "    for i, (graph_batch, gsva_batch, ic50_batch) in enumerate(train_bar):\n",
    "        graph_batch = graph_batch.to(device)\n",
    "        gsva_batch = gsva_batch.to(device)\n",
    "        ic50_batch = ic50_batch.to(device)\n",
    "\n",
    "        pred = model(graph_batch, gsva_batch)\n",
    "        loss = loss_fn(pred, ic50_batch)\n",
    "\n",
    "        optimizer.zero_grad()\n",
    "        loss.backward()\n",
    "        optimizer.step()\n",
    "\n",
    "        total_loss += loss.item() * len(ic50_batch)\n",
    "\n",
    "        preds.extend(pred.detach().cpu().numpy().flatten())\n",
    "        truths.extend(ic50_batch.detach().cpu().numpy().flatten())\n",
    "\n",
    "        if (i + 1) % 50 == 0:\n",
    "            rmse = root_mean_squared_error(truths, preds)\n",
    "            pcc = pearsonr(truths, preds)[0]\n",
    "            train_bar.set_postfix({\n",
    "                \"Batch\": i + 1,\n",
    "                \"Loss\": loss.item(),\n",
    "                \"RMSE\": f\"{rmse:.4f}\",\n",
    "                \"PCC\": f\"{pcc:.4f}\"\n",
    "            })\n",
    "\n",
    "    avg_loss = total_loss / len(train_loader.dataset)\n",
    "    train_rmse = root_mean_squared_error(truths, preds)\n",
    "    train_pcc = pearsonr(truths, preds)[0]\n",
    "    print(f\"✅ Epoch {epoch}: MSE = {avg_loss:.4f}, RMSE = {train_rmse:.4f}, PCC = {train_pcc:.4f}\")\n",
    "\n",
    "    # 🔍 Validation Phase\n",
    "    model.eval()\n",
    "    val_preds, val_truths = [], []\n",
    "\n",
    "    val_bar = tqdm(val_loader, desc=\"Validation\", leave=False)\n",
    "    with torch.no_grad():\n",
    "        for graph_batch, gsva_batch, ic50_batch in val_bar:\n",
    "            graph_batch = graph_batch.to(device)\n",
    "            gsva_batch = gsva_batch.to(device)\n",
    "            ic50_batch = ic50_batch.to(device)\n",
    "\n",
    "            pred = model(graph_batch, gsva_batch)\n",
    "            val_preds.extend(pred.cpu().numpy().flatten())\n",
    "            val_truths.extend(ic50_batch.cpu().numpy().flatten())\n",
    "\n",
    "    val_rmse = root_mean_squared_error(val_truths, val_preds)\n",
    "    val_pcc = pearsonr(val_truths, val_preds)[0]\n",
    "    \n",
    "    scheduler.step()\n",
    "    current_lr = optimizer.param_groups[0][\"lr\"]\n",
    "    print(f\"📉 Val RMSE = {val_rmse:.4f} | LR = {current_lr:.1e}\")\n",
    "\n",
    "\n",
    "    if val_rmse < best_rmse:\n",
    "        best_rmse = val_rmse\n",
    "        torch.save(model.state_dict(), best_model_path)\n",
    "        print(f\"✅ Saved new best model (RMSE: {val_rmse:.4f})\")\n",
    "    \n",
    "    train_rmses.append(train_rmse)\n",
    "    val_rmses.append(val_rmse)\n"
   ]
  },
  {
   "cell_type": "code",
   "execution_count": null,
   "id": "8ba9d02e",
   "metadata": {},
   "outputs": [],
   "source": [
    "import matplotlib.pyplot as plt\n",
    "\n",
    "plt.plot(train_rmses, label=\"Train RMSE\")\n",
    "plt.plot(val_rmses, label=\"Validation RMSE\")\n",
    "plt.xlabel(\"Epoch\")\n",
    "plt.ylabel(\"RMSE\")\n",
    "plt.title(\"Training vs Validation RMSE\")\n",
    "plt.legend()\n",
    "plt.grid(True)\n",
    "plt.show()"
   ]
  },
  {
   "cell_type": "markdown",
   "id": "5fea1704",
   "metadata": {},
   "source": [
    "# Testing and Evaluation"
   ]
  },
  {
   "cell_type": "code",
   "execution_count": null,
   "id": "e934937a",
   "metadata": {},
   "outputs": [],
   "source": [
    "best_model = GPDRPModel(drug_in_dim=30, gsva_dim=658).to(device)\n",
    "best_model.load_state_dict(torch.load(\"models/gpdrp_best_model.pt\"))\n",
    "best_model.eval()"
   ]
  },
  {
   "cell_type": "code",
   "execution_count": null,
   "id": "7e4e4802",
   "metadata": {},
   "outputs": [],
   "source": [
    "test_preds, test_truths = [], []\n",
    "\n",
    "with torch.no_grad():\n",
    "    for graph_batch, gsva_batch, ic50_batch in tqdm(test_loader, desc=\"Testing\"):\n",
    "        graph_batch = graph_batch.to(device)\n",
    "        gsva_batch = gsva_batch.to(device)\n",
    "        ic50_batch = ic50_batch.to(device)\n",
    "\n",
    "        pred = best_model(graph_batch, gsva_batch)\n",
    "        test_preds.extend(pred.cpu().numpy().flatten())\n",
    "        test_truths.extend(ic50_batch.cpu().numpy().flatten())\n"
   ]
  },
  {
   "cell_type": "code",
   "execution_count": null,
   "id": "7f40e18f",
   "metadata": {},
   "outputs": [],
   "source": [
    "test_rmse = root_mean_squared_error(test_truths, test_preds)\n",
    "test_pcc = pearsonr(test_truths, test_preds)[0]\n",
    "\n",
    "print(f\"🧪 Test RMSE: {test_rmse:.4f}\")\n",
    "print(f\"🧪 Test PCC:  {test_pcc:.4f}\")\n"
   ]
  },
  {
   "cell_type": "code",
   "execution_count": null,
   "id": "2fa2af07",
   "metadata": {},
   "outputs": [],
   "source": [
    "import matplotlib.pyplot as plt\n",
    "\n",
    "plt.figure(figsize=(6,6))\n",
    "plt.scatter(test_truths, test_preds, alpha=0.3)\n",
    "plt.xlabel(\"True IC50\")\n",
    "plt.ylabel(\"Predicted IC50\")\n",
    "plt.title(f\"Predicted vs True IC50 (PCC={test_pcc:.2f}, RMSE={test_rmse:.2f})\")\n",
    "plt.plot([0, 1], [0, 1], '--', color='gray')  # line y=x\n",
    "plt.grid(True)\n",
    "plt.tight_layout()\n",
    "plt.show()"
   ]
  },
  {
   "cell_type": "code",
   "execution_count": null,
   "id": "1b7a0ed2",
   "metadata": {},
   "outputs": [],
   "source": []
  }
 ],
 "metadata": {
  "kernelspec": {
   "display_name": "base",
   "language": "python",
   "name": "python3"
  },
  "language_info": {
   "codemirror_mode": {
    "name": "ipython",
    "version": 3
   },
   "file_extension": ".py",
   "mimetype": "text/x-python",
   "name": "python",
   "nbconvert_exporter": "python",
   "pygments_lexer": "ipython3",
   "version": "3.11.5"
  }
 },
 "nbformat": 4,
 "nbformat_minor": 5
}
